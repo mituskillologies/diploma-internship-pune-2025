{
 "cells": [
  {
   "cell_type": "markdown",
   "id": "43f54415-caa4-4618-a35e-8912f3c6bccc",
   "metadata": {},
   "source": [
    "##### Simple Class"
   ]
  },
  {
   "cell_type": "code",
   "execution_count": 5,
   "id": "340251a8-ede0-4af9-aa13-ee2186a3a5e9",
   "metadata": {},
   "outputs": [],
   "source": [
    "# simple class definition\n",
    "class Test:\n",
    "    # simple method / function\n",
    "    def show(self):\n",
    "        print('Hello World!')"
   ]
  },
  {
   "cell_type": "code",
   "execution_count": 6,
   "id": "4e6881e8-d41e-4aff-a563-4fc35a38accb",
   "metadata": {},
   "outputs": [],
   "source": [
    "# create the object\n",
    "obj = Test()"
   ]
  },
  {
   "cell_type": "code",
   "execution_count": 7,
   "id": "48cf9d4b-dbaa-4f87-b43a-7633ecec06d9",
   "metadata": {},
   "outputs": [
    {
     "name": "stdout",
     "output_type": "stream",
     "text": [
      "Hello World!\n"
     ]
    }
   ],
   "source": [
    "obj.show()"
   ]
  },
  {
   "cell_type": "markdown",
   "id": "fe843811-6d4c-4248-9244-f8d37ccda016",
   "metadata": {},
   "source": [
    "In object-oriented programming, a constructor is a special method within a class that is automatically invoked when a new object of that class is created. Its primary purpose is to initialize the object's attributes or members, setting them to their initial states. Constructors ensure that new objects are in a valid and usable state when they are first created. "
   ]
  },
  {
   "cell_type": "markdown",
   "id": "6df7b6fb-299e-4722-9c87-03d310213690",
   "metadata": {},
   "source": [
    "##### Define properties / attaributes using constructor"
   ]
  },
  {
   "cell_type": "code",
   "execution_count": 10,
   "id": "8963a262-bf8b-44f5-8e18-332bc9ad89a8",
   "metadata": {},
   "outputs": [],
   "source": [
    "class MyClass:\n",
    "    def __init__(self):   # constructor\n",
    "        print('Hello World')"
   ]
  },
  {
   "cell_type": "code",
   "execution_count": 11,
   "id": "35c8bda8-d568-40da-a5bb-cacbb952c8bb",
   "metadata": {},
   "outputs": [
    {
     "name": "stdout",
     "output_type": "stream",
     "text": [
      "Hello World\n"
     ]
    }
   ],
   "source": [
    "m = MyClass()"
   ]
  },
  {
   "cell_type": "code",
   "execution_count": 12,
   "id": "ab207205-79e3-48bf-80ae-e60897dfa1d1",
   "metadata": {},
   "outputs": [],
   "source": [
    "class MyClass:\n",
    "    def __init__(self, x):   # constructor\n",
    "        print('Hello', x)"
   ]
  },
  {
   "cell_type": "code",
   "execution_count": 13,
   "id": "12a44383-3605-42e3-b067-e68bedf22787",
   "metadata": {},
   "outputs": [
    {
     "name": "stdout",
     "output_type": "stream",
     "text": [
      "Hello Tushar\n"
     ]
    }
   ],
   "source": [
    "m = MyClass('Tushar')"
   ]
  },
  {
   "cell_type": "code",
   "execution_count": 14,
   "id": "6d627187-de53-4577-9a26-ee46b66da1a4",
   "metadata": {},
   "outputs": [],
   "source": [
    "class MyClass:\n",
    "    def __init__(self, x):   # constructor\n",
    "        self.name = x\n",
    "        print('Hello', self.name)"
   ]
  },
  {
   "cell_type": "code",
   "execution_count": 15,
   "id": "868738ba-8c93-4902-b574-ee42904be721",
   "metadata": {},
   "outputs": [
    {
     "name": "stdout",
     "output_type": "stream",
     "text": [
      "Hello Tushar\n"
     ]
    }
   ],
   "source": [
    "m = MyClass('Tushar')"
   ]
  },
  {
   "cell_type": "code",
   "execution_count": 16,
   "id": "4edcbc91-b9c0-44b4-8846-10a2200a3bc5",
   "metadata": {},
   "outputs": [
    {
     "data": {
      "text/plain": [
       "'Tushar'"
      ]
     },
     "execution_count": 16,
     "metadata": {},
     "output_type": "execute_result"
    }
   ],
   "source": [
    "m.name"
   ]
  },
  {
   "cell_type": "code",
   "execution_count": 24,
   "id": "852022da-f4d1-48bd-8424-a2930ad63f8e",
   "metadata": {},
   "outputs": [],
   "source": [
    "class Calc:\n",
    "    def __init__(self, num):   # constructor\n",
    "        self.num = num\n",
    "    def square(self):     # method-1\n",
    "        print('Square of',self.num,'is:', self.num * self.num)\n",
    "    def cube(self):       # method-2\n",
    "        print('Square of',self.num,'is:', self.num ** 3)"
   ]
  },
  {
   "cell_type": "code",
   "execution_count": 25,
   "id": "225c0adc-9e4a-43d8-a878-d8e37827063b",
   "metadata": {},
   "outputs": [],
   "source": [
    "c1 = Calc(5)\n",
    "c2 = Calc(7)"
   ]
  },
  {
   "cell_type": "code",
   "execution_count": 26,
   "id": "9cac4b92-8794-4e0a-b4a8-0ee407c47f18",
   "metadata": {},
   "outputs": [
    {
     "name": "stdout",
     "output_type": "stream",
     "text": [
      "Square of 5 is: 25\n"
     ]
    }
   ],
   "source": [
    "c1.square()"
   ]
  },
  {
   "cell_type": "code",
   "execution_count": 27,
   "id": "f7a97a68-4be0-46e8-9318-49ded0790a22",
   "metadata": {},
   "outputs": [
    {
     "name": "stdout",
     "output_type": "stream",
     "text": [
      "Square of 7 is: 49\n"
     ]
    }
   ],
   "source": [
    "c2.square()"
   ]
  },
  {
   "cell_type": "code",
   "execution_count": 28,
   "id": "15165d88-e0bd-49a4-86a9-4b370b72114c",
   "metadata": {},
   "outputs": [
    {
     "name": "stdout",
     "output_type": "stream",
     "text": [
      "Square of 5 is: 125\n"
     ]
    }
   ],
   "source": [
    "c1.cube()"
   ]
  },
  {
   "cell_type": "code",
   "execution_count": 29,
   "id": "81725c2a-d1c0-4589-a45e-244702c51791",
   "metadata": {},
   "outputs": [
    {
     "name": "stdout",
     "output_type": "stream",
     "text": [
      "Square of 7 is: 343\n"
     ]
    }
   ],
   "source": [
    "c2.cube()"
   ]
  },
  {
   "cell_type": "code",
   "execution_count": 30,
   "id": "7b98e3a5-b368-49ce-abd1-79242f142482",
   "metadata": {},
   "outputs": [
    {
     "data": {
      "text/plain": [
       "(5, 7)"
      ]
     },
     "execution_count": 30,
     "metadata": {},
     "output_type": "execute_result"
    }
   ],
   "source": [
    "c1.num, c2.num"
   ]
  },
  {
   "cell_type": "code",
   "execution_count": 32,
   "id": "0c590c2f-6ae0-4331-9424-fa571ba25cf2",
   "metadata": {},
   "outputs": [],
   "source": [
    "class Person:\n",
    "    def __init__(self, n, a):\n",
    "        self.name = n\n",
    "        self.age = a \n",
    "    def show(self):\n",
    "        print('Your data')\n",
    "        print(self.name, self.age)"
   ]
  },
  {
   "cell_type": "code",
   "execution_count": 34,
   "id": "157ccfb6-a1ad-4e48-8daf-caa42b9aa282",
   "metadata": {},
   "outputs": [],
   "source": [
    "p1 = Person('Ram', 34)\n",
    "p2 = Person('Jayant', 22)"
   ]
  },
  {
   "cell_type": "code",
   "execution_count": 35,
   "id": "528da3ad-93c9-4158-a6b2-5f22f0810252",
   "metadata": {},
   "outputs": [
    {
     "name": "stdout",
     "output_type": "stream",
     "text": [
      "Your data\n",
      "Ram 34\n"
     ]
    }
   ],
   "source": [
    "p1.show()"
   ]
  },
  {
   "cell_type": "code",
   "execution_count": 36,
   "id": "b38742e5-2470-4172-b682-a5c7fe1022d7",
   "metadata": {},
   "outputs": [
    {
     "name": "stdout",
     "output_type": "stream",
     "text": [
      "Your data\n",
      "Jayant 22\n"
     ]
    }
   ],
   "source": [
    "p2.show()"
   ]
  },
  {
   "cell_type": "code",
   "execution_count": 37,
   "id": "4681b882-0683-4a25-8d9d-03fedd44fc80",
   "metadata": {},
   "outputs": [],
   "source": [
    "p2.name = 'Raju'"
   ]
  },
  {
   "cell_type": "code",
   "execution_count": 38,
   "id": "5effab36-beb6-4c2b-a03d-21a875124c50",
   "metadata": {},
   "outputs": [
    {
     "name": "stdout",
     "output_type": "stream",
     "text": [
      "Your data\n",
      "Raju 22\n"
     ]
    }
   ],
   "source": [
    "p2.show()"
   ]
  },
  {
   "cell_type": "code",
   "execution_count": 39,
   "id": "433ead1c-2e74-4466-8a64-d97398c8590c",
   "metadata": {},
   "outputs": [],
   "source": [
    "class Person:\n",
    "    def __init__(self, n, a = 25):\n",
    "        self.name = n\n",
    "        self.age = a \n",
    "    def show(self):\n",
    "        print('Your data')\n",
    "        print(self.name, self.age)"
   ]
  },
  {
   "cell_type": "code",
   "execution_count": 41,
   "id": "20d2f2f0-cef6-4ac8-971d-c06c3a25273a",
   "metadata": {},
   "outputs": [],
   "source": [
    "p3 = Person('Ajay', 30)"
   ]
  },
  {
   "cell_type": "code",
   "execution_count": 42,
   "id": "c32231d4-e71e-4d0d-992a-17a711e278f6",
   "metadata": {},
   "outputs": [
    {
     "name": "stdout",
     "output_type": "stream",
     "text": [
      "Your data\n",
      "Ajay 30\n"
     ]
    }
   ],
   "source": [
    "p3.show()"
   ]
  },
  {
   "cell_type": "code",
   "execution_count": 43,
   "id": "bc6e7485-4d52-4636-8929-a4c9734b265d",
   "metadata": {},
   "outputs": [
    {
     "name": "stdout",
     "output_type": "stream",
     "text": [
      "Your data\n",
      "Vijay 25\n"
     ]
    }
   ],
   "source": [
    "p4 = Person('Vijay')\n",
    "p4.show()"
   ]
  },
  {
   "cell_type": "code",
   "execution_count": 46,
   "id": "a2ecbfb2-e592-4955-a9aa-1c1af0b9053b",
   "metadata": {},
   "outputs": [],
   "source": [
    "p5 = Person(a=26, n='Riya')   # Keyword arguments"
   ]
  },
  {
   "cell_type": "code",
   "execution_count": 47,
   "id": "57b73252-8e96-4a1f-8879-eb780aae8728",
   "metadata": {},
   "outputs": [
    {
     "name": "stdout",
     "output_type": "stream",
     "text": [
      "Your data\n",
      "Riya 26\n"
     ]
    }
   ],
   "source": [
    "p5.show()"
   ]
  },
  {
   "cell_type": "code",
   "execution_count": 48,
   "id": "ce92be02-8fe1-49e0-bd0e-01acf51563bc",
   "metadata": {},
   "outputs": [],
   "source": [
    "# Write method isEligible(), which will print true is the person is eligible for driving license\n",
    "# and false if not "
   ]
  },
  {
   "cell_type": "code",
   "execution_count": 49,
   "id": "76e9b715-72bc-4f0f-adc1-1bdf875f3279",
   "metadata": {},
   "outputs": [],
   "source": [
    "class Person:\n",
    "    def __init__(self, n, a = 25):\n",
    "        self.name = n\n",
    "        self.age = a \n",
    "    def show(self):\n",
    "        print('Your data')\n",
    "        print(self.name, self.age)\n",
    "    def isEligible(self):\n",
    "        if self.age >= 18:\n",
    "            return True\n",
    "        else:\n",
    "            return False"
   ]
  },
  {
   "cell_type": "code",
   "execution_count": 50,
   "id": "7269b392-ea1e-4ad5-a15d-31d93c0ef5cb",
   "metadata": {},
   "outputs": [
    {
     "data": {
      "text/plain": [
       "False"
      ]
     },
     "execution_count": 50,
     "metadata": {},
     "output_type": "execute_result"
    }
   ],
   "source": [
    "p6 = Person('Anita', 16)\n",
    "p6.isEligible()"
   ]
  },
  {
   "cell_type": "code",
   "execution_count": 51,
   "id": "e0a47bea-8ad1-4e87-9f19-fff8b769132c",
   "metadata": {},
   "outputs": [
    {
     "data": {
      "text/plain": [
       "True"
      ]
     },
     "execution_count": 51,
     "metadata": {},
     "output_type": "execute_result"
    }
   ],
   "source": [
    "p7 = Person('Anil', 23)\n",
    "p7.isEligible()"
   ]
  },
  {
   "cell_type": "markdown",
   "id": "990a3165-4ed9-4509-9e8b-50e860a361cc",
   "metadata": {},
   "source": [
    "##### Class variables"
   ]
  },
  {
   "cell_type": "code",
   "execution_count": 57,
   "id": "80973a32-5c60-420f-a8cd-de2536bdaabb",
   "metadata": {},
   "outputs": [],
   "source": [
    "class Person:\n",
    "    city = 'Pune'   # class variable\n",
    "    def __init__(self, n, a = 25):\n",
    "        self.name = n\n",
    "        self.age = a \n",
    "    def show(self):\n",
    "        print('Your data')\n",
    "        print(self.name, self.age)\n",
    "    def isEligible(self):\n",
    "        if self.age >= 18:\n",
    "            return True\n",
    "        else:\n",
    "            return False"
   ]
  },
  {
   "cell_type": "code",
   "execution_count": 54,
   "id": "638aa831-7380-4cb8-9a17-2cb083eaa542",
   "metadata": {},
   "outputs": [],
   "source": [
    "p6 = Person('Anita', 16)\n",
    "p7 = Person('Anil', 23)"
   ]
  },
  {
   "cell_type": "code",
   "execution_count": 55,
   "id": "8de86e55-f7f3-46ed-815a-af57a1f951e0",
   "metadata": {},
   "outputs": [
    {
     "data": {
      "text/plain": [
       "'Pune'"
      ]
     },
     "execution_count": 55,
     "metadata": {},
     "output_type": "execute_result"
    }
   ],
   "source": [
    "p6.city"
   ]
  },
  {
   "cell_type": "code",
   "execution_count": 56,
   "id": "04f26636-1a0d-46c0-91a6-92a8fbcfccfd",
   "metadata": {},
   "outputs": [
    {
     "data": {
      "text/plain": [
       "'Pune'"
      ]
     },
     "execution_count": 56,
     "metadata": {},
     "output_type": "execute_result"
    }
   ],
   "source": [
    "p7.city"
   ]
  },
  {
   "cell_type": "code",
   "execution_count": 58,
   "id": "8386fe9f-77b9-47f8-8003-da2182d16f1c",
   "metadata": {},
   "outputs": [],
   "source": [
    "p6.city = 'Mumbai'"
   ]
  },
  {
   "cell_type": "code",
   "execution_count": 59,
   "id": "817f12b2-a724-4467-b517-3f25782a012a",
   "metadata": {},
   "outputs": [
    {
     "data": {
      "text/plain": [
       "'Pune'"
      ]
     },
     "execution_count": 59,
     "metadata": {},
     "output_type": "execute_result"
    }
   ],
   "source": [
    "p7.city"
   ]
  },
  {
   "cell_type": "markdown",
   "id": "a1ea0df4-7d7f-4c3c-ba50-12a998f359e5",
   "metadata": {},
   "source": [
    "##### Data Hiding"
   ]
  },
  {
   "cell_type": "code",
   "execution_count": 64,
   "id": "d1abd982-4982-4f30-888b-c77b32028ea2",
   "metadata": {},
   "outputs": [],
   "source": [
    "class Player:\n",
    "    def __init__(self, n, m):\n",
    "        self.name = n\n",
    "        self.matches = m\n",
    "    def display(self):\n",
    "        print(self.name,'has played',self.matches,'matches.')"
   ]
  },
  {
   "cell_type": "code",
   "execution_count": 65,
   "id": "4452b6e4-396f-4594-a460-30a6aa8211dc",
   "metadata": {},
   "outputs": [],
   "source": [
    "p1 = Player('Vijay', 122)"
   ]
  },
  {
   "cell_type": "code",
   "execution_count": 66,
   "id": "78b0e47a-77cb-4a39-a473-b3d159c48b8d",
   "metadata": {},
   "outputs": [
    {
     "name": "stdout",
     "output_type": "stream",
     "text": [
      "Vijay has played 122 matches.\n"
     ]
    }
   ],
   "source": [
    "p1.display()"
   ]
  },
  {
   "cell_type": "code",
   "execution_count": 67,
   "id": "bc21be0a-e513-465e-9977-1a0011971790",
   "metadata": {},
   "outputs": [
    {
     "data": {
      "text/plain": [
       "('Vijay', 122)"
      ]
     },
     "execution_count": 67,
     "metadata": {},
     "output_type": "execute_result"
    }
   ],
   "source": [
    "p1.name, p1.matches"
   ]
  },
  {
   "cell_type": "code",
   "execution_count": 68,
   "id": "7dc6c4d3-2b98-4272-ace2-3d0fb519a105",
   "metadata": {},
   "outputs": [],
   "source": [
    "class Player:\n",
    "    def __init__(self, n, m):\n",
    "        self.__name = n\n",
    "        self.matches = m\n",
    "    def display(self):\n",
    "        print(self.__name,'has played',self.matches,'matches.')"
   ]
  },
  {
   "cell_type": "code",
   "execution_count": 69,
   "id": "7cc1892d-3f9c-49b9-9888-17d290c05e3e",
   "metadata": {},
   "outputs": [
    {
     "name": "stdout",
     "output_type": "stream",
     "text": [
      "Vijay has played 122 matches.\n"
     ]
    }
   ],
   "source": [
    "p1 = Player('Vijay', 122)\n",
    "p1.display()"
   ]
  },
  {
   "cell_type": "code",
   "execution_count": 70,
   "id": "856c118c-0269-49f3-bb42-85c118a57e9b",
   "metadata": {},
   "outputs": [
    {
     "ename": "AttributeError",
     "evalue": "'Player' object has no attribute '__name'",
     "output_type": "error",
     "traceback": [
      "\u001b[0;31m---------------------------------------------------------------------------\u001b[0m",
      "\u001b[0;31mAttributeError\u001b[0m                            Traceback (most recent call last)",
      "Cell \u001b[0;32mIn[70], line 1\u001b[0m\n\u001b[0;32m----> 1\u001b[0m \u001b[43mp1\u001b[49m\u001b[38;5;241;43m.\u001b[39;49m\u001b[43m__name\u001b[49m, p1\u001b[38;5;241m.\u001b[39mmatches\n",
      "\u001b[0;31mAttributeError\u001b[0m: 'Player' object has no attribute '__name'"
     ]
    }
   ],
   "source": [
    "p1.__name, p1.matches"
   ]
  },
  {
   "cell_type": "markdown",
   "id": "841c5b63-6433-4546-b396-00278e1ad566",
   "metadata": {},
   "source": [
    "##### Inheritance "
   ]
  },
  {
   "cell_type": "code",
   "execution_count": 72,
   "id": "c420b119-a609-40d1-a76b-8539fab61152",
   "metadata": {},
   "outputs": [],
   "source": [
    "class Person(object):    # Super class\n",
    "    city = 'Pune'   # class variable\n",
    "    def __init__(self, n, a = 25):\n",
    "        self.name = n\n",
    "        self.age = a \n",
    "    def show(self):\n",
    "        print('Your data')\n",
    "        print(self.name, self.age)\n",
    "\n",
    "class Employee(Person):   # Sub-class\n",
    "    def isEligible(self):\n",
    "        if self.age >= 18:\n",
    "            return True\n",
    "        else:\n",
    "            return False"
   ]
  },
  {
   "cell_type": "code",
   "execution_count": 73,
   "id": "ed9d91cc-f794-4deb-be25-733f5583701e",
   "metadata": {},
   "outputs": [],
   "source": [
    "emp = Person('Ani', 16)"
   ]
  },
  {
   "cell_type": "code",
   "execution_count": 74,
   "id": "42a85948-9f78-42ea-8810-d39441411ca8",
   "metadata": {},
   "outputs": [
    {
     "name": "stdout",
     "output_type": "stream",
     "text": [
      "Your data\n",
      "Ani 16\n"
     ]
    }
   ],
   "source": [
    "emp.show()"
   ]
  },
  {
   "cell_type": "code",
   "execution_count": 76,
   "id": "b593d85b-86ce-4ca7-be09-e29e04b9d98f",
   "metadata": {},
   "outputs": [
    {
     "data": {
      "text/plain": [
       "False"
      ]
     },
     "execution_count": 76,
     "metadata": {},
     "output_type": "execute_result"
    }
   ],
   "source": [
    "emp1 = Employee('Raj', 16)\n",
    "emp1.isEligible()"
   ]
  },
  {
   "cell_type": "code",
   "execution_count": 77,
   "id": "cc300216-57a9-4408-9a73-b07dfd8e224e",
   "metadata": {},
   "outputs": [
    {
     "data": {
      "text/plain": [
       "True"
      ]
     },
     "execution_count": 77,
     "metadata": {},
     "output_type": "execute_result"
    }
   ],
   "source": [
    "emp1 = Employee('Raj')\n",
    "emp1.isEligible()"
   ]
  },
  {
   "cell_type": "markdown",
   "id": "a1e70fed-39d5-4752-abfa-f7325d3ed2a4",
   "metadata": {},
   "source": [
    "##### Check the subclass"
   ]
  },
  {
   "cell_type": "code",
   "execution_count": 80,
   "id": "95a17fe0-370b-4b21-8da6-2f119bbc1c75",
   "metadata": {},
   "outputs": [],
   "source": [
    "class Base(object):\n",
    "    pass\n",
    "\n",
    "class Derived(Base):\n",
    "    pass"
   ]
  },
  {
   "cell_type": "code",
   "execution_count": 81,
   "id": "e192abd8-778a-4c8e-b126-e574bd63c4b3",
   "metadata": {},
   "outputs": [
    {
     "data": {
      "text/plain": [
       "False"
      ]
     },
     "execution_count": 81,
     "metadata": {},
     "output_type": "execute_result"
    }
   ],
   "source": [
    "issubclass(Base, Derived)"
   ]
  },
  {
   "cell_type": "code",
   "execution_count": 82,
   "id": "3960d184-775b-435a-8f09-594d7381c170",
   "metadata": {},
   "outputs": [
    {
     "data": {
      "text/plain": [
       "True"
      ]
     },
     "execution_count": 82,
     "metadata": {},
     "output_type": "execute_result"
    }
   ],
   "source": [
    "issubclass(Derived, Base)"
   ]
  },
  {
   "cell_type": "code",
   "execution_count": 83,
   "id": "3d340ad8-1563-4e4f-a5ab-40bba4554c91",
   "metadata": {},
   "outputs": [],
   "source": [
    "b = Base()\n",
    "d = Derived()"
   ]
  },
  {
   "cell_type": "code",
   "execution_count": 84,
   "id": "b5859bc2-4696-40d7-81ca-c82827f44419",
   "metadata": {},
   "outputs": [
    {
     "data": {
      "text/plain": [
       "False"
      ]
     },
     "execution_count": 84,
     "metadata": {},
     "output_type": "execute_result"
    }
   ],
   "source": [
    "isinstance(b, Derived)"
   ]
  },
  {
   "cell_type": "code",
   "execution_count": 85,
   "id": "3310a3ac-b771-494c-8534-46d4511d060c",
   "metadata": {},
   "outputs": [
    {
     "data": {
      "text/plain": [
       "True"
      ]
     },
     "execution_count": 85,
     "metadata": {},
     "output_type": "execute_result"
    }
   ],
   "source": [
    "isinstance(d, Derived)"
   ]
  },
  {
   "cell_type": "markdown",
   "id": "fc6abc5d-da10-4b5d-b5b0-a601fa6ce63d",
   "metadata": {},
   "source": [
    "##### Mutiple Inheritance"
   ]
  },
  {
   "attachments": {
    "5690abe4-f8f5-4fba-930b-9a38419397db.png": {
     "image/png": "[encoded data removed]"
    }
   },
   "cell_type": "markdown",
   "id": "aa0055dc-b16d-48c4-98fb-69034c216105",
   "metadata": {},
   "source": [
    "![image.png](attachment:5690abe4-f8f5-4fba-930b-9a38419397db.png)"
   ]
  },
  {
   "cell_type": "code",
   "execution_count": 88,
   "id": "4e2ff45c-6982-46fa-8840-a40903ae203d",
   "metadata": {},
   "outputs": [],
   "source": [
    "class Base1(object):\n",
    "    def __init__(self):\n",
    "        self.str1 = \"Rajesh\"\n",
    "        print('Base1')\n",
    "\n",
    "class Base2(object):\n",
    "    def __init__(self):\n",
    "        self.str2 = \"Radha\"\n",
    "        print('Base2')\n",
    "\n",
    "class Derived(Base1, Base2):\n",
    "    def __init__(self):\n",
    "        Base1.__init__(self)\n",
    "        Base2.__init__(self)\n",
    "        print('Derived')\n",
    "    def printValues(self):\n",
    "        print(self.str1, self.str2)"
   ]
  },
  {
   "cell_type": "code",
   "execution_count": 89,
   "id": "0d3dcb32-2927-4d89-a625-1814061aa294",
   "metadata": {},
   "outputs": [
    {
     "name": "stdout",
     "output_type": "stream",
     "text": [
      "Base1\n",
      "Base2\n",
      "Derived\n"
     ]
    }
   ],
   "source": [
    "d = Derived()"
   ]
  },
  {
   "cell_type": "code",
   "execution_count": 90,
   "id": "5de435e6-df56-4966-bc50-dfc20955160e",
   "metadata": {},
   "outputs": [
    {
     "name": "stdout",
     "output_type": "stream",
     "text": [
      "Rajesh Radha\n"
     ]
    }
   ],
   "source": [
    "d.printValues()"
   ]
  },
  {
   "cell_type": "markdown",
   "id": "9bd2c47a-e4a7-40af-8692-4350cfd3b3ec",
   "metadata": {},
   "source": [
    "##### Polymorphism"
   ]
  },
  {
   "cell_type": "markdown",
   "id": "4a868628-8841-4a45-8a1e-fdf2bd1f2fa1",
   "metadata": {},
   "source": [
    "The Simple Idea: The ability for different objects to respond to the same method call in their own, unique way. The name means \"many forms.\""
   ]
  },
  {
   "cell_type": "code",
   "execution_count": 92,
   "id": "309dae9b-d969-4251-9d29-eee9a1934450",
   "metadata": {},
   "outputs": [],
   "source": [
    "class Dog:\n",
    "    def speak(self):\n",
    "        print('Bark')\n",
    "\n",
    "class Cat:\n",
    "    def speak(self):\n",
    "        print('Meow')"
   ]
  },
  {
   "cell_type": "code",
   "execution_count": 93,
   "id": "08488255-166a-4430-8b55-5148c618cdd5",
   "metadata": {},
   "outputs": [],
   "source": [
    "def animal_speak(animal):\n",
    "    animal.speak()"
   ]
  },
  {
   "cell_type": "code",
   "execution_count": 94,
   "id": "da58445d-279c-4914-aeaa-c3c06f7d15a9",
   "metadata": {},
   "outputs": [],
   "source": [
    "dog = Dog()\n",
    "cat = Cat()"
   ]
  },
  {
   "cell_type": "code",
   "execution_count": 95,
   "id": "2173ab96-d0ee-47d6-964e-70cfd6ea52be",
   "metadata": {},
   "outputs": [
    {
     "name": "stdout",
     "output_type": "stream",
     "text": [
      "Bark\n"
     ]
    }
   ],
   "source": [
    "animal_speak(dog)"
   ]
  },
  {
   "cell_type": "code",
   "execution_count": 96,
   "id": "c2dd0639-34a9-4cff-92a2-e2b8c9c96c7c",
   "metadata": {},
   "outputs": [
    {
     "name": "stdout",
     "output_type": "stream",
     "text": [
      "Meow\n"
     ]
    }
   ],
   "source": [
    "animal_speak(cat)"
   ]
  },
  {
   "cell_type": "markdown",
   "id": "d646b8f2-8d3c-47fa-a60b-b667395160e7",
   "metadata": {},
   "source": [
    "##### Operator Overloading"
   ]
  },
  {
   "cell_type": "markdown",
   "id": "4b569b0d-7c0f-4574-b371-f01c4c4af8a5",
   "metadata": {},
   "source": [
    "Operator overloading allows you to redefine how standard operators like +, -, *, ==, and > work with your custom objects. Essentially, you're giving special meaning to these operators for a class you've created."
   ]
  },
  {
   "cell_type": "code",
   "execution_count": 98,
   "id": "0743a11e-3a47-4793-948a-5b44cfcddbb2",
   "metadata": {},
   "outputs": [],
   "source": [
    "class A:\n",
    "    def __init__(self, a):\n",
    "        self.a = a\n",
    "\n",
    "    def __add__(self, o):\n",
    "        return self.a + o.a"
   ]
  },
  {
   "cell_type": "code",
   "execution_count": 100,
   "id": "dd5f8ee9-98d8-49e3-a25d-d76d93bc582b",
   "metadata": {},
   "outputs": [],
   "source": [
    "obj1 = A(23)\n",
    "obj2 = A(77)"
   ]
  },
  {
   "cell_type": "code",
   "execution_count": 101,
   "id": "77d57cfa-30c6-40b2-8132-0400956467b5",
   "metadata": {},
   "outputs": [
    {
     "data": {
      "text/plain": [
       "100"
      ]
     },
     "execution_count": 101,
     "metadata": {},
     "output_type": "execute_result"
    }
   ],
   "source": [
    "obj1 + obj2"
   ]
  },
  {
   "cell_type": "code",
   "execution_count": 102,
   "id": "1a9801b9-9d30-4b01-98ac-7e0ecb3e26dc",
   "metadata": {},
   "outputs": [],
   "source": [
    "obj3 = A('Pune')\n",
    "obj4 = A('Maharashtra')"
   ]
  },
  {
   "cell_type": "code",
   "execution_count": 103,
   "id": "814150e2-c538-4556-8a41-ab20b2d5ad44",
   "metadata": {},
   "outputs": [
    {
     "data": {
      "text/plain": [
       "'PuneMaharashtra'"
      ]
     },
     "execution_count": 103,
     "metadata": {},
     "output_type": "execute_result"
    }
   ],
   "source": [
    "obj3 + obj4"
   ]
  },
  {
   "cell_type": "markdown",
   "id": "05ce0bb4-5e2a-4ba4-ba94-21760dc801eb",
   "metadata": {},
   "source": [
    "Operator\tDunder Method\tExample\n",
    "+\t__add__(self, other)\tobj1 + obj2\n",
    "-\t__sub__(self, other)\tobj1 - obj2\n",
    "*\t__mul__(self, other)\tobj1 * obj2\n",
    "/\t__truediv__(self, other)\tobj1 / obj2\n",
    "#ERROR!\t__eq__(self, other)\tobj1 == obj2\n",
    "!=\t__ne__(self, other)\tobj1 != obj2\n",
    "<\t__lt__(self, other)\tobj1 < obj2\n",
    ">\t__gt__(self, other)\tobj1 > obj2\n",
    ">=\t__ge__(self, other)\tobj1 >= obj2\n",
    "len()\t__len__(self)\tlen(obj)\n",
    "str()\t__str__(self)\tstr(obj)"
   ]
  },
  {
   "cell_type": "markdown",
   "id": "be30540d-70a1-4c96-add1-972198608cbc",
   "metadata": {},
   "source": [
    "##### Destructor"
   ]
  },
  {
   "cell_type": "markdown",
   "id": "b3fa660a-a0d4-45ef-9511-42c578a6c1f5",
   "metadata": {},
   "source": [
    "A destructor is a special member function of a class that is automatically called when an object of that class is destroyed. Its primary purpose is to deallocate any resources that the object might have acquired during its lifetime, such as dynamically allocated memory, file handles, or network connections."
   ]
  },
  {
   "cell_type": "code",
   "execution_count": 108,
   "id": "412e624d-ea2e-4242-a159-195f6e1acc35",
   "metadata": {},
   "outputs": [],
   "source": [
    "class Employee:\n",
    "    def __init__(self):   # constructor\n",
    "        print('Object Created!')\n",
    "\n",
    "    def __del__(self):    # destructor\n",
    "        print('Object Deleted!')"
   ]
  },
  {
   "cell_type": "code",
   "execution_count": 109,
   "id": "1d535b13-1fcd-471d-b518-762d0927647b",
   "metadata": {},
   "outputs": [
    {
     "name": "stdout",
     "output_type": "stream",
     "text": [
      "Object Created!\n"
     ]
    }
   ],
   "source": [
    "emp = Employee()"
   ]
  },
  {
   "cell_type": "code",
   "execution_count": 111,
   "id": "4654d6e6-30b5-4705-8b5c-d069382701dd",
   "metadata": {},
   "outputs": [
    {
     "name": "stdout",
     "output_type": "stream",
     "text": [
      "Object Deleted!\n"
     ]
    }
   ],
   "source": [
    "del emp"
   ]
  },
  {
   "cell_type": "code",
   "execution_count": null,
   "id": "84e7b571-b447-4863-b2cf-75487d19aeeb",
   "metadata": {},
   "outputs": [],
   "source": []
  }
 ],
 "metadata": {
  "kernelspec": {
   "display_name": "Python 3 (ipykernel)",
   "language": "python",
   "name": "python3"
  },
  "language_info": {
   "codemirror_mode": {
    "name": "ipython",
    "version": 3
   },
   "file_extension": ".py",
   "mimetype": "text/x-python",
   "name": "python",
   "nbconvert_exporter": "python",
   "pygments_lexer": "ipython3",
   "version": "3.10.12"
  }
 },
 "nbformat": 4,
 "nbformat_minor": 5
}
