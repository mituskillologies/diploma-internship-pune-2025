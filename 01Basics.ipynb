{
 "cells": [
  {
   "cell_type": "code",
   "execution_count": 8,
   "id": "f19712e3-1288-498f-b8d9-a03170f30f8b",
   "metadata": {},
   "outputs": [
    {
     "name": "stdout",
     "output_type": "stream",
     "text": [
      "hello world\n"
     ]
    }
   ],
   "source": [
    "print(\"hello world\")"
   ]
  },
  {
   "cell_type": "code",
   "execution_count": 10,
   "id": "e06a30d6-f3c7-4a84-b861-81e01f0b61fc",
   "metadata": {},
   "outputs": [],
   "source": [
    "num = 76"
   ]
  },
  {
   "cell_type": "code",
   "execution_count": 12,
   "id": "7a64246e-6739-4ed8-a952-1e4645b02938",
   "metadata": {},
   "outputs": [
    {
     "name": "stdout",
     "output_type": "stream",
     "text": [
      "76\n"
     ]
    }
   ],
   "source": [
    "print(num)"
   ]
  },
  {
   "cell_type": "code",
   "execution_count": 14,
   "id": "6962aff8-994b-464f-b091-6fa9d639327a",
   "metadata": {},
   "outputs": [
    {
     "data": {
      "text/plain": [
       "76"
      ]
     },
     "execution_count": 14,
     "metadata": {},
     "output_type": "execute_result"
    }
   ],
   "source": [
    "num"
   ]
  },
  {
   "cell_type": "code",
   "execution_count": 16,
   "id": "9a5ce9d5-a949-433b-8e3b-2afd1ce9f931",
   "metadata": {},
   "outputs": [],
   "source": [
    "name = \"riya\""
   ]
  },
  {
   "cell_type": "code",
   "execution_count": 18,
   "id": "ad991085-111c-415d-a935-506fb0e6fd17",
   "metadata": {},
   "outputs": [
    {
     "data": {
      "text/plain": [
       "'riya'"
      ]
     },
     "execution_count": 18,
     "metadata": {},
     "output_type": "execute_result"
    }
   ],
   "source": [
    "name"
   ]
  },
  {
   "cell_type": "code",
   "execution_count": 22,
   "id": "f33bacc2-afd4-4f51-b99e-451efefc5393",
   "metadata": {},
   "outputs": [],
   "source": [
    "rate_of_interest = 10"
   ]
  },
  {
   "cell_type": "code",
   "execution_count": 24,
   "id": "b012ac04-9f61-4a89-9c20-111bf248a4fd",
   "metadata": {},
   "outputs": [
    {
     "data": {
      "text/plain": [
       "10"
      ]
     },
     "execution_count": 24,
     "metadata": {},
     "output_type": "execute_result"
    }
   ],
   "source": [
    "rate_of_interest"
   ]
  },
  {
   "cell_type": "code",
   "execution_count": 26,
   "id": "d02cbd6a-6556-4217-94ea-09f9093904aa",
   "metadata": {},
   "outputs": [
    {
     "ename": "SyntaxError",
     "evalue": "invalid syntax (1229414940.py, line 1)",
     "output_type": "error",
     "traceback": [
      "\u001b[0;36m  Cell \u001b[0;32mIn[26], line 1\u001b[0;36m\u001b[0m\n\u001b[0;31m    pass = 10\u001b[0m\n\u001b[0m         ^\u001b[0m\n\u001b[0;31mSyntaxError\u001b[0m\u001b[0;31m:\u001b[0m invalid syntax\n"
     ]
    }
   ],
   "source": [
    "pass = 10"
   ]
  },
  {
   "cell_type": "code",
   "execution_count": 28,
   "id": "6cde5b86-68a3-4df0-ab34-638666259968",
   "metadata": {},
   "outputs": [],
   "source": [
    "Pass = 10"
   ]
  },
  {
   "cell_type": "code",
   "execution_count": 30,
   "id": "db703bb7-2e2b-4efd-b7c5-d78f438ea1db",
   "metadata": {},
   "outputs": [
    {
     "data": {
      "text/plain": [
       "10"
      ]
     },
     "execution_count": 30,
     "metadata": {},
     "output_type": "execute_result"
    }
   ],
   "source": [
    "Pass"
   ]
  },
  {
   "cell_type": "code",
   "execution_count": 32,
   "id": "c7f5d93e-3503-40a3-af0a-b02223a89343",
   "metadata": {},
   "outputs": [],
   "source": [
    "num = 11\n",
    "num2 = 12.12\n",
    "num3 = 'Adi'"
   ]
  },
  {
   "cell_type": "code",
   "execution_count": 34,
   "id": "ba6b4d3b-ae0b-450d-bbb2-d8faa301e8fe",
   "metadata": {},
   "outputs": [
    {
     "data": {
      "text/plain": [
       "int"
      ]
     },
     "execution_count": 34,
     "metadata": {},
     "output_type": "execute_result"
    }
   ],
   "source": [
    "type(num)"
   ]
  },
  {
   "cell_type": "code",
   "execution_count": 36,
   "id": "93240daa-4078-4ab5-81d6-30f93e429594",
   "metadata": {},
   "outputs": [
    {
     "data": {
      "text/plain": [
       "float"
      ]
     },
     "execution_count": 36,
     "metadata": {},
     "output_type": "execute_result"
    }
   ],
   "source": [
    "type(num2)"
   ]
  },
  {
   "cell_type": "code",
   "execution_count": 38,
   "id": "5f90fd30-4f7e-4f25-9002-e3cc7fdbf6db",
   "metadata": {},
   "outputs": [
    {
     "data": {
      "text/plain": [
       "str"
      ]
     },
     "execution_count": 38,
     "metadata": {},
     "output_type": "execute_result"
    }
   ],
   "source": [
    "type(num3)"
   ]
  },
  {
   "cell_type": "code",
   "execution_count": 40,
   "id": "0ba311ed-0109-4ba4-bd73-4f67378e9d4b",
   "metadata": {},
   "outputs": [],
   "source": [
    "num = 2134873254 ** 231"
   ]
  },
  {
   "cell_type": "code",
   "execution_count": 42,
   "id": "947d583e-2f98-4b0c-9fe9-cc78b1762d67",
   "metadata": {},
   "outputs": [
    {
     "data": {
      "text/plain": [
       "12160579114483705435608032731893460588545131669792914727815882502089693558301042965378123507621450555037971046281548100639900491183856941891788366437940720815522785725097504387446227018764749764162823715494112830557720853054784036715760490009335579737721065419660253624244924210519063028913625208442787491747309800268576702903577960494080637865827540321575729097839753106621015391695530852287908651504387495582991320923285553854415492209897883931476651138412063436813755804906555914463515438793364992414060293833590044551131004187592017774333021102367545605133218287436767335338758671723025645458893762473615768948102380780743370467203619519552134637883819602522279961030729475458778869814911809669897307137808216211132501326616537859621691342872420235610747317665135904346740251856095348954561234830663722395317145071635297549343162973806463711926725557596280710631456297975565604279990239494278695829626181521428341580093479951813951676765155277343544858621726640207239852071063335970561616689163327823242102469576792962413133201509785548696916811664274561991211133835439422551558069774925479509594077447578139702958335214505621902975039609143871360918955417377359280361375452329506029205630154250693706022245089750452069129163511048512146357700820651646958272564680825058577980409473448212470783076750019764658359467524271326508688552301421504790415119414664041345890933268895342983061137197586059534529726136286095872966001034717192775926155737103347218527932489977710113257994996691067352004640146398825438743888906852158956523582083843888054783523534802540919819469326097395910927020295310017015702354222398675004411824999649797810231191884930221176036368746864624573060280040301433162397407852708008884225705394872135906784882797933963986414881642708065134166864526395319103227066695817410382341529561660342053049019637153875150593265348967816081903775174754111064434409046986612018739172803327237310519234067809134928103440828384089875849747273807557835340094282554073529641165154115246035783445989813950596384960862125728242857742952669034752346298642026416572781244000273838454594082340813052518244714816244904067388189963129676806391594068475904"
      ]
     },
     "execution_count": 42,
     "metadata": {},
     "output_type": "execute_result"
    }
   ],
   "source": [
    "num"
   ]
  },
  {
   "cell_type": "code",
   "execution_count": 44,
   "id": "a8171ebf-d553-486f-aac3-a395fdaeaea0",
   "metadata": {},
   "outputs": [],
   "source": [
    "# float"
   ]
  },
  {
   "cell_type": "code",
   "execution_count": 46,
   "id": "4d1d1008-abf0-42f1-b7ee-4f4616068c2b",
   "metadata": {},
   "outputs": [],
   "source": [
    "num2 = 10e3"
   ]
  },
  {
   "cell_type": "code",
   "execution_count": 48,
   "id": "668544ab-ff82-4647-8969-191d72470272",
   "metadata": {},
   "outputs": [
    {
     "data": {
      "text/plain": [
       "float"
      ]
     },
     "execution_count": 48,
     "metadata": {},
     "output_type": "execute_result"
    }
   ],
   "source": [
    "type(num2)"
   ]
  },
  {
   "cell_type": "code",
   "execution_count": 50,
   "id": "b28d4d01-6c97-4b0d-98d6-a26382659582",
   "metadata": {},
   "outputs": [
    {
     "data": {
      "text/plain": [
       "10000.0"
      ]
     },
     "execution_count": 50,
     "metadata": {},
     "output_type": "execute_result"
    }
   ],
   "source": [
    "num2"
   ]
  },
  {
   "cell_type": "code",
   "execution_count": 52,
   "id": "be869fbb-7c35-4954-bca9-320242ad21df",
   "metadata": {},
   "outputs": [],
   "source": [
    "# string"
   ]
  },
  {
   "cell_type": "code",
   "execution_count": 54,
   "id": "078f0c7d-7e6d-42e8-bdeb-b32aa5bb9d5b",
   "metadata": {},
   "outputs": [],
   "source": [
    "sent = \"I like Python Programming\""
   ]
  },
  {
   "cell_type": "code",
   "execution_count": 56,
   "id": "50c2fe80-4a82-4d0b-a767-d9709f5fcb74",
   "metadata": {},
   "outputs": [
    {
     "data": {
      "text/plain": [
       "'I like Python Programming'"
      ]
     },
     "execution_count": 56,
     "metadata": {},
     "output_type": "execute_result"
    }
   ],
   "source": [
    "sent"
   ]
  },
  {
   "cell_type": "code",
   "execution_count": 60,
   "id": "830081ba-6cea-4f98-b8ef-0c7123bf244e",
   "metadata": {},
   "outputs": [],
   "source": [
    "sent = 'I like \"Python\" Programming'"
   ]
  },
  {
   "cell_type": "code",
   "execution_count": 62,
   "id": "b17bff85-3255-44c7-92e2-4c997ca5a53d",
   "metadata": {},
   "outputs": [
    {
     "data": {
      "text/plain": [
       "'I like \"Python\" Programming'"
      ]
     },
     "execution_count": 62,
     "metadata": {},
     "output_type": "execute_result"
    }
   ],
   "source": [
    "sent"
   ]
  },
  {
   "cell_type": "code",
   "execution_count": 64,
   "id": "7d3feef3-111e-40da-91e2-4c641a3ea78b",
   "metadata": {},
   "outputs": [],
   "source": [
    "sent = \"I like 'Python' Programming\""
   ]
  },
  {
   "cell_type": "code",
   "execution_count": 66,
   "id": "fd37e53b-b715-452c-811d-cde318b143b8",
   "metadata": {},
   "outputs": [
    {
     "data": {
      "text/plain": [
       "\"I like 'Python' Programming\""
      ]
     },
     "execution_count": 66,
     "metadata": {},
     "output_type": "execute_result"
    }
   ],
   "source": [
    "sent"
   ]
  },
  {
   "cell_type": "code",
   "execution_count": 70,
   "id": "290fa2e6-97b8-47eb-a31d-c533e953b3f4",
   "metadata": {},
   "outputs": [
    {
     "name": "stdout",
     "output_type": "stream",
     "text": [
      "24.23\n"
     ]
    }
   ],
   "source": [
    "num1 = 12; num2 = 12.23; result = num1 + num2; print(result)"
   ]
  },
  {
   "cell_type": "code",
   "execution_count": 72,
   "id": "d949a384-7a02-437a-9717-ed9ccd854585",
   "metadata": {},
   "outputs": [],
   "source": [
    "a, b, c = 12, 23, 45"
   ]
  },
  {
   "cell_type": "code",
   "execution_count": 74,
   "id": "2e5505c3-6805-4aab-ad07-aa27dffc44c7",
   "metadata": {},
   "outputs": [
    {
     "data": {
      "text/plain": [
       "12"
      ]
     },
     "execution_count": 74,
     "metadata": {},
     "output_type": "execute_result"
    }
   ],
   "source": [
    "a"
   ]
  },
  {
   "cell_type": "code",
   "execution_count": 76,
   "id": "319f8026-1944-432a-9f36-ed0397f6d92c",
   "metadata": {},
   "outputs": [
    {
     "data": {
      "text/plain": [
       "23"
      ]
     },
     "execution_count": 76,
     "metadata": {},
     "output_type": "execute_result"
    }
   ],
   "source": [
    "b"
   ]
  },
  {
   "cell_type": "code",
   "execution_count": 78,
   "id": "67f5fe0e-2e66-48fc-a78f-a69f6ddfdf69",
   "metadata": {},
   "outputs": [
    {
     "data": {
      "text/plain": [
       "45"
      ]
     },
     "execution_count": 78,
     "metadata": {},
     "output_type": "execute_result"
    }
   ],
   "source": [
    "c"
   ]
  },
  {
   "cell_type": "code",
   "execution_count": 80,
   "id": "ad54afd7-99f8-47a9-a63f-4134bcbcbc64",
   "metadata": {},
   "outputs": [],
   "source": [
    "# string functions"
   ]
  },
  {
   "cell_type": "code",
   "execution_count": 82,
   "id": "1f88664f-3e28-450c-af58-53cc9a30b36e",
   "metadata": {},
   "outputs": [],
   "source": [
    "name = \"Aditya\""
   ]
  },
  {
   "cell_type": "code",
   "execution_count": 84,
   "id": "936ecb93-7d1c-4937-82b2-278ce9dbecfb",
   "metadata": {},
   "outputs": [
    {
     "data": {
      "text/plain": [
       "'aditya'"
      ]
     },
     "execution_count": 84,
     "metadata": {},
     "output_type": "execute_result"
    }
   ],
   "source": [
    "name.lower()"
   ]
  },
  {
   "cell_type": "code",
   "execution_count": 86,
   "id": "49e4eab8-c04a-48e7-bba2-3d4356f61cfe",
   "metadata": {},
   "outputs": [
    {
     "data": {
      "text/plain": [
       "'Aditya'"
      ]
     },
     "execution_count": 86,
     "metadata": {},
     "output_type": "execute_result"
    }
   ],
   "source": [
    "name"
   ]
  },
  {
   "cell_type": "code",
   "execution_count": 88,
   "id": "1fb6bd3f-8668-4167-8c5b-ed653e6ae23d",
   "metadata": {},
   "outputs": [
    {
     "data": {
      "text/plain": [
       "'aDITYA'"
      ]
     },
     "execution_count": 88,
     "metadata": {},
     "output_type": "execute_result"
    }
   ],
   "source": [
    "name.swapcase()"
   ]
  },
  {
   "cell_type": "code",
   "execution_count": 90,
   "id": "ba5f2923-5982-4b41-8d30-bd8683dedc26",
   "metadata": {},
   "outputs": [
    {
     "data": {
      "text/plain": [
       "6"
      ]
     },
     "execution_count": 90,
     "metadata": {},
     "output_type": "execute_result"
    }
   ],
   "source": [
    "len(name)"
   ]
  },
  {
   "cell_type": "code",
   "execution_count": 92,
   "id": "000914d5-a58f-4190-86be-3f78dd7ce5ec",
   "metadata": {},
   "outputs": [
    {
     "data": {
      "text/plain": [
       "False"
      ]
     },
     "execution_count": 92,
     "metadata": {},
     "output_type": "execute_result"
    }
   ],
   "source": [
    "name.isupper()"
   ]
  },
  {
   "cell_type": "code",
   "execution_count": 94,
   "id": "60e7151d-f936-403d-b34c-149aa8874aa4",
   "metadata": {},
   "outputs": [
    {
     "data": {
      "text/plain": [
       "False"
      ]
     },
     "execution_count": 94,
     "metadata": {},
     "output_type": "execute_result"
    }
   ],
   "source": [
    "name.islower()"
   ]
  },
  {
   "cell_type": "code",
   "execution_count": 96,
   "id": "143be1f3-5786-4819-848c-3b2b800f2a77",
   "metadata": {},
   "outputs": [
    {
     "data": {
      "text/plain": [
       "True"
      ]
     },
     "execution_count": 96,
     "metadata": {},
     "output_type": "execute_result"
    }
   ],
   "source": [
    "name.istitle()"
   ]
  },
  {
   "cell_type": "code",
   "execution_count": 98,
   "id": "5ebfd4b3-0ca3-480d-a133-eb344ae6487f",
   "metadata": {},
   "outputs": [],
   "source": [
    "name1 = \"Pune\"\n",
    "name2 = \"123\"\n",
    "name3 = \"Pune123\""
   ]
  },
  {
   "cell_type": "code",
   "execution_count": 100,
   "id": "26c776b0-2ff6-46eb-b407-592e661c046d",
   "metadata": {},
   "outputs": [
    {
     "data": {
      "text/plain": [
       "True"
      ]
     },
     "execution_count": 100,
     "metadata": {},
     "output_type": "execute_result"
    }
   ],
   "source": [
    "name1.isalpha()"
   ]
  },
  {
   "cell_type": "code",
   "execution_count": 102,
   "id": "6468d387-44e4-42e0-9204-8142fc8d957b",
   "metadata": {},
   "outputs": [
    {
     "data": {
      "text/plain": [
       "False"
      ]
     },
     "execution_count": 102,
     "metadata": {},
     "output_type": "execute_result"
    }
   ],
   "source": [
    "name2.isalpha()"
   ]
  },
  {
   "cell_type": "code",
   "execution_count": 104,
   "id": "898da858-75c7-4fde-aaee-910a938aec4c",
   "metadata": {},
   "outputs": [
    {
     "data": {
      "text/plain": [
       "False"
      ]
     },
     "execution_count": 104,
     "metadata": {},
     "output_type": "execute_result"
    }
   ],
   "source": [
    "name3.isalpha()"
   ]
  },
  {
   "cell_type": "code",
   "execution_count": 106,
   "id": "5722b752-112a-49bd-b55e-401585db91d5",
   "metadata": {},
   "outputs": [
    {
     "data": {
      "text/plain": [
       "False"
      ]
     },
     "execution_count": 106,
     "metadata": {},
     "output_type": "execute_result"
    }
   ],
   "source": [
    "name1.isdigit()"
   ]
  },
  {
   "cell_type": "code",
   "execution_count": 108,
   "id": "58e7a738-3e84-4269-b43e-6e7a531a5a15",
   "metadata": {},
   "outputs": [
    {
     "data": {
      "text/plain": [
       "True"
      ]
     },
     "execution_count": 108,
     "metadata": {},
     "output_type": "execute_result"
    }
   ],
   "source": [
    "name2.isdigit()"
   ]
  },
  {
   "cell_type": "code",
   "execution_count": 110,
   "id": "468c9a19-15ad-4bd1-abaa-da0cc387f291",
   "metadata": {},
   "outputs": [
    {
     "data": {
      "text/plain": [
       "True"
      ]
     },
     "execution_count": 110,
     "metadata": {},
     "output_type": "execute_result"
    }
   ],
   "source": [
    "name3.isalnum()"
   ]
  },
  {
   "cell_type": "code",
   "execution_count": 114,
   "id": "309d97b3-41bb-4571-b67f-149d169866d2",
   "metadata": {},
   "outputs": [
    {
     "data": {
      "text/plain": [
       "True"
      ]
     },
     "execution_count": 114,
     "metadata": {},
     "output_type": "execute_result"
    }
   ],
   "source": [
    "name1.isalnum()"
   ]
  },
  {
   "cell_type": "code",
   "execution_count": 116,
   "id": "d59ac5f0-ca4e-479f-89c5-c7201e00f8b3",
   "metadata": {},
   "outputs": [],
   "source": [
    "name = \" Pune \""
   ]
  },
  {
   "cell_type": "code",
   "execution_count": 118,
   "id": "a0957523-5b92-4408-a9d8-cde4ff5b6354",
   "metadata": {},
   "outputs": [
    {
     "data": {
      "text/plain": [
       "' Pune '"
      ]
     },
     "execution_count": 118,
     "metadata": {},
     "output_type": "execute_result"
    }
   ],
   "source": [
    "name"
   ]
  },
  {
   "cell_type": "code",
   "execution_count": 120,
   "id": "c435f470-ba5d-449b-a561-54904774fa61",
   "metadata": {},
   "outputs": [
    {
     "data": {
      "text/plain": [
       "False"
      ]
     },
     "execution_count": 120,
     "metadata": {},
     "output_type": "execute_result"
    }
   ],
   "source": [
    "name.startswith(\"P\")"
   ]
  },
  {
   "cell_type": "code",
   "execution_count": 122,
   "id": "4d9f9a21-4f44-42b9-a62f-55c03d394020",
   "metadata": {},
   "outputs": [
    {
     "data": {
      "text/plain": [
       "True"
      ]
     },
     "execution_count": 122,
     "metadata": {},
     "output_type": "execute_result"
    }
   ],
   "source": [
    "name.startswith(\" P\")"
   ]
  },
  {
   "cell_type": "code",
   "execution_count": 124,
   "id": "fb84b65e-6376-4037-87c1-2d91991ce280",
   "metadata": {},
   "outputs": [
    {
     "data": {
      "text/plain": [
       "'Pune '"
      ]
     },
     "execution_count": 124,
     "metadata": {},
     "output_type": "execute_result"
    }
   ],
   "source": [
    "name.lstrip()"
   ]
  },
  {
   "cell_type": "code",
   "execution_count": 126,
   "id": "cd8b8df8-3b51-4eb4-b0e8-b44195b7ed0b",
   "metadata": {},
   "outputs": [
    {
     "data": {
      "text/plain": [
       "' Pune'"
      ]
     },
     "execution_count": 126,
     "metadata": {},
     "output_type": "execute_result"
    }
   ],
   "source": [
    "name.rstrip()"
   ]
  },
  {
   "cell_type": "code",
   "execution_count": 128,
   "id": "381e2602-7cd7-43fb-aaae-2123ad89bb33",
   "metadata": {},
   "outputs": [
    {
     "data": {
      "text/plain": [
       "'Pune'"
      ]
     },
     "execution_count": 128,
     "metadata": {},
     "output_type": "execute_result"
    }
   ],
   "source": [
    "name.strip()"
   ]
  },
  {
   "cell_type": "code",
   "execution_count": 130,
   "id": "866663ea-d1d2-445b-b645-4cc4e4680d0c",
   "metadata": {},
   "outputs": [
    {
     "data": {
      "text/plain": [
       "' Pune '"
      ]
     },
     "execution_count": 130,
     "metadata": {},
     "output_type": "execute_result"
    }
   ],
   "source": [
    "name"
   ]
  },
  {
   "cell_type": "code",
   "execution_count": 132,
   "id": "6c07a69e-b294-400e-ae53-2a84a915cb72",
   "metadata": {},
   "outputs": [
    {
     "data": {
      "text/plain": [
       "' Poone '"
      ]
     },
     "execution_count": 132,
     "metadata": {},
     "output_type": "execute_result"
    }
   ],
   "source": [
    "name.replace(\"u\", \"oo\")"
   ]
  },
  {
   "cell_type": "code",
   "execution_count": null,
   "id": "d60c7a02-ad79-4906-96a1-6bed38cc57b6",
   "metadata": {},
   "outputs": [],
   "source": []
  }
 ],
 "metadata": {
  "kernelspec": {
   "display_name": "Python 3 (ipykernel)",
   "language": "python",
   "name": "python3"
  },
  "language_info": {
   "codemirror_mode": {
    "name": "ipython",
    "version": 3
   },
   "file_extension": ".py",
   "mimetype": "text/x-python",
   "name": "python",
   "nbconvert_exporter": "python",
   "pygments_lexer": "ipython3",
   "version": "3.11.9"
  }
 },
 "nbformat": 4,
 "nbformat_minor": 5
}
