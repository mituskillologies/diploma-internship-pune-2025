{
 "cells": [
  {
   "cell_type": "markdown",
   "id": "2738df84-728a-46b0-b754-cf481529d3d3",
   "metadata": {},
   "source": [
    "# Tuple"
   ]
  },
  {
   "cell_type": "code",
   "execution_count": 2,
   "id": "154ad4eb-1c35-4e43-9523-a58bb25d4bc0",
   "metadata": {},
   "outputs": [],
   "source": [
    "t = (23, 43, 67, 12, 34)"
   ]
  },
  {
   "cell_type": "code",
   "execution_count": 4,
   "id": "55cb65b3-3244-424a-ab8b-d45fd0ed248f",
   "metadata": {},
   "outputs": [
    {
     "data": {
      "text/plain": [
       "(23, 43, 67, 12, 34)"
      ]
     },
     "execution_count": 4,
     "metadata": {},
     "output_type": "execute_result"
    }
   ],
   "source": [
    "t"
   ]
  },
  {
   "cell_type": "code",
   "execution_count": 6,
   "id": "10bb5c9f-2049-4454-96eb-3098fa3b6660",
   "metadata": {},
   "outputs": [
    {
     "data": {
      "text/plain": [
       "tuple"
      ]
     },
     "execution_count": 6,
     "metadata": {},
     "output_type": "execute_result"
    }
   ],
   "source": [
    "type(t)"
   ]
  },
  {
   "cell_type": "code",
   "execution_count": 20,
   "id": "7b5af9ca-9563-4c05-a39c-03d7e181d28c",
   "metadata": {},
   "outputs": [],
   "source": [
    "t1 = (12, 23.44, \"pune\", 12)  # hetero, duplicates are allowed"
   ]
  },
  {
   "cell_type": "code",
   "execution_count": 22,
   "id": "824f6ceb-a2fa-426a-86e7-316a44976e6f",
   "metadata": {},
   "outputs": [
    {
     "data": {
      "text/plain": [
       "(12, 23.44, 'pune', 12)"
      ]
     },
     "execution_count": 22,
     "metadata": {},
     "output_type": "execute_result"
    }
   ],
   "source": [
    "t1"
   ]
  },
  {
   "cell_type": "code",
   "execution_count": 24,
   "id": "8d77412e-c79e-4703-b6e8-bd3e74464cec",
   "metadata": {},
   "outputs": [
    {
     "data": {
      "text/plain": [
       "23.44"
      ]
     },
     "execution_count": 24,
     "metadata": {},
     "output_type": "execute_result"
    }
   ],
   "source": [
    "t1[1]   # ordered"
   ]
  },
  {
   "cell_type": "code",
   "execution_count": 26,
   "id": "9a329158-5cd8-45a5-9c14-8a08944207a0",
   "metadata": {},
   "outputs": [
    {
     "ename": "TypeError",
     "evalue": "'tuple' object does not support item assignment",
     "output_type": "error",
     "traceback": [
      "\u001b[0;31m---------------------------------------------------------------------------\u001b[0m",
      "\u001b[0;31mTypeError\u001b[0m                                 Traceback (most recent call last)",
      "Cell \u001b[0;32mIn[26], line 1\u001b[0m\n\u001b[0;32m----> 1\u001b[0m t1[\u001b[38;5;241m1\u001b[39m] \u001b[38;5;241m=\u001b[39m \u001b[38;5;241m45\u001b[39m\n",
      "\u001b[0;31mTypeError\u001b[0m: 'tuple' object does not support item assignment"
     ]
    }
   ],
   "source": [
    "t1[1] = 45  # immutable"
   ]
  },
  {
   "cell_type": "code",
   "execution_count": 28,
   "id": "afa02f50-0b6f-42d8-a487-7f342284a0c4",
   "metadata": {},
   "outputs": [],
   "source": [
    "t = 34, 56, 78"
   ]
  },
  {
   "cell_type": "code",
   "execution_count": 30,
   "id": "1effdcc3-d688-4ed5-8125-6497e386a640",
   "metadata": {},
   "outputs": [
    {
     "data": {
      "text/plain": [
       "(34, 56, 78)"
      ]
     },
     "execution_count": 30,
     "metadata": {},
     "output_type": "execute_result"
    }
   ],
   "source": [
    "t"
   ]
  },
  {
   "cell_type": "code",
   "execution_count": 32,
   "id": "360d8b86-1bc3-453f-92b2-5aeb7c9ce94e",
   "metadata": {},
   "outputs": [
    {
     "data": {
      "text/plain": [
       "tuple"
      ]
     },
     "execution_count": 32,
     "metadata": {},
     "output_type": "execute_result"
    }
   ],
   "source": [
    "type(t)"
   ]
  },
  {
   "cell_type": "code",
   "execution_count": 40,
   "id": "b0ccf428-952f-4734-a572-03c088e78dd9",
   "metadata": {},
   "outputs": [],
   "source": [
    "t2 = (3,)"
   ]
  },
  {
   "cell_type": "code",
   "execution_count": 42,
   "id": "d638620d-ad7b-4f3f-9a15-080b9fd4eb8a",
   "metadata": {},
   "outputs": [
    {
     "data": {
      "text/plain": [
       "(3,)"
      ]
     },
     "execution_count": 42,
     "metadata": {},
     "output_type": "execute_result"
    }
   ],
   "source": [
    "t2"
   ]
  },
  {
   "cell_type": "code",
   "execution_count": 44,
   "id": "1b860713-5d84-4efb-b345-adcce3eff7aa",
   "metadata": {},
   "outputs": [
    {
     "data": {
      "text/plain": [
       "tuple"
      ]
     },
     "execution_count": 44,
     "metadata": {},
     "output_type": "execute_result"
    }
   ],
   "source": [
    "type(t2)"
   ]
  },
  {
   "cell_type": "code",
   "execution_count": 46,
   "id": "b25af88f-b818-436a-a08e-061c53af4de7",
   "metadata": {},
   "outputs": [
    {
     "data": {
      "text/plain": [
       "(4,)"
      ]
     },
     "execution_count": 46,
     "metadata": {},
     "output_type": "execute_result"
    }
   ],
   "source": [
    "t3 = 4,\n",
    "t3"
   ]
  },
  {
   "cell_type": "code",
   "execution_count": 48,
   "id": "e81862a9-2d7b-4c50-8bf1-cd9d222688ee",
   "metadata": {},
   "outputs": [
    {
     "data": {
      "text/plain": [
       "tuple"
      ]
     },
     "execution_count": 48,
     "metadata": {},
     "output_type": "execute_result"
    }
   ],
   "source": [
    "type(t3)"
   ]
  },
  {
   "cell_type": "code",
   "execution_count": 50,
   "id": "109820a6-823d-42e9-ab9d-2e6301f55a31",
   "metadata": {},
   "outputs": [],
   "source": [
    "t = ()"
   ]
  },
  {
   "cell_type": "code",
   "execution_count": 52,
   "id": "b30df9fa-0cc2-4cbf-af1c-594866e145de",
   "metadata": {},
   "outputs": [
    {
     "data": {
      "text/plain": [
       "()"
      ]
     },
     "execution_count": 52,
     "metadata": {},
     "output_type": "execute_result"
    }
   ],
   "source": [
    "t"
   ]
  },
  {
   "cell_type": "code",
   "execution_count": 54,
   "id": "292be431-696c-48e7-af48-a050b55dafa2",
   "metadata": {},
   "outputs": [],
   "source": [
    "t = (45, 67, 34, 90, 12)"
   ]
  },
  {
   "cell_type": "code",
   "execution_count": 56,
   "id": "0d743ab7-388c-4ea5-802e-a55a73da3325",
   "metadata": {},
   "outputs": [
    {
     "data": {
      "text/plain": [
       "(67, 34, 90)"
      ]
     },
     "execution_count": 56,
     "metadata": {},
     "output_type": "execute_result"
    }
   ],
   "source": [
    "t[1:4]"
   ]
  },
  {
   "cell_type": "code",
   "execution_count": 58,
   "id": "632627c8-eaa8-4bb7-83bf-9c8432e43384",
   "metadata": {},
   "outputs": [],
   "source": [
    "t1 = (12, 45, [56, 89], 10)"
   ]
  },
  {
   "cell_type": "code",
   "execution_count": 60,
   "id": "b1682171-320e-4c3e-9b53-d6295831e519",
   "metadata": {},
   "outputs": [
    {
     "data": {
      "text/plain": [
       "(12, 45, [56, 89], 10)"
      ]
     },
     "execution_count": 60,
     "metadata": {},
     "output_type": "execute_result"
    }
   ],
   "source": [
    "t1"
   ]
  },
  {
   "cell_type": "code",
   "execution_count": 62,
   "id": "95ab4502-d809-481f-a9be-55285ad4eb4c",
   "metadata": {},
   "outputs": [],
   "source": [
    "t1[2][0] = 100"
   ]
  },
  {
   "cell_type": "code",
   "execution_count": 64,
   "id": "651d46ac-3fcd-4e71-b5e7-ece51446bb1e",
   "metadata": {},
   "outputs": [
    {
     "data": {
      "text/plain": [
       "(12, 45, [100, 89], 10)"
      ]
     },
     "execution_count": 64,
     "metadata": {},
     "output_type": "execute_result"
    }
   ],
   "source": [
    "t1"
   ]
  },
  {
   "cell_type": "code",
   "execution_count": 68,
   "id": "2aa052b0-b7d6-43dd-9372-14223bf48d61",
   "metadata": {},
   "outputs": [],
   "source": [
    "t1 = list(t1)"
   ]
  },
  {
   "cell_type": "code",
   "execution_count": 70,
   "id": "d2ce7915-db1b-4f1b-84c0-a03088d89e53",
   "metadata": {},
   "outputs": [],
   "source": [
    "t1[1] = 10000"
   ]
  },
  {
   "cell_type": "code",
   "execution_count": 72,
   "id": "7c18e084-aafd-4003-9491-cdca7f44adc2",
   "metadata": {},
   "outputs": [
    {
     "data": {
      "text/plain": [
       "[12, 10000, [100, 89], 10]"
      ]
     },
     "execution_count": 72,
     "metadata": {},
     "output_type": "execute_result"
    }
   ],
   "source": [
    "t1"
   ]
  },
  {
   "cell_type": "code",
   "execution_count": 74,
   "id": "242d46b6-fa8a-42c1-aa6f-daed191fcb48",
   "metadata": {},
   "outputs": [
    {
     "data": {
      "text/plain": [
       "(12, 10000, [100, 89], 10)"
      ]
     },
     "execution_count": 74,
     "metadata": {},
     "output_type": "execute_result"
    }
   ],
   "source": [
    "tuple(t1)"
   ]
  },
  {
   "cell_type": "code",
   "execution_count": 78,
   "id": "7fe1d108-b9f0-439c-a676-5f2040c4e89d",
   "metadata": {},
   "outputs": [],
   "source": [
    "t1 = tuple(t1[2])"
   ]
  },
  {
   "cell_type": "code",
   "execution_count": 80,
   "id": "3f15aa35-c48d-4958-9ebc-70a59465d78a",
   "metadata": {},
   "outputs": [
    {
     "data": {
      "text/plain": [
       "(100, 89)"
      ]
     },
     "execution_count": 80,
     "metadata": {},
     "output_type": "execute_result"
    }
   ],
   "source": [
    "t1"
   ]
  },
  {
   "cell_type": "code",
   "execution_count": 82,
   "id": "3651a9fb-b0c9-498a-9f1f-852da0e9bc03",
   "metadata": {},
   "outputs": [],
   "source": [
    "t = (12, 32, 56, 78, 34, 11)"
   ]
  },
  {
   "cell_type": "code",
   "execution_count": 84,
   "id": "6f43c043-51c0-4c2d-8b08-576e33ef161e",
   "metadata": {},
   "outputs": [
    {
     "data": {
      "text/plain": [
       "6"
      ]
     },
     "execution_count": 84,
     "metadata": {},
     "output_type": "execute_result"
    }
   ],
   "source": [
    "len(t)"
   ]
  },
  {
   "cell_type": "code",
   "execution_count": 86,
   "id": "ebda5995-d6ce-4b4f-bb57-e87e1173bebc",
   "metadata": {},
   "outputs": [
    {
     "data": {
      "text/plain": [
       "78"
      ]
     },
     "execution_count": 86,
     "metadata": {},
     "output_type": "execute_result"
    }
   ],
   "source": [
    "max(t)"
   ]
  },
  {
   "cell_type": "code",
   "execution_count": 88,
   "id": "2fb865ed-b7cc-4116-a285-b8e0433b6132",
   "metadata": {},
   "outputs": [
    {
     "name": "stdout",
     "output_type": "stream",
     "text": [
      "Help on class tuple in module builtins:\n",
      "\n",
      "class tuple(object)\n",
      " |  tuple(iterable=(), /)\n",
      " |  \n",
      " |  Built-in immutable sequence.\n",
      " |  \n",
      " |  If no argument is given, the constructor returns an empty tuple.\n",
      " |  If iterable is specified the tuple is initialized from iterable's items.\n",
      " |  \n",
      " |  If the argument is a tuple, the return value is the same object.\n",
      " |  \n",
      " |  Built-in subclasses:\n",
      " |      asyncgen_hooks\n",
      " |      MonthDayNano\n",
      " |      UnraisableHookArgs\n",
      " |  \n",
      " |  Methods defined here:\n",
      " |  \n",
      " |  __add__(self, value, /)\n",
      " |      Return self+value.\n",
      " |  \n",
      " |  __contains__(self, key, /)\n",
      " |      Return key in self.\n",
      " |  \n",
      " |  __eq__(self, value, /)\n",
      " |      Return self==value.\n",
      " |  \n",
      " |  __ge__(self, value, /)\n",
      " |      Return self>=value.\n",
      " |  \n",
      " |  __getattribute__(self, name, /)\n",
      " |      Return getattr(self, name).\n",
      " |  \n",
      " |  __getitem__(self, key, /)\n",
      " |      Return self[key].\n",
      " |  \n",
      " |  __getnewargs__(self, /)\n",
      " |  \n",
      " |  __gt__(self, value, /)\n",
      " |      Return self>value.\n",
      " |  \n",
      " |  __hash__(self, /)\n",
      " |      Return hash(self).\n",
      " |  \n",
      " |  __iter__(self, /)\n",
      " |      Implement iter(self).\n",
      " |  \n",
      " |  __le__(self, value, /)\n",
      " |      Return self<=value.\n",
      " |  \n",
      " |  __len__(self, /)\n",
      " |      Return len(self).\n",
      " |  \n",
      " |  __lt__(self, value, /)\n",
      " |      Return self<value.\n",
      " |  \n",
      " |  __mul__(self, value, /)\n",
      " |      Return self*value.\n",
      " |  \n",
      " |  __ne__(self, value, /)\n",
      " |      Return self!=value.\n",
      " |  \n",
      " |  __repr__(self, /)\n",
      " |      Return repr(self).\n",
      " |  \n",
      " |  __rmul__(self, value, /)\n",
      " |      Return value*self.\n",
      " |  \n",
      " |  count(self, value, /)\n",
      " |      Return number of occurrences of value.\n",
      " |  \n",
      " |  index(self, value, start=0, stop=9223372036854775807, /)\n",
      " |      Return first index of value.\n",
      " |      \n",
      " |      Raises ValueError if the value is not present.\n",
      " |  \n",
      " |  ----------------------------------------------------------------------\n",
      " |  Class methods defined here:\n",
      " |  \n",
      " |  __class_getitem__(...)\n",
      " |      See PEP 585\n",
      " |  \n",
      " |  ----------------------------------------------------------------------\n",
      " |  Static methods defined here:\n",
      " |  \n",
      " |  __new__(*args, **kwargs)\n",
      " |      Create and return a new object.  See help(type) for accurate signature.\n",
      "\n"
     ]
    }
   ],
   "source": [
    "help(tuple)"
   ]
  },
  {
   "cell_type": "markdown",
   "id": "de3a8964-82f6-453b-82ce-aebd569f4e66",
   "metadata": {},
   "source": [
    "# sets"
   ]
  },
  {
   "cell_type": "code",
   "execution_count": 91,
   "id": "c8a33e91-4a52-4a00-9e58-b657bccef411",
   "metadata": {},
   "outputs": [],
   "source": [
    "s = {12, 34, 45, 67, 10}"
   ]
  },
  {
   "cell_type": "code",
   "execution_count": 93,
   "id": "61f8d6d2-6c92-48e5-a933-19f6821e0f29",
   "metadata": {},
   "outputs": [],
   "source": [
    "# unordered, mutable, hetero, duplicates are not allowed"
   ]
  },
  {
   "cell_type": "code",
   "execution_count": 95,
   "id": "a83d944e-9bc0-45cf-9720-4851ee85f7c1",
   "metadata": {},
   "outputs": [
    {
     "data": {
      "text/plain": [
       "set"
      ]
     },
     "execution_count": 95,
     "metadata": {},
     "output_type": "execute_result"
    }
   ],
   "source": [
    "type(s)"
   ]
  },
  {
   "cell_type": "code",
   "execution_count": 101,
   "id": "f78113dd-033b-4ab3-a84e-296c6a352028",
   "metadata": {},
   "outputs": [],
   "source": [
    "s = {12, 34, 45, 67, 10, 12, \"pune\"}"
   ]
  },
  {
   "cell_type": "code",
   "execution_count": 103,
   "id": "3615b817-9db3-4f4c-b1cb-655908d3be97",
   "metadata": {},
   "outputs": [
    {
     "data": {
      "text/plain": [
       "{10, 12, 34, 45, 67, 'pune'}"
      ]
     },
     "execution_count": 103,
     "metadata": {},
     "output_type": "execute_result"
    }
   ],
   "source": [
    "s"
   ]
  },
  {
   "cell_type": "code",
   "execution_count": 105,
   "id": "5d4fb121-03bd-4f1f-a7e0-9c8900e0cf72",
   "metadata": {},
   "outputs": [
    {
     "ename": "TypeError",
     "evalue": "'set' object is not subscriptable",
     "output_type": "error",
     "traceback": [
      "\u001b[0;31m---------------------------------------------------------------------------\u001b[0m",
      "\u001b[0;31mTypeError\u001b[0m                                 Traceback (most recent call last)",
      "Cell \u001b[0;32mIn[105], line 1\u001b[0m\n\u001b[0;32m----> 1\u001b[0m s[\u001b[38;5;241m2\u001b[39m]\n",
      "\u001b[0;31mTypeError\u001b[0m: 'set' object is not subscriptable"
     ]
    }
   ],
   "source": [
    "s[2]"
   ]
  },
  {
   "cell_type": "code",
   "execution_count": 107,
   "id": "e5cc7311-14ba-437e-8e58-fbb4953b5244",
   "metadata": {},
   "outputs": [],
   "source": [
    "s ={}"
   ]
  },
  {
   "cell_type": "code",
   "execution_count": 111,
   "id": "580bd5f7-99a2-4e9a-bb9f-f4f88c153122",
   "metadata": {},
   "outputs": [
    {
     "data": {
      "text/plain": [
       "dict"
      ]
     },
     "execution_count": 111,
     "metadata": {},
     "output_type": "execute_result"
    }
   ],
   "source": [
    "type(s)"
   ]
  },
  {
   "cell_type": "code",
   "execution_count": 113,
   "id": "d59731e3-95bc-496c-b2a1-a9d48a39685c",
   "metadata": {},
   "outputs": [],
   "source": [
    "# empty set\n",
    "s = set()"
   ]
  },
  {
   "cell_type": "code",
   "execution_count": 115,
   "id": "d30859ce-2df3-4b90-83b4-740d14bb433e",
   "metadata": {},
   "outputs": [
    {
     "data": {
      "text/plain": [
       "set"
      ]
     },
     "execution_count": 115,
     "metadata": {},
     "output_type": "execute_result"
    }
   ],
   "source": [
    "type(s)"
   ]
  },
  {
   "cell_type": "code",
   "execution_count": 117,
   "id": "87470d88-dbfa-49ef-b1c4-1fb53c3987a0",
   "metadata": {},
   "outputs": [],
   "source": [
    "# adding an element"
   ]
  },
  {
   "cell_type": "code",
   "execution_count": 119,
   "id": "bbf0c4b2-6a4d-44d4-ae13-efcac5e0c6b6",
   "metadata": {},
   "outputs": [],
   "source": [
    "s = {1, 2, 3}"
   ]
  },
  {
   "cell_type": "code",
   "execution_count": 121,
   "id": "27b12b8a-4f37-4112-9bcf-31f8defad209",
   "metadata": {},
   "outputs": [],
   "source": [
    "s.add(4)"
   ]
  },
  {
   "cell_type": "code",
   "execution_count": 123,
   "id": "2c0d03c5-5142-40d5-ab2e-2fb9fe3b46d3",
   "metadata": {},
   "outputs": [
    {
     "data": {
      "text/plain": [
       "{1, 2, 3, 4}"
      ]
     },
     "execution_count": 123,
     "metadata": {},
     "output_type": "execute_result"
    }
   ],
   "source": [
    "s"
   ]
  },
  {
   "cell_type": "code",
   "execution_count": 125,
   "id": "826b4847-7d92-409d-b5a0-0c2d98fd1308",
   "metadata": {},
   "outputs": [],
   "source": [
    "s.add(2)"
   ]
  },
  {
   "cell_type": "code",
   "execution_count": 127,
   "id": "cbcf8518-7e64-46cc-9209-8984a6e80619",
   "metadata": {},
   "outputs": [
    {
     "data": {
      "text/plain": [
       "{1, 2, 3, 4}"
      ]
     },
     "execution_count": 127,
     "metadata": {},
     "output_type": "execute_result"
    }
   ],
   "source": [
    "s"
   ]
  },
  {
   "cell_type": "code",
   "execution_count": 129,
   "id": "d20264a8-c794-41ed-b16f-368a38810868",
   "metadata": {},
   "outputs": [],
   "source": [
    "# remove, discard"
   ]
  },
  {
   "cell_type": "code",
   "execution_count": 131,
   "id": "e668a963-ecbe-4b5b-8e87-54a2e4585c6f",
   "metadata": {},
   "outputs": [
    {
     "data": {
      "text/plain": [
       "{1, 2, 3, 4}"
      ]
     },
     "execution_count": 131,
     "metadata": {},
     "output_type": "execute_result"
    }
   ],
   "source": [
    "s"
   ]
  },
  {
   "cell_type": "code",
   "execution_count": 133,
   "id": "e9cec163-6e98-4e04-ae45-b59304f34f70",
   "metadata": {},
   "outputs": [],
   "source": [
    "s.remove(4)"
   ]
  },
  {
   "cell_type": "code",
   "execution_count": 135,
   "id": "93999957-e822-4ba8-9b1d-010018da0807",
   "metadata": {},
   "outputs": [],
   "source": [
    "s.discard(3)"
   ]
  },
  {
   "cell_type": "code",
   "execution_count": 137,
   "id": "99a8523a-23fa-472d-a87c-7dd156a3b1bb",
   "metadata": {},
   "outputs": [
    {
     "data": {
      "text/plain": [
       "{1, 2}"
      ]
     },
     "execution_count": 137,
     "metadata": {},
     "output_type": "execute_result"
    }
   ],
   "source": [
    "s"
   ]
  },
  {
   "cell_type": "code",
   "execution_count": 139,
   "id": "9bd73c6e-7294-4374-a792-bec1bef13a20",
   "metadata": {},
   "outputs": [
    {
     "ename": "KeyError",
     "evalue": "10",
     "output_type": "error",
     "traceback": [
      "\u001b[0;31m---------------------------------------------------------------------------\u001b[0m",
      "\u001b[0;31mKeyError\u001b[0m                                  Traceback (most recent call last)",
      "Cell \u001b[0;32mIn[139], line 1\u001b[0m\n\u001b[0;32m----> 1\u001b[0m s\u001b[38;5;241m.\u001b[39mremove(\u001b[38;5;241m10\u001b[39m)\n",
      "\u001b[0;31mKeyError\u001b[0m: 10"
     ]
    }
   ],
   "source": [
    "s.remove(10)"
   ]
  },
  {
   "cell_type": "code",
   "execution_count": 141,
   "id": "c881cb07-dd8a-4187-95ab-c0a9bb9dac96",
   "metadata": {},
   "outputs": [],
   "source": [
    "s.discard(3)"
   ]
  },
  {
   "cell_type": "code",
   "execution_count": 145,
   "id": "cf6c1b64-385d-4dd5-b8b6-d580a32d58b0",
   "metadata": {},
   "outputs": [],
   "source": [
    "s1 = {1, 2, 3, 4}\n",
    "s2 = {3, 4, 5, 6}"
   ]
  },
  {
   "cell_type": "code",
   "execution_count": 147,
   "id": "002d9ff0-ff37-4c83-b849-206aaf859fc2",
   "metadata": {},
   "outputs": [
    {
     "data": {
      "text/plain": [
       "{1, 2, 3, 4, 5, 6}"
      ]
     },
     "execution_count": 147,
     "metadata": {},
     "output_type": "execute_result"
    }
   ],
   "source": [
    "s1.union(s2)"
   ]
  },
  {
   "cell_type": "code",
   "execution_count": 149,
   "id": "0ecb37a4-eeb2-4457-a5d0-a8dfc4abd628",
   "metadata": {},
   "outputs": [
    {
     "data": {
      "text/plain": [
       "{1, 2, 3, 4, 5, 6}"
      ]
     },
     "execution_count": 149,
     "metadata": {},
     "output_type": "execute_result"
    }
   ],
   "source": [
    "s1 | s2"
   ]
  },
  {
   "cell_type": "code",
   "execution_count": 151,
   "id": "86fc756d-25fa-4e1e-9cb9-3b8e53404332",
   "metadata": {},
   "outputs": [
    {
     "data": {
      "text/plain": [
       "{3, 4}"
      ]
     },
     "execution_count": 151,
     "metadata": {},
     "output_type": "execute_result"
    }
   ],
   "source": [
    "s1.intersection(s2)"
   ]
  },
  {
   "cell_type": "code",
   "execution_count": 153,
   "id": "69af7bc5-e722-4269-8d70-ee61faeb2938",
   "metadata": {},
   "outputs": [
    {
     "data": {
      "text/plain": [
       "{1, 2}"
      ]
     },
     "execution_count": 153,
     "metadata": {},
     "output_type": "execute_result"
    }
   ],
   "source": [
    "s1.difference(s2)"
   ]
  },
  {
   "cell_type": "code",
   "execution_count": 155,
   "id": "4df2d0ed-8a72-426d-87e7-fdcbe7f58479",
   "metadata": {},
   "outputs": [
    {
     "data": {
      "text/plain": [
       "{1, 2, 5, 6}"
      ]
     },
     "execution_count": 155,
     "metadata": {},
     "output_type": "execute_result"
    }
   ],
   "source": [
    "s1.symmetric_difference(s2)"
   ]
  },
  {
   "cell_type": "code",
   "execution_count": 157,
   "id": "e599a459-4f90-488e-b3c9-c1c6fb61a2a2",
   "metadata": {},
   "outputs": [],
   "source": [
    "s1 = {1, 2, 3, 4, 5}\n",
    "s2 = {1, 2, 3}\n",
    "s3 = {1, 6, 8}"
   ]
  },
  {
   "cell_type": "code",
   "execution_count": 161,
   "id": "b2700e91-3946-4f25-b0ff-bddb373d2122",
   "metadata": {},
   "outputs": [
    {
     "data": {
      "text/plain": [
       "True"
      ]
     },
     "execution_count": 161,
     "metadata": {},
     "output_type": "execute_result"
    }
   ],
   "source": [
    "s2.issubset(s1)"
   ]
  },
  {
   "cell_type": "code",
   "execution_count": 163,
   "id": "4da67f2b-ae89-4835-bd3d-9c4447a0028a",
   "metadata": {},
   "outputs": [
    {
     "data": {
      "text/plain": [
       "True"
      ]
     },
     "execution_count": 163,
     "metadata": {},
     "output_type": "execute_result"
    }
   ],
   "source": [
    "s1.issuperset(s2)"
   ]
  },
  {
   "cell_type": "code",
   "execution_count": 165,
   "id": "7613c795-afd0-4de9-93a8-09d2e00a7c6e",
   "metadata": {},
   "outputs": [
    {
     "data": {
      "text/plain": [
       "False"
      ]
     },
     "execution_count": 165,
     "metadata": {},
     "output_type": "execute_result"
    }
   ],
   "source": [
    "s3.issubset(s1)"
   ]
  },
  {
   "cell_type": "code",
   "execution_count": 167,
   "id": "3ced0152-bf11-4a83-b9a6-83585c71e33a",
   "metadata": {},
   "outputs": [
    {
     "data": {
      "text/plain": [
       "True"
      ]
     },
     "execution_count": 167,
     "metadata": {},
     "output_type": "execute_result"
    }
   ],
   "source": [
    "3 in s1"
   ]
  },
  {
   "cell_type": "markdown",
   "id": "c22bffd1-2401-4da1-8f26-020fe37ece10",
   "metadata": {},
   "source": [
    "# Dictionary"
   ]
  },
  {
   "cell_type": "code",
   "execution_count": 174,
   "id": "16a76c53-0b81-4c3c-8ae1-01dead827bbe",
   "metadata": {},
   "outputs": [],
   "source": [
    "d = {10: \"Ajay\", 2: \"Sia\", 3: \"Raj\", 4: \"Pranjal\"}"
   ]
  },
  {
   "cell_type": "code",
   "execution_count": 176,
   "id": "3f015213-b623-43e3-9559-f70b3eae3096",
   "metadata": {},
   "outputs": [
    {
     "data": {
      "text/plain": [
       "{10: 'Ajay', 2: 'Sia', 3: 'Raj', 4: 'Pranjal'}"
      ]
     },
     "execution_count": 176,
     "metadata": {},
     "output_type": "execute_result"
    }
   ],
   "source": [
    "d"
   ]
  },
  {
   "cell_type": "code",
   "execution_count": 180,
   "id": "505ffc90-6a34-4a76-a021-136440a23f0f",
   "metadata": {},
   "outputs": [
    {
     "data": {
      "text/plain": [
       "'Ajay'"
      ]
     },
     "execution_count": 180,
     "metadata": {},
     "output_type": "execute_result"
    }
   ],
   "source": [
    "d[10]"
   ]
  },
  {
   "cell_type": "code",
   "execution_count": 182,
   "id": "461d1d05-509b-48cf-8841-c7b1a8bbdc24",
   "metadata": {},
   "outputs": [],
   "source": [
    "# keys are unique, values can be duplicated/ ordered\n",
    "d = {10: \"Ajay\", 2: \"Sia\", 3: \"Raj\", 4: \"Pranjal\", 11: \"Sia\"}"
   ]
  },
  {
   "cell_type": "code",
   "execution_count": 184,
   "id": "5ddd1057-42c9-45a0-bce4-023546c63f8c",
   "metadata": {},
   "outputs": [
    {
     "data": {
      "text/plain": [
       "{10: 'Ajay', 2: 'Sia', 3: 'Raj', 4: 'Pranjal', 11: 'Sia'}"
      ]
     },
     "execution_count": 184,
     "metadata": {},
     "output_type": "execute_result"
    }
   ],
   "source": [
    "d"
   ]
  },
  {
   "cell_type": "code",
   "execution_count": 186,
   "id": "f37c57e3-5480-48e6-8fb1-b3f41e3f5ba4",
   "metadata": {},
   "outputs": [],
   "source": [
    "d = {10: \"Ajay\", 2: \"Sia\", 3: \"Raj\", 4: \"Pranjal\", 11: \"Sia\", \"Ray\": 45}"
   ]
  },
  {
   "cell_type": "code",
   "execution_count": 190,
   "id": "3e87ab57-e34d-4e78-b368-a2a2dcd97f13",
   "metadata": {},
   "outputs": [
    {
     "data": {
      "text/plain": [
       "{10: 'Ajay', 2: 'Sia', 3: 'Raj', 4: 'Pranjal', 11: 'Sia', 'Ray': 45}"
      ]
     },
     "execution_count": 190,
     "metadata": {},
     "output_type": "execute_result"
    }
   ],
   "source": [
    "d # heterogeneous"
   ]
  },
  {
   "cell_type": "code",
   "execution_count": 192,
   "id": "7507b45c-d2d1-4611-ada8-d4ddf0842c59",
   "metadata": {},
   "outputs": [
    {
     "data": {
      "text/plain": [
       "45"
      ]
     },
     "execution_count": 192,
     "metadata": {},
     "output_type": "execute_result"
    }
   ],
   "source": [
    "d[\"Ray\"]"
   ]
  },
  {
   "cell_type": "code",
   "execution_count": 194,
   "id": "cf93eb79-f144-47ef-b11b-deed4206e9d0",
   "metadata": {},
   "outputs": [],
   "source": [
    "d[3] = \"Ok\""
   ]
  },
  {
   "cell_type": "code",
   "execution_count": 198,
   "id": "a96bce03-92e2-4514-b16e-8794dc19eb4d",
   "metadata": {},
   "outputs": [
    {
     "data": {
      "text/plain": [
       "{10: 'Ajay', 2: 'Sia', 3: 'Ok', 4: 'Pranjal', 11: 'Sia', 'Ray': 45}"
      ]
     },
     "execution_count": 198,
     "metadata": {},
     "output_type": "execute_result"
    }
   ],
   "source": [
    "d # mutable"
   ]
  },
  {
   "cell_type": "code",
   "execution_count": 202,
   "id": "9f868ca9-5d98-4539-821f-f68255dbd7b6",
   "metadata": {},
   "outputs": [
    {
     "data": {
      "text/plain": [
       "dict_keys([10, 2, 3, 4, 11, 'Ray'])"
      ]
     },
     "execution_count": 202,
     "metadata": {},
     "output_type": "execute_result"
    }
   ],
   "source": [
    "d.keys()"
   ]
  },
  {
   "cell_type": "code",
   "execution_count": 204,
   "id": "a79ffef2-370e-4f45-9072-bf9c54aa6ae7",
   "metadata": {},
   "outputs": [
    {
     "data": {
      "text/plain": [
       "dict_values(['Ajay', 'Sia', 'Ok', 'Pranjal', 'Sia', 45])"
      ]
     },
     "execution_count": 204,
     "metadata": {},
     "output_type": "execute_result"
    }
   ],
   "source": [
    "d.values()"
   ]
  },
  {
   "cell_type": "code",
   "execution_count": 206,
   "id": "6f959819-010d-47cc-b672-2ed0c92d7a3b",
   "metadata": {},
   "outputs": [],
   "source": [
    "# multiple ways to create dict"
   ]
  },
  {
   "cell_type": "code",
   "execution_count": 215,
   "id": "89ac46bf-7253-4fc7-812c-07f84766aa71",
   "metadata": {},
   "outputs": [],
   "source": [
    "# from list of tuples(k,v)\n",
    "\n",
    "l = [(1, 'ok'), (2, \"not ok\")]"
   ]
  },
  {
   "cell_type": "code",
   "execution_count": 217,
   "id": "edc699b4-d602-487e-98f1-53da0cf219fc",
   "metadata": {},
   "outputs": [
    {
     "data": {
      "text/plain": [
       "{1: 'ok', 2: 'not ok'}"
      ]
     },
     "execution_count": 217,
     "metadata": {},
     "output_type": "execute_result"
    }
   ],
   "source": [
    "dict(l)"
   ]
  },
  {
   "cell_type": "code",
   "execution_count": 219,
   "id": "5f8c3562-84dd-4779-a70b-72d2d91a9df5",
   "metadata": {},
   "outputs": [
    {
     "data": {
      "text/plain": [
       "{10: 'Ajay', 2: 'Sia', 3: 'Ok', 4: 'Pranjal', 11: 'Sia', 'Ray': 45}"
      ]
     },
     "execution_count": 219,
     "metadata": {},
     "output_type": "execute_result"
    }
   ],
   "source": [
    "d"
   ]
  },
  {
   "cell_type": "code",
   "execution_count": 221,
   "id": "3a156fa2-611c-4933-8133-8d81b93b4857",
   "metadata": {},
   "outputs": [],
   "source": [
    "d[\"Ray\"] = [1, 2, 56, 67]"
   ]
  },
  {
   "cell_type": "code",
   "execution_count": 223,
   "id": "07b46722-2e8d-48e9-b1db-c2f57f9d1e88",
   "metadata": {},
   "outputs": [
    {
     "data": {
      "text/plain": [
       "{10: 'Ajay', 2: 'Sia', 3: 'Ok', 4: 'Pranjal', 11: 'Sia', 'Ray': [1, 2, 56, 67]}"
      ]
     },
     "execution_count": 223,
     "metadata": {},
     "output_type": "execute_result"
    }
   ],
   "source": [
    "d"
   ]
  },
  {
   "cell_type": "code",
   "execution_count": 225,
   "id": "024dec7c-7a54-4155-9bf9-1a868937d6c8",
   "metadata": {},
   "outputs": [
    {
     "data": {
      "text/plain": [
       "'Pranjal'"
      ]
     },
     "execution_count": 225,
     "metadata": {},
     "output_type": "execute_result"
    }
   ],
   "source": [
    "d.pop(4)"
   ]
  },
  {
   "cell_type": "code",
   "execution_count": 229,
   "id": "66270d2b-fcc9-4c92-b92c-de79dd162f67",
   "metadata": {},
   "outputs": [
    {
     "data": {
      "text/plain": [
       "0"
      ]
     },
     "execution_count": 229,
     "metadata": {},
     "output_type": "execute_result"
    }
   ],
   "source": [
    "d.pop(188, 0)"
   ]
  },
  {
   "cell_type": "code",
   "execution_count": 231,
   "id": "db612aff-5a81-4226-9c29-0fb77409fd6e",
   "metadata": {},
   "outputs": [],
   "source": [
    "d = {1: 'pune', 2: 'mumbai', 4: 'city', 'state': 7}"
   ]
  },
  {
   "cell_type": "code",
   "execution_count": 237,
   "id": "62639da5-9426-4d95-b7cc-383763035ace",
   "metadata": {},
   "outputs": [
    {
     "data": {
      "text/plain": [
       "dict_items([(1, 'pune'), (2, 'mumbai'), (4, 'city'), ('state', 7)])"
      ]
     },
     "execution_count": 237,
     "metadata": {},
     "output_type": "execute_result"
    }
   ],
   "source": [
    "d.items()"
   ]
  },
  {
   "cell_type": "code",
   "execution_count": 233,
   "id": "95254e07-b784-4762-985d-3c3db8a0cdb3",
   "metadata": {},
   "outputs": [],
   "source": [
    "# iterate over the dict and print\n",
    "# index/key -> value"
   ]
  },
  {
   "cell_type": "code",
   "execution_count": 239,
   "id": "f60b8301-50d9-4b93-8572-dcb937ed4e40",
   "metadata": {},
   "outputs": [
    {
     "name": "stdout",
     "output_type": "stream",
     "text": [
      "1 -> pune\n",
      "2 -> mumbai\n",
      "4 -> city\n",
      "state -> 7\n"
     ]
    }
   ],
   "source": [
    "for ind, val in d.items():\n",
    "    print(f\"{ind} -> {val}\")"
   ]
  },
  {
   "cell_type": "code",
   "execution_count": null,
   "id": "afdc1a48-4a44-428b-a21a-507c753621be",
   "metadata": {},
   "outputs": [],
   "source": []
  }
 ],
 "metadata": {
  "kernelspec": {
   "display_name": "Python 3 (ipykernel)",
   "language": "python",
   "name": "python3"
  },
  "language_info": {
   "codemirror_mode": {
    "name": "ipython",
    "version": 3
   },
   "file_extension": ".py",
   "mimetype": "text/x-python",
   "name": "python",
   "nbconvert_exporter": "python",
   "pygments_lexer": "ipython3",
   "version": "3.11.9"
  }
 },
 "nbformat": 4,
 "nbformat_minor": 5
}
