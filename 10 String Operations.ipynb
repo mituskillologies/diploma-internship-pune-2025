{
 "cells": [
  {
   "cell_type": "markdown",
   "id": "6b1d5c5e-e7ab-49ea-a2c8-3c4f8447f47b",
   "metadata": {},
   "source": [
    "##### Declare the string"
   ]
  },
  {
   "cell_type": "code",
   "execution_count": 2,
   "id": "2ce2008f-0052-4dbc-a0da-0ac8302def27",
   "metadata": {},
   "outputs": [],
   "source": [
    "name = 'Tushar'"
   ]
  },
  {
   "cell_type": "code",
   "execution_count": 3,
   "id": "ce2fdfc3-dd36-4a7f-90ca-3210a7d57009",
   "metadata": {},
   "outputs": [
    {
     "data": {
      "text/plain": [
       "str"
      ]
     },
     "execution_count": 3,
     "metadata": {},
     "output_type": "execute_result"
    }
   ],
   "source": [
    "type(name)"
   ]
  },
  {
   "cell_type": "code",
   "execution_count": 4,
   "id": "95c3af1d-e13c-4af8-b13c-62062dbebf24",
   "metadata": {},
   "outputs": [],
   "source": [
    "name = \"Tushar\""
   ]
  },
  {
   "cell_type": "code",
   "execution_count": 5,
   "id": "f66bda23-a619-4e7f-870e-cc27231d7138",
   "metadata": {},
   "outputs": [
    {
     "data": {
      "text/plain": [
       "str"
      ]
     },
     "execution_count": 5,
     "metadata": {},
     "output_type": "execute_result"
    }
   ],
   "source": [
    "type(name)"
   ]
  },
  {
   "cell_type": "code",
   "execution_count": 6,
   "id": "77aea393-1ed5-45c7-ae0a-b8052ab50ad0",
   "metadata": {},
   "outputs": [],
   "source": [
    "name = 'तुषार'"
   ]
  },
  {
   "cell_type": "code",
   "execution_count": 7,
   "id": "04cd622a-e4fc-4958-a7d6-ebd0c5077626",
   "metadata": {},
   "outputs": [
    {
     "name": "stdout",
     "output_type": "stream",
     "text": [
      "तुषार\n"
     ]
    }
   ],
   "source": [
    "print(name)"
   ]
  },
  {
   "cell_type": "code",
   "execution_count": 8,
   "id": "be441b0a-e22a-4bdb-a1c8-eed1e0094ee4",
   "metadata": {},
   "outputs": [],
   "source": [
    "name = \"Tushar\""
   ]
  },
  {
   "cell_type": "code",
   "execution_count": 9,
   "id": "1a347e65-f059-4637-a82b-b38744397b1e",
   "metadata": {},
   "outputs": [
    {
     "data": {
      "text/plain": [
       "'Tushar'"
      ]
     },
     "execution_count": 9,
     "metadata": {},
     "output_type": "execute_result"
    }
   ],
   "source": [
    "name"
   ]
  },
  {
   "cell_type": "code",
   "execution_count": 10,
   "id": "6b41cc19-3322-4682-89c3-3f717a609991",
   "metadata": {},
   "outputs": [],
   "source": [
    "text = 'I like \"Python\" Programmming'"
   ]
  },
  {
   "cell_type": "code",
   "execution_count": 11,
   "id": "10d30a5b-b0d5-4183-ad7e-e396f253645a",
   "metadata": {},
   "outputs": [
    {
     "name": "stdout",
     "output_type": "stream",
     "text": [
      "I like \"Python\" Programmming\n"
     ]
    }
   ],
   "source": [
    "print(text)"
   ]
  },
  {
   "cell_type": "code",
   "execution_count": 12,
   "id": "1b30593a-4ee1-4283-becd-b83cd2285419",
   "metadata": {},
   "outputs": [],
   "source": [
    "text = \"I like 'Python' Programmming\""
   ]
  },
  {
   "cell_type": "code",
   "execution_count": 13,
   "id": "b973d293-dac5-4ce8-9a31-d07859de152d",
   "metadata": {},
   "outputs": [
    {
     "name": "stdout",
     "output_type": "stream",
     "text": [
      "I like 'Python' Programmming\n"
     ]
    }
   ],
   "source": [
    "print(text)"
   ]
  },
  {
   "cell_type": "markdown",
   "id": "d604e25b-139c-43bf-a044-d07f987a317f",
   "metadata": {},
   "source": [
    "##### Multi line strings"
   ]
  },
  {
   "cell_type": "code",
   "execution_count": 15,
   "id": "8ecb2446-60cf-4c4d-ac98-0b592610dfaa",
   "metadata": {},
   "outputs": [
    {
     "ename": "SyntaxError",
     "evalue": "unterminated string literal (detected at line 1) (3690830018.py, line 1)",
     "output_type": "error",
     "traceback": [
      "\u001b[0;36m  Cell \u001b[0;32mIn[15], line 1\u001b[0;36m\u001b[0m\n\u001b[0;31m    text = 'Hello how are you\u001b[0m\n\u001b[0m           ^\u001b[0m\n\u001b[0;31mSyntaxError\u001b[0m\u001b[0;31m:\u001b[0m unterminated string literal (detected at line 1)\n"
     ]
    }
   ],
   "source": [
    "text = 'Hello how are you\n",
    "Welcome!\n",
    "I like Python Programming'"
   ]
  },
  {
   "cell_type": "code",
   "execution_count": 16,
   "id": "4014f16e-7282-4d9d-9677-bd7c8f167430",
   "metadata": {},
   "outputs": [],
   "source": [
    "text = '''Hello how are you\n",
    "Welcome!\n",
    "I like Python Programming'''"
   ]
  },
  {
   "cell_type": "code",
   "execution_count": 17,
   "id": "137bb47d-b873-4cdf-8682-9a88969ba011",
   "metadata": {},
   "outputs": [
    {
     "name": "stdout",
     "output_type": "stream",
     "text": [
      "Hello how are you\n",
      "Welcome!\n",
      "I like Python Programming\n"
     ]
    }
   ],
   "source": [
    "print(text)"
   ]
  },
  {
   "cell_type": "code",
   "execution_count": 18,
   "id": "cf17eb4d-d39e-488d-a156-898cc29aa0e9",
   "metadata": {},
   "outputs": [],
   "source": [
    "text = \"\"\"Hello how are you\n",
    "Welcome!\n",
    "I like Python Programming\"\"\""
   ]
  },
  {
   "cell_type": "code",
   "execution_count": 19,
   "id": "7ddbe755-5af1-4d1e-8cd6-3e55cafd0adc",
   "metadata": {},
   "outputs": [
    {
     "name": "stdout",
     "output_type": "stream",
     "text": [
      "Hello how are you\n",
      "Welcome!\n",
      "I like Python Programming\n"
     ]
    }
   ],
   "source": [
    "print(text)"
   ]
  },
  {
   "cell_type": "markdown",
   "id": "725ffb15-30df-4d90-8104-d21b8cf29615",
   "metadata": {},
   "source": [
    "##### Accessing string values"
   ]
  },
  {
   "cell_type": "code",
   "execution_count": 21,
   "id": "86bed59b-5074-45b0-92af-28bbfd0464f5",
   "metadata": {},
   "outputs": [],
   "source": [
    "name = 'Tushar'"
   ]
  },
  {
   "cell_type": "code",
   "execution_count": 22,
   "id": "42965979-2248-4816-b725-645f9860b370",
   "metadata": {},
   "outputs": [
    {
     "data": {
      "text/plain": [
       "'T'"
      ]
     },
     "execution_count": 22,
     "metadata": {},
     "output_type": "execute_result"
    }
   ],
   "source": [
    "name[0]"
   ]
  },
  {
   "cell_type": "code",
   "execution_count": 23,
   "id": "aa47bb4d-6a15-4102-b046-4484d1a27fc1",
   "metadata": {},
   "outputs": [
    {
     "data": {
      "text/plain": [
       "'h'"
      ]
     },
     "execution_count": 23,
     "metadata": {},
     "output_type": "execute_result"
    }
   ],
   "source": [
    "name[3]"
   ]
  },
  {
   "cell_type": "code",
   "execution_count": 24,
   "id": "882164ca-0b38-40dd-ae1f-1400ad67fe43",
   "metadata": {},
   "outputs": [
    {
     "data": {
      "text/plain": [
       "'a'"
      ]
     },
     "execution_count": 24,
     "metadata": {},
     "output_type": "execute_result"
    }
   ],
   "source": [
    "name[-2]"
   ]
  },
  {
   "cell_type": "code",
   "execution_count": 25,
   "id": "203229ee-89e7-4c2f-9957-a71d1223344b",
   "metadata": {},
   "outputs": [
    {
     "name": "stdout",
     "output_type": "stream",
     "text": [
      "T\n",
      "u\n",
      "s\n",
      "h\n",
      "a\n",
      "r\n"
     ]
    }
   ],
   "source": [
    "for c in name:\n",
    "    print(c)"
   ]
  },
  {
   "cell_type": "code",
   "execution_count": 26,
   "id": "e02df9ba-6b35-4d43-8633-5cc6eb08a2a3",
   "metadata": {},
   "outputs": [
    {
     "name": "stdout",
     "output_type": "stream",
     "text": [
      "TTTTTTTTTTTTTTTTTTTTTTTTTTTTTTTTTTTTTTTTTTTTTTTTTT\n",
      "uuuuuuuuuuuuuuuuuuuuuuuuuuuuuuuuuuuuuuuuuuuuuuuuuu\n",
      "ssssssssssssssssssssssssssssssssssssssssssssssssss\n",
      "hhhhhhhhhhhhhhhhhhhhhhhhhhhhhhhhhhhhhhhhhhhhhhhhhh\n",
      "aaaaaaaaaaaaaaaaaaaaaaaaaaaaaaaaaaaaaaaaaaaaaaaaaa\n",
      "rrrrrrrrrrrrrrrrrrrrrrrrrrrrrrrrrrrrrrrrrrrrrrrrrr\n"
     ]
    }
   ],
   "source": [
    "for c in name:\n",
    "    print(c*50)"
   ]
  },
  {
   "cell_type": "code",
   "execution_count": 27,
   "id": "2568eb75-8651-48f5-be79-09045352463f",
   "metadata": {},
   "outputs": [
    {
     "data": {
      "text/plain": [
       "'TusharTusharTusharTusharTushar'"
      ]
     },
     "execution_count": 27,
     "metadata": {},
     "output_type": "execute_result"
    }
   ],
   "source": [
    "name * 5"
   ]
  },
  {
   "cell_type": "code",
   "execution_count": 31,
   "id": "7fda378f-e021-4e35-9f7d-fe0d06bc18de",
   "metadata": {},
   "outputs": [
    {
     "data": {
      "text/plain": [
       "[5, 4, 3, 2, 1, 0]"
      ]
     },
     "execution_count": 31,
     "metadata": {},
     "output_type": "execute_result"
    }
   ],
   "source": [
    "list(range(5,-1,-1))"
   ]
  },
  {
   "cell_type": "code",
   "execution_count": 32,
   "id": "0ed45ea4-0519-4707-9605-7aab9ecf0efb",
   "metadata": {},
   "outputs": [
    {
     "name": "stdout",
     "output_type": "stream",
     "text": [
      "r\n",
      "a\n",
      "h\n",
      "s\n",
      "u\n",
      "T\n"
     ]
    }
   ],
   "source": [
    "for i in range(5,-1,-1):\n",
    "    print(name[i])"
   ]
  },
  {
   "cell_type": "code",
   "execution_count": 33,
   "id": "87bac5b2-a2e6-4355-bee7-f950dc9ed008",
   "metadata": {},
   "outputs": [],
   "source": [
    "name1 = 'Maharashtra'\n",
    "name2 = 'India'"
   ]
  },
  {
   "cell_type": "code",
   "execution_count": 34,
   "id": "a13cd484-976f-44ce-b580-27c248f3a0b9",
   "metadata": {},
   "outputs": [
    {
     "data": {
      "text/plain": [
       "'MaharashtraIndia'"
      ]
     },
     "execution_count": 34,
     "metadata": {},
     "output_type": "execute_result"
    }
   ],
   "source": [
    "name1 + name2"
   ]
  },
  {
   "cell_type": "code",
   "execution_count": 35,
   "id": "a5e0a2ef-367d-41d4-8428-8568bb758edd",
   "metadata": {},
   "outputs": [
    {
     "data": {
      "text/plain": [
       "'Maharashtra India'"
      ]
     },
     "execution_count": 35,
     "metadata": {},
     "output_type": "execute_result"
    }
   ],
   "source": [
    "name1 + \" \" + name2"
   ]
  },
  {
   "cell_type": "markdown",
   "id": "aab832ba-5b4c-46ef-bc94-ae0c681090da",
   "metadata": {},
   "source": [
    "##### Slicing"
   ]
  },
  {
   "cell_type": "code",
   "execution_count": 37,
   "id": "10065bd7-b912-47ac-9156-2244e8d1a255",
   "metadata": {},
   "outputs": [
    {
     "data": {
      "text/plain": [
       "'hara'"
      ]
     },
     "execution_count": 37,
     "metadata": {},
     "output_type": "execute_result"
    }
   ],
   "source": [
    "name1[2:6]"
   ]
  },
  {
   "cell_type": "code",
   "execution_count": 38,
   "id": "54e99ce1-ddd7-46d6-88b7-5be4f2f4922c",
   "metadata": {},
   "outputs": [
    {
     "data": {
      "text/plain": [
       "'harashtra'"
      ]
     },
     "execution_count": 38,
     "metadata": {},
     "output_type": "execute_result"
    }
   ],
   "source": [
    "name1[2:]"
   ]
  },
  {
   "cell_type": "code",
   "execution_count": 39,
   "id": "fbae7e3f-0648-4c1d-a66b-420f118bf766",
   "metadata": {},
   "outputs": [
    {
     "data": {
      "text/plain": [
       "'Mahar'"
      ]
     },
     "execution_count": 39,
     "metadata": {},
     "output_type": "execute_result"
    }
   ],
   "source": [
    "name1[:5]"
   ]
  },
  {
   "cell_type": "code",
   "execution_count": 42,
   "id": "70ba92d8-2ecf-429a-aa09-f64938107eba",
   "metadata": {},
   "outputs": [
    {
     "data": {
      "text/plain": [
       "'Mhrs'"
      ]
     },
     "execution_count": 42,
     "metadata": {},
     "output_type": "execute_result"
    }
   ],
   "source": [
    "name1[0:7:2]"
   ]
  },
  {
   "cell_type": "markdown",
   "id": "7aa8084b-8d82-4f0f-b76d-b36e0aeda805",
   "metadata": {},
   "source": [
    "##### Functions"
   ]
  },
  {
   "cell_type": "code",
   "execution_count": 44,
   "id": "03b655d2-f382-48e5-895b-ffe3e63d31d3",
   "metadata": {},
   "outputs": [
    {
     "data": {
      "text/plain": [
       "6"
      ]
     },
     "execution_count": 44,
     "metadata": {},
     "output_type": "execute_result"
    }
   ],
   "source": [
    "len(name)"
   ]
  },
  {
   "cell_type": "code",
   "execution_count": 45,
   "id": "c89363e0-9e7d-4469-89be-7c1153c0bd9b",
   "metadata": {},
   "outputs": [
    {
     "data": {
      "text/plain": [
       "'u'"
      ]
     },
     "execution_count": 45,
     "metadata": {},
     "output_type": "execute_result"
    }
   ],
   "source": [
    "max(name)"
   ]
  },
  {
   "cell_type": "code",
   "execution_count": 46,
   "id": "10143f24-d57c-49e5-bd87-637f5ea9baee",
   "metadata": {},
   "outputs": [
    {
     "data": {
      "text/plain": [
       "'T'"
      ]
     },
     "execution_count": 46,
     "metadata": {},
     "output_type": "execute_result"
    }
   ],
   "source": [
    "min(name)"
   ]
  },
  {
   "cell_type": "code",
   "execution_count": 47,
   "id": "bfdd58d0-f482-4b8f-b46d-43ac25af6cd6",
   "metadata": {},
   "outputs": [
    {
     "data": {
      "text/plain": [
       "['T', 'a', 'h', 'r', 's', 'u']"
      ]
     },
     "execution_count": 47,
     "metadata": {},
     "output_type": "execute_result"
    }
   ],
   "source": [
    "sorted(name)"
   ]
  },
  {
   "cell_type": "code",
   "execution_count": 48,
   "id": "3669eacc-4993-45a7-af49-05884804f11a",
   "metadata": {},
   "outputs": [
    {
     "data": {
      "text/plain": [
       "['u', 's', 'r', 'h', 'a', 'T']"
      ]
     },
     "execution_count": 48,
     "metadata": {},
     "output_type": "execute_result"
    }
   ],
   "source": [
    "sorted(name, reverse=True)"
   ]
  },
  {
   "cell_type": "markdown",
   "id": "24f09afb-676f-424e-93ea-3b547f6427ef",
   "metadata": {},
   "source": [
    "##### Case related functions"
   ]
  },
  {
   "cell_type": "code",
   "execution_count": 50,
   "id": "9f6a8d26-b4aa-4f72-9556-e5f91ee454d1",
   "metadata": {},
   "outputs": [
    {
     "data": {
      "text/plain": [
       "'Tushar'"
      ]
     },
     "execution_count": 50,
     "metadata": {},
     "output_type": "execute_result"
    }
   ],
   "source": [
    "name"
   ]
  },
  {
   "cell_type": "code",
   "execution_count": 51,
   "id": "62b1d149-79f4-435f-84a0-6261529fdb2a",
   "metadata": {},
   "outputs": [
    {
     "data": {
      "text/plain": [
       "'Tushar'"
      ]
     },
     "execution_count": 51,
     "metadata": {},
     "output_type": "execute_result"
    }
   ],
   "source": [
    "name.capitalize()"
   ]
  },
  {
   "cell_type": "code",
   "execution_count": 52,
   "id": "76e8675f-e8f4-42ce-88e5-47606950f3af",
   "metadata": {},
   "outputs": [
    {
     "data": {
      "text/plain": [
       "'Tushar'"
      ]
     },
     "execution_count": 52,
     "metadata": {},
     "output_type": "execute_result"
    }
   ],
   "source": [
    "name.title()"
   ]
  },
  {
   "cell_type": "code",
   "execution_count": 53,
   "id": "5fd44027-a9c3-493f-a862-e9183642685e",
   "metadata": {},
   "outputs": [],
   "source": [
    "text = 'welcome to Python programming.'"
   ]
  },
  {
   "cell_type": "code",
   "execution_count": 55,
   "id": "0e93e0f0-d675-4c4e-9269-7f6c8b635a5d",
   "metadata": {},
   "outputs": [
    {
     "data": {
      "text/plain": [
       "'Welcome to python programming.'"
      ]
     },
     "execution_count": 55,
     "metadata": {},
     "output_type": "execute_result"
    }
   ],
   "source": [
    "text.capitalize()"
   ]
  },
  {
   "cell_type": "code",
   "execution_count": 56,
   "id": "cc308798-d5d6-40be-94e1-7f77bc99f516",
   "metadata": {},
   "outputs": [
    {
     "data": {
      "text/plain": [
       "'Welcome To Python Programming.'"
      ]
     },
     "execution_count": 56,
     "metadata": {},
     "output_type": "execute_result"
    }
   ],
   "source": [
    "text.title()"
   ]
  },
  {
   "cell_type": "code",
   "execution_count": 57,
   "id": "934eae7c-134b-435e-96d2-dc722d469983",
   "metadata": {},
   "outputs": [
    {
     "data": {
      "text/plain": [
       "'welcome to python programming.'"
      ]
     },
     "execution_count": 57,
     "metadata": {},
     "output_type": "execute_result"
    }
   ],
   "source": [
    "text.lower()"
   ]
  },
  {
   "cell_type": "code",
   "execution_count": 58,
   "id": "2e4cfdc3-f129-4f50-a624-019671b508ec",
   "metadata": {},
   "outputs": [
    {
     "data": {
      "text/plain": [
       "'WELCOME TO PYTHON PROGRAMMING.'"
      ]
     },
     "execution_count": 58,
     "metadata": {},
     "output_type": "execute_result"
    }
   ],
   "source": [
    "text.upper()"
   ]
  },
  {
   "cell_type": "code",
   "execution_count": 59,
   "id": "9f1cdc47-d86f-46a1-abc5-b44c69e727b2",
   "metadata": {},
   "outputs": [
    {
     "data": {
      "text/plain": [
       "'WELCOME TO pYTHON PROGRAMMING.'"
      ]
     },
     "execution_count": 59,
     "metadata": {},
     "output_type": "execute_result"
    }
   ],
   "source": [
    "text.swapcase()"
   ]
  },
  {
   "cell_type": "markdown",
   "id": "d3bda5f5-f185-47a3-96a4-ea1fe8d76e01",
   "metadata": {},
   "source": [
    "##### Search, Find and Replace"
   ]
  },
  {
   "cell_type": "code",
   "execution_count": 61,
   "id": "9037c6a3-faec-4515-9a02-8dea18d22d6b",
   "metadata": {},
   "outputs": [
    {
     "data": {
      "text/plain": [
       "3"
      ]
     },
     "execution_count": 61,
     "metadata": {},
     "output_type": "execute_result"
    }
   ],
   "source": [
    "text.count('m')"
   ]
  },
  {
   "cell_type": "code",
   "execution_count": 62,
   "id": "d07cf645-6534-414a-9835-845eef5fb167",
   "metadata": {},
   "outputs": [
    {
     "data": {
      "text/plain": [
       "1"
      ]
     },
     "execution_count": 62,
     "metadata": {},
     "output_type": "execute_result"
    }
   ],
   "source": [
    "text.count('in')"
   ]
  },
  {
   "cell_type": "code",
   "execution_count": 63,
   "id": "5d6e93b8-cb55-45dc-9a68-2d7a8294a2d4",
   "metadata": {},
   "outputs": [
    {
     "data": {
      "text/plain": [
       "8"
      ]
     },
     "execution_count": 63,
     "metadata": {},
     "output_type": "execute_result"
    }
   ],
   "source": [
    "text.find('t')"
   ]
  },
  {
   "cell_type": "code",
   "execution_count": 66,
   "id": "f57227d9-bbd5-49eb-8218-1890b385b96b",
   "metadata": {},
   "outputs": [
    {
     "data": {
      "text/plain": [
       "13"
      ]
     },
     "execution_count": 66,
     "metadata": {},
     "output_type": "execute_result"
    }
   ],
   "source": [
    "text.rfind('t')"
   ]
  },
  {
   "cell_type": "code",
   "execution_count": 67,
   "id": "fb976577-6f02-42eb-8c93-664af870614e",
   "metadata": {},
   "outputs": [
    {
     "data": {
      "text/plain": [
       "'welcome to Python programming.'"
      ]
     },
     "execution_count": 67,
     "metadata": {},
     "output_type": "execute_result"
    }
   ],
   "source": [
    "text"
   ]
  },
  {
   "cell_type": "code",
   "execution_count": 68,
   "id": "edd5e052-2b3f-4ee4-a53b-d068930bd512",
   "metadata": {},
   "outputs": [
    {
     "data": {
      "text/plain": [
       "8"
      ]
     },
     "execution_count": 68,
     "metadata": {},
     "output_type": "execute_result"
    }
   ],
   "source": [
    "text.index('t')"
   ]
  },
  {
   "cell_type": "code",
   "execution_count": 69,
   "id": "ca3343d3-593d-48b9-9208-ebf0bdcb8f4b",
   "metadata": {},
   "outputs": [
    {
     "ename": "ValueError",
     "evalue": "substring not found",
     "output_type": "error",
     "traceback": [
      "\u001b[0;31m---------------------------------------------------------------------------\u001b[0m",
      "\u001b[0;31mValueError\u001b[0m                                Traceback (most recent call last)",
      "Cell \u001b[0;32mIn[69], line 1\u001b[0m\n\u001b[0;32m----> 1\u001b[0m \u001b[43mtext\u001b[49m\u001b[38;5;241;43m.\u001b[39;49m\u001b[43mrindex\u001b[49m\u001b[43m(\u001b[49m\u001b[38;5;124;43m'\u001b[39;49m\u001b[38;5;124;43mx\u001b[39;49m\u001b[38;5;124;43m'\u001b[39;49m\u001b[43m)\u001b[49m\n",
      "\u001b[0;31mValueError\u001b[0m: substring not found"
     ]
    }
   ],
   "source": [
    "text.rindex('x')"
   ]
  },
  {
   "cell_type": "code",
   "execution_count": 70,
   "id": "2fa11995-848a-4fc9-8a8d-1513917e77c1",
   "metadata": {},
   "outputs": [
    {
     "data": {
      "text/plain": [
       "-1"
      ]
     },
     "execution_count": 70,
     "metadata": {},
     "output_type": "execute_result"
    }
   ],
   "source": [
    "text.rfind('x')"
   ]
  },
  {
   "cell_type": "code",
   "execution_count": 71,
   "id": "df159aa6-7a78-4e66-84e1-c07c69fa8173",
   "metadata": {},
   "outputs": [
    {
     "data": {
      "text/plain": [
       "True"
      ]
     },
     "execution_count": 71,
     "metadata": {},
     "output_type": "execute_result"
    }
   ],
   "source": [
    "name.startswith('T')"
   ]
  },
  {
   "cell_type": "code",
   "execution_count": 72,
   "id": "c133a324-d8ad-4948-a790-58a014343467",
   "metadata": {},
   "outputs": [
    {
     "data": {
      "text/plain": [
       "False"
      ]
     },
     "execution_count": 72,
     "metadata": {},
     "output_type": "execute_result"
    }
   ],
   "source": [
    "name.endswith('T')"
   ]
  },
  {
   "cell_type": "code",
   "execution_count": 73,
   "id": "e9916f35-ab0d-49a6-a082-b13f54b71b68",
   "metadata": {},
   "outputs": [
    {
     "data": {
      "text/plain": [
       "'Tooshar'"
      ]
     },
     "execution_count": 73,
     "metadata": {},
     "output_type": "execute_result"
    }
   ],
   "source": [
    "name.replace('u','oo')"
   ]
  },
  {
   "cell_type": "code",
   "execution_count": 75,
   "id": "c834d922-eb5c-42f7-ad1a-7b57a85c73ad",
   "metadata": {},
   "outputs": [
    {
     "data": {
      "text/plain": [
       "'Welcome To Java Programming.'"
      ]
     },
     "execution_count": 75,
     "metadata": {},
     "output_type": "execute_result"
    }
   ],
   "source": [
    "text.replace('Python','Java').title()"
   ]
  },
  {
   "cell_type": "markdown",
   "id": "60a67ece-d8eb-4835-adf7-54b0e23e2a69",
   "metadata": {},
   "source": [
    "##### Split and Join functions"
   ]
  },
  {
   "cell_type": "code",
   "execution_count": 77,
   "id": "b81b1b39-8d9e-446f-8e0e-c0f841cf4b85",
   "metadata": {},
   "outputs": [
    {
     "data": {
      "text/plain": [
       "['welcome', 'to', 'Python', 'programming.']"
      ]
     },
     "execution_count": 77,
     "metadata": {},
     "output_type": "execute_result"
    }
   ],
   "source": [
    "text.split()"
   ]
  },
  {
   "cell_type": "code",
   "execution_count": 78,
   "id": "b613e73e-a8eb-465d-bed0-c17d93a08f29",
   "metadata": {},
   "outputs": [],
   "source": [
    "data = '''Hello friends!\n",
    "How are you?\n",
    "Love to learn Python Programming'''"
   ]
  },
  {
   "cell_type": "code",
   "execution_count": 79,
   "id": "f4991eaa-7b5e-498b-b4c4-68442da2e0f2",
   "metadata": {},
   "outputs": [
    {
     "data": {
      "text/plain": [
       "['Hello',\n",
       " 'friends!',\n",
       " 'How',\n",
       " 'are',\n",
       " 'you?',\n",
       " 'Love',\n",
       " 'to',\n",
       " 'learn',\n",
       " 'Python',\n",
       " 'Programming']"
      ]
     },
     "execution_count": 79,
     "metadata": {},
     "output_type": "execute_result"
    }
   ],
   "source": [
    "data.split()"
   ]
  },
  {
   "cell_type": "code",
   "execution_count": 80,
   "id": "64533039-c181-4c2a-8871-bb35f06dca6a",
   "metadata": {},
   "outputs": [
    {
     "data": {
      "text/plain": [
       "['Hello friends!', 'How are you?', 'Love to learn Python Programming']"
      ]
     },
     "execution_count": 80,
     "metadata": {},
     "output_type": "execute_result"
    }
   ],
   "source": [
    "data.split('\\n')"
   ]
  },
  {
   "cell_type": "code",
   "execution_count": 81,
   "id": "13e073b4-0db5-42f0-95b8-694ea1a3fb12",
   "metadata": {},
   "outputs": [
    {
     "data": {
      "text/plain": [
       "['Hello friends!', 'How are you?', 'Love to learn Python Programming']"
      ]
     },
     "execution_count": 81,
     "metadata": {},
     "output_type": "execute_result"
    }
   ],
   "source": [
    "data.splitlines()"
   ]
  },
  {
   "cell_type": "code",
   "execution_count": 82,
   "id": "ae96cce2-1724-4fb1-92db-05e959688865",
   "metadata": {},
   "outputs": [],
   "source": [
    "fruits = 'apple,mango,banana,cherry,guava'"
   ]
  },
  {
   "cell_type": "code",
   "execution_count": 83,
   "id": "cea4abee-003a-4f2d-b83d-64081c5c3960",
   "metadata": {},
   "outputs": [
    {
     "data": {
      "text/plain": [
       "['apple', 'mango', 'banana', 'cherry', 'guava']"
      ]
     },
     "execution_count": 83,
     "metadata": {},
     "output_type": "execute_result"
    }
   ],
   "source": [
    "fruits.split(',')"
   ]
  },
  {
   "cell_type": "code",
   "execution_count": 84,
   "id": "feadd49b-b6d7-4706-8f37-9434eda60aec",
   "metadata": {},
   "outputs": [
    {
     "data": {
      "text/plain": [
       "('apple', ',', 'mango,banana,cherry,guava')"
      ]
     },
     "execution_count": 84,
     "metadata": {},
     "output_type": "execute_result"
    }
   ],
   "source": [
    "fruits.partition(',')"
   ]
  },
  {
   "cell_type": "code",
   "execution_count": 85,
   "id": "ada9747c-a525-435a-892c-6bb6a5c6bdda",
   "metadata": {},
   "outputs": [],
   "source": [
    "all_words = ['apple', 'mango', 'banana', 'cherry', 'guava']"
   ]
  },
  {
   "cell_type": "code",
   "execution_count": 87,
   "id": "fab920cd-6df5-4e51-84af-8f0b93244013",
   "metadata": {},
   "outputs": [
    {
     "data": {
      "text/plain": [
       "'apple mango banana cherry guava'"
      ]
     },
     "execution_count": 87,
     "metadata": {},
     "output_type": "execute_result"
    }
   ],
   "source": [
    "' '.join(all_words)"
   ]
  },
  {
   "cell_type": "markdown",
   "id": "07b65b6c-fb29-4277-98f3-18affe15e3d2",
   "metadata": {},
   "source": [
    "##### Whitespace, Padding, and Alignment"
   ]
  },
  {
   "cell_type": "code",
   "execution_count": 89,
   "id": "c20dca2d-143d-48fe-ac6a-7a44783fd67b",
   "metadata": {},
   "outputs": [],
   "source": [
    "text1 = '  Python '"
   ]
  },
  {
   "cell_type": "code",
   "execution_count": 90,
   "id": "6db5c17c-526f-4d29-9aaa-e87aa54860f8",
   "metadata": {},
   "outputs": [
    {
     "data": {
      "text/plain": [
       "'  Python '"
      ]
     },
     "execution_count": 90,
     "metadata": {},
     "output_type": "execute_result"
    }
   ],
   "source": [
    "text1"
   ]
  },
  {
   "cell_type": "code",
   "execution_count": 91,
   "id": "422d0df7-1768-4d53-b04c-cad26deb70e7",
   "metadata": {},
   "outputs": [
    {
     "data": {
      "text/plain": [
       "'Python '"
      ]
     },
     "execution_count": 91,
     "metadata": {},
     "output_type": "execute_result"
    }
   ],
   "source": [
    "text1.lstrip()"
   ]
  },
  {
   "cell_type": "code",
   "execution_count": 92,
   "id": "8970429e-ff20-4027-adde-a551e4d739bd",
   "metadata": {},
   "outputs": [
    {
     "data": {
      "text/plain": [
       "'  Python'"
      ]
     },
     "execution_count": 92,
     "metadata": {},
     "output_type": "execute_result"
    }
   ],
   "source": [
    "text1.rstrip()"
   ]
  },
  {
   "cell_type": "code",
   "execution_count": 93,
   "id": "d0c59fbd-b329-4597-9f92-5134d4ea87e2",
   "metadata": {},
   "outputs": [
    {
     "data": {
      "text/plain": [
       "'Python'"
      ]
     },
     "execution_count": 93,
     "metadata": {},
     "output_type": "execute_result"
    }
   ],
   "source": [
    "text1.strip()"
   ]
  },
  {
   "cell_type": "code",
   "execution_count": 94,
   "id": "0c4c877c-f6bd-4dc4-8c67-da1e21316217",
   "metadata": {},
   "outputs": [
    {
     "data": {
      "text/plain": [
       "'Tushar'"
      ]
     },
     "execution_count": 94,
     "metadata": {},
     "output_type": "execute_result"
    }
   ],
   "source": [
    "name"
   ]
  },
  {
   "cell_type": "code",
   "execution_count": 95,
   "id": "7ec41e2b-4f84-4a4f-a61f-d536f7099b9d",
   "metadata": {},
   "outputs": [
    {
     "data": {
      "text/plain": [
       "'0000Tushar'"
      ]
     },
     "execution_count": 95,
     "metadata": {},
     "output_type": "execute_result"
    }
   ],
   "source": [
    "name.zfill(10)"
   ]
  },
  {
   "cell_type": "markdown",
   "id": "adcd8c26-64ea-4191-9d48-4808efd7d70d",
   "metadata": {},
   "source": [
    "##### Predicate Methods (Boolean Tests)"
   ]
  },
  {
   "cell_type": "code",
   "execution_count": 97,
   "id": "592628ce-4cc0-4f73-8d4d-888bbacc9313",
   "metadata": {},
   "outputs": [
    {
     "data": {
      "text/plain": [
       "False"
      ]
     },
     "execution_count": 97,
     "metadata": {},
     "output_type": "execute_result"
    }
   ],
   "source": [
    "name.isupper()"
   ]
  },
  {
   "cell_type": "code",
   "execution_count": 98,
   "id": "4eff7cd5-20ef-442b-a904-403f7d4bb512",
   "metadata": {},
   "outputs": [
    {
     "data": {
      "text/plain": [
       "False"
      ]
     },
     "execution_count": 98,
     "metadata": {},
     "output_type": "execute_result"
    }
   ],
   "source": [
    "name.islower()"
   ]
  },
  {
   "cell_type": "code",
   "execution_count": 99,
   "id": "ba7aa829-70ab-4573-b1ae-d6fbc09bf109",
   "metadata": {},
   "outputs": [
    {
     "data": {
      "text/plain": [
       "True"
      ]
     },
     "execution_count": 99,
     "metadata": {},
     "output_type": "execute_result"
    }
   ],
   "source": [
    "name.istitle()"
   ]
  },
  {
   "cell_type": "code",
   "execution_count": 100,
   "id": "68f0bd28-4970-484e-a6b8-4d804250e57c",
   "metadata": {},
   "outputs": [
    {
     "data": {
      "text/plain": [
       "False"
      ]
     },
     "execution_count": 100,
     "metadata": {},
     "output_type": "execute_result"
    }
   ],
   "source": [
    "name.isspace()"
   ]
  },
  {
   "cell_type": "code",
   "execution_count": 101,
   "id": "6491d8d4-4242-47ff-abcc-24fea22bb3f1",
   "metadata": {},
   "outputs": [],
   "source": [
    "idf1, idf2 = 'hello123', '123hello'"
   ]
  },
  {
   "cell_type": "code",
   "execution_count": 102,
   "id": "f9972f86-4a7e-43af-a3bb-e4ed9ba5285f",
   "metadata": {},
   "outputs": [
    {
     "data": {
      "text/plain": [
       "True"
      ]
     },
     "execution_count": 102,
     "metadata": {},
     "output_type": "execute_result"
    }
   ],
   "source": [
    "idf1.isidentifier()"
   ]
  },
  {
   "cell_type": "code",
   "execution_count": 103,
   "id": "74285af1-39bf-46ac-9032-296853190914",
   "metadata": {},
   "outputs": [
    {
     "data": {
      "text/plain": [
       "False"
      ]
     },
     "execution_count": 103,
     "metadata": {},
     "output_type": "execute_result"
    }
   ],
   "source": [
    "idf2.isidentifier()"
   ]
  },
  {
   "cell_type": "code",
   "execution_count": 104,
   "id": "c425400f-85fa-4e86-93dd-acf9ef7c351f",
   "metadata": {},
   "outputs": [],
   "source": [
    "num1 = '12345'\n",
    "num2 = '123.45'\n",
    "num3 = 'hello123'\n",
    "num4 = 'three'"
   ]
  },
  {
   "cell_type": "code",
   "execution_count": 105,
   "id": "41beab43-4647-4f54-9c73-0249f7c73397",
   "metadata": {},
   "outputs": [
    {
     "data": {
      "text/plain": [
       "(False, True, True, True)"
      ]
     },
     "execution_count": 105,
     "metadata": {},
     "output_type": "execute_result"
    }
   ],
   "source": [
    "num1.isalpha(), num1.isdigit(), num1.isnumeric(), num1.isalnum(), "
   ]
  },
  {
   "cell_type": "code",
   "execution_count": 106,
   "id": "8771e925-d73b-4518-be27-7d9aca8eca45",
   "metadata": {},
   "outputs": [
    {
     "data": {
      "text/plain": [
       "(False, False, False, False)"
      ]
     },
     "execution_count": 106,
     "metadata": {},
     "output_type": "execute_result"
    }
   ],
   "source": [
    "num2.isalpha(), num2.isdigit(), num2.isnumeric(), num2.isalnum(), "
   ]
  },
  {
   "cell_type": "code",
   "execution_count": 108,
   "id": "7c61cb62-0058-4c7e-94b6-3afe562a5ba4",
   "metadata": {},
   "outputs": [
    {
     "data": {
      "text/plain": [
       "(False, False, False, True)"
      ]
     },
     "execution_count": 108,
     "metadata": {},
     "output_type": "execute_result"
    }
   ],
   "source": [
    "num3.isalpha(), num3.isdigit(), num3.isnumeric(), num3.isalnum(), "
   ]
  },
  {
   "cell_type": "code",
   "execution_count": 109,
   "id": "d3b6021f-2dd9-45e1-b69f-5396d5c7e487",
   "metadata": {},
   "outputs": [
    {
     "data": {
      "text/plain": [
       "(True, False, False, True)"
      ]
     },
     "execution_count": 109,
     "metadata": {},
     "output_type": "execute_result"
    }
   ],
   "source": [
    "num4.isalpha(), num4.isdigit(), num4.isnumeric(), num4.isalnum(), "
   ]
  },
  {
   "cell_type": "markdown",
   "id": "6b546d25-5653-4bd9-aa1d-f23b14a8f344",
   "metadata": {},
   "source": [
    "##### Sample Excercise"
   ]
  },
  {
   "cell_type": "code",
   "execution_count": 111,
   "id": "22e823e5-a807-40e7-9c31-a4eb43ce4958",
   "metadata": {},
   "outputs": [],
   "source": [
    "sent = 'They told that their ages are 23 28 and 29 respectively.'"
   ]
  },
  {
   "cell_type": "code",
   "execution_count": 113,
   "id": "7b437452-dfc5-4af4-879e-7582ceaee774",
   "metadata": {},
   "outputs": [],
   "source": [
    "# Find the average of ages mentioned in the sentence"
   ]
  },
  {
   "cell_type": "code",
   "execution_count": 114,
   "id": "0311a169-3aa3-4291-9332-ac2cd2f84929",
   "metadata": {},
   "outputs": [],
   "source": [
    "words = sent.split()"
   ]
  },
  {
   "cell_type": "code",
   "execution_count": 116,
   "id": "67724ba6-51c9-4dd1-9760-31f3e5f9e6fa",
   "metadata": {},
   "outputs": [],
   "source": [
    "ages = []\n",
    "for word in words:\n",
    "    if word.isdigit():\n",
    "        ages.append(int(word))"
   ]
  },
  {
   "cell_type": "code",
   "execution_count": 117,
   "id": "3ef2c5ed-f668-47eb-995a-9a421ad3fe29",
   "metadata": {},
   "outputs": [
    {
     "data": {
      "text/plain": [
       "[23, 28, 29]"
      ]
     },
     "execution_count": 117,
     "metadata": {},
     "output_type": "execute_result"
    }
   ],
   "source": [
    "ages"
   ]
  },
  {
   "cell_type": "code",
   "execution_count": 118,
   "id": "9984b47a-0469-4ac2-8b84-dd31d3bf0663",
   "metadata": {},
   "outputs": [
    {
     "data": {
      "text/plain": [
       "26.666666666666668"
      ]
     },
     "execution_count": 118,
     "metadata": {},
     "output_type": "execute_result"
    }
   ],
   "source": [
    "sum(ages) / len(ages)"
   ]
  },
  {
   "cell_type": "code",
   "execution_count": null,
   "id": "5b60d001-ae29-45f9-b6c3-59be308fb907",
   "metadata": {},
   "outputs": [],
   "source": []
  }
 ],
 "metadata": {
  "kernelspec": {
   "display_name": "Python 3 (ipykernel)",
   "language": "python",
   "name": "python3"
  },
  "language_info": {
   "codemirror_mode": {
    "name": "ipython",
    "version": 3
   },
   "file_extension": ".py",
   "mimetype": "text/x-python",
   "name": "python",
   "nbconvert_exporter": "python",
   "pygments_lexer": "ipython3",
   "version": "3.10.12"
  }
 },
 "nbformat": 4,
 "nbformat_minor": 5
}
