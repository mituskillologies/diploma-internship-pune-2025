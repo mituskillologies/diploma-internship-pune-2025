{
 "cells": [
  {
   "cell_type": "code",
   "execution_count": 2,
   "id": "dd4922d0-3f52-4ae8-937d-877975ed188e",
   "metadata": {},
   "outputs": [],
   "source": [
    "# check if the number is greater 50 "
   ]
  },
  {
   "cell_type": "code",
   "execution_count": 6,
   "id": "c17ba89b-522f-4ace-a6e2-11a924cb09db",
   "metadata": {},
   "outputs": [
    {
     "name": "stdin",
     "output_type": "stream",
     "text": [
      "Enter the number:  40\n"
     ]
    }
   ],
   "source": [
    "num = int(input(\"Enter the number: \"))\n",
    "\n",
    "if num > 50:\n",
    "    print(\"ok\")"
   ]
  },
  {
   "cell_type": "code",
   "execution_count": 14,
   "id": "6ac226db-8ea6-4063-a32c-06c4f68abb41",
   "metadata": {},
   "outputs": [
    {
     "name": "stdin",
     "output_type": "stream",
     "text": [
      "Enter the number:  0\n"
     ]
    },
    {
     "name": "stdout",
     "output_type": "stream",
     "text": [
      "neg\n",
      "not ok\n"
     ]
    }
   ],
   "source": [
    "# check if the number is positive or neg\n",
    "\n",
    "num = int(input(\"Enter the number: \"))\n",
    "\n",
    "if num > 0:\n",
    "    print(\"positive\")\n",
    "    print(\"ok\")\n",
    "else:\n",
    "    print(\"neg\")\n",
    "    print(\"not ok\")"
   ]
  },
  {
   "cell_type": "code",
   "execution_count": 16,
   "id": "0ffa5123-44e5-4f8e-af7b-b0195f823c0e",
   "metadata": {},
   "outputs": [
    {
     "name": "stdin",
     "output_type": "stream",
     "text": [
      "Enter the number:  0\n"
     ]
    },
    {
     "name": "stdout",
     "output_type": "stream",
     "text": [
      "Zero\n"
     ]
    }
   ],
   "source": [
    "# check if the number is positive or neg\n",
    "\n",
    "num = int(input(\"Enter the number: \"))\n",
    "\n",
    "if num > 0:    # cumpulsory, non-repeatable\n",
    "    print(\"positive\")\n",
    "    print(\"ok\")\n",
    "elif num == 0:    # optional, repeatable\n",
    "    print(\"Zero\")\n",
    "else:               # optional, non-repeatable\n",
    "    print(\"neg\")\n",
    "    print(\"not ok\")"
   ]
  },
  {
   "cell_type": "code",
   "execution_count": 18,
   "id": "1bbfd71f-5b91-4c58-b369-25f240ff24ad",
   "metadata": {},
   "outputs": [
    {
     "name": "stdin",
     "output_type": "stream",
     "text": [
      "Enter the number:  5\n"
     ]
    },
    {
     "name": "stdout",
     "output_type": "stream",
     "text": [
      "odd\n"
     ]
    }
   ],
   "source": [
    "# check if the number is even or odd\n",
    "\n",
    "num = int(input(\"Enter the number: \"))\n",
    "\n",
    "if num % 2 == 0:\n",
    "    print(\"even\")\n",
    "else:\n",
    "    print(\"odd\")"
   ]
  },
  {
   "cell_type": "code",
   "execution_count": 22,
   "id": "6d35f0fe-e866-4d80-bada-b77f5716c425",
   "metadata": {},
   "outputs": [
    {
     "data": {
      "text/plain": [
       "1"
      ]
     },
     "execution_count": 22,
     "metadata": {},
     "output_type": "execute_result"
    }
   ],
   "source": [
    "int(True)"
   ]
  },
  {
   "cell_type": "code",
   "execution_count": 24,
   "id": "1f99fd6d-1834-40b0-9c5e-e232fc04a294",
   "metadata": {},
   "outputs": [
    {
     "data": {
      "text/plain": [
       "0"
      ]
     },
     "execution_count": 24,
     "metadata": {},
     "output_type": "execute_result"
    }
   ],
   "source": [
    "int(False)"
   ]
  },
  {
   "cell_type": "code",
   "execution_count": 26,
   "id": "0605ae8d-214c-4a18-ab1f-497c5df2136a",
   "metadata": {},
   "outputs": [
    {
     "data": {
      "text/plain": [
       "2"
      ]
     },
     "execution_count": 26,
     "metadata": {},
     "output_type": "execute_result"
    }
   ],
   "source": [
    "True + True + False"
   ]
  },
  {
   "cell_type": "code",
   "execution_count": 42,
   "id": "aa4fc4de-bf25-43a1-b601-9a0e7ee705bc",
   "metadata": {},
   "outputs": [
    {
     "name": "stdout",
     "output_type": "stream",
     "text": [
      "exists\n"
     ]
    }
   ],
   "source": [
    "a = 10\n",
    "\n",
    "if a:\n",
    "    print(\"exists\")"
   ]
  },
  {
   "cell_type": "code",
   "execution_count": 48,
   "id": "56bd7285-0380-4ddc-b806-19c356b84ef8",
   "metadata": {},
   "outputs": [
    {
     "name": "stdin",
     "output_type": "stream",
     "text": [
      "Enter the number:  10\n"
     ]
    },
    {
     "name": "stdout",
     "output_type": "stream",
     "text": [
      "less than 50\n"
     ]
    }
   ],
   "source": [
    "# using nested if check if the number is between 50 and 100\n",
    "\n",
    "num = int(input(\"Enter the number: \"))\n",
    "\n",
    "if num > 50:\n",
    "    if num < 100:\n",
    "        print(\"correct\")\n",
    "    else:\n",
    "        print(\"greater than 50 but not less than 100\")\n",
    "else:\n",
    "    print(\"less than 50\")"
   ]
  },
  {
   "cell_type": "code",
   "execution_count": 54,
   "id": "61e51f74-8740-433b-b155-bb0bfd3cc427",
   "metadata": {},
   "outputs": [
    {
     "name": "stdin",
     "output_type": "stream",
     "text": [
      "Enter the number:  10\n"
     ]
    },
    {
     "name": "stdout",
     "output_type": "stream",
     "text": [
      "incorrect\n"
     ]
    }
   ],
   "source": [
    "num = int(input(\"Enter the number: \"))\n",
    "\n",
    "if num > 50 and num < 100:\n",
    "    print(\"correct\")\n",
    "else:\n",
    "    print(\"incorrect\")"
   ]
  },
  {
   "cell_type": "code",
   "execution_count": 58,
   "id": "fbac78c4-5b52-4c61-99b2-7b9cfa9d7a2e",
   "metadata": {},
   "outputs": [
    {
     "name": "stdin",
     "output_type": "stream",
     "text": [
      "Enter the purchase cost:  2000\n",
      "Enter the selling cost:  1000\n"
     ]
    },
    {
     "name": "stdout",
     "output_type": "stream",
     "text": [
      "loss of 1000\n"
     ]
    }
   ],
   "source": [
    "# read the purchase and selling cost from user \n",
    "# find if profit or loss and how much\n",
    "\n",
    "purchase_cost = int(input(\"Enter the purchase cost: \"))\n",
    "selling_cost = int(input(\"Enter the selling cost: \"))\n",
    "\n",
    "if selling_cost > purchase_cost:\n",
    "    print(f\"profit of {selling_cost - purchase_cost}\")\n",
    "else:\n",
    "    print(f\"loss of {purchase_cost - selling_cost}\")"
   ]
  },
  {
   "cell_type": "code",
   "execution_count": 64,
   "id": "276c7088-3bf6-471e-a07a-d7d842a6c473",
   "metadata": {},
   "outputs": [
    {
     "name": "stdin",
     "output_type": "stream",
     "text": [
      "Enter the number:  30\n",
      "Enter the number:  23\n",
      "Enter the number:  100\n"
     ]
    },
    {
     "name": "stdout",
     "output_type": "stream",
     "text": [
      "largest is: 100\n"
     ]
    }
   ],
   "source": [
    "# read 3 numbers and and find the largest\n",
    "# use nested if only ('and', 'or' not allowed)\n",
    "\n",
    "\n",
    "num1 = int(input(\"Enter the number: \"))\n",
    "num2 = int(input(\"Enter the number: \"))\n",
    "num3 = int(input(\"Enter the number: \"))\n",
    "\n",
    "\n",
    "if num1 > num2:\n",
    "    if num1 > num3:\n",
    "        print(\"largest is: \", num1)\n",
    "    else:\n",
    "        print(\"largest is:\", num3)\n",
    "else:\n",
    "    if num2 > num3:\n",
    "        print(\"largest is: \", num2)\n",
    "    else:\n",
    "        print(\"largest is: \", num3)"
   ]
  },
  {
   "cell_type": "code",
   "execution_count": 72,
   "id": "7df687bf-d61e-40a0-92c7-96a90bae62ac",
   "metadata": {},
   "outputs": [
    {
     "name": "stdin",
     "output_type": "stream",
     "text": [
      "Enter the year:  1900\n"
     ]
    },
    {
     "name": "stdout",
     "output_type": "stream",
     "text": [
      "century but not leap\n"
     ]
    }
   ],
   "source": [
    "# 2020 => leap\n",
    "# 2017 => not leap\n",
    "# 2000 => leap\n",
    "# 1900 => not leap\n",
    "# use nested if\n",
    "\n",
    "yr = int(input(\"Enter the year: \"))\n",
    "\n",
    "if yr % 4 == 0:\n",
    "    if yr % 100 == 0:\n",
    "        if yr % 400 == 0:\n",
    "            print(\"the year is leap century year\")\n",
    "        else:\n",
    "            print(\"century but not leap\")\n",
    "    else:\n",
    "        print(\"leap year\")\n",
    "else:\n",
    "    print(\"not leap\")"
   ]
  },
  {
   "cell_type": "code",
   "execution_count": 76,
   "id": "8765894c-c691-4ae4-ac83-ed328591a469",
   "metadata": {},
   "outputs": [],
   "source": [
    "num = 10\n",
    "\n",
    "if num > 5:\n",
    "    pass"
   ]
  },
  {
   "cell_type": "code",
   "execution_count": 80,
   "id": "97ad70f6-385e-4acc-a70d-faa7260acb0f",
   "metadata": {},
   "outputs": [
    {
     "name": "stdin",
     "output_type": "stream",
     "text": [
      "Enter the phy marks:  78\n",
      "Enter the chem marks:  67\n",
      "Enter the maths marks:  79\n"
     ]
    },
    {
     "name": "stdout",
     "output_type": "stream",
     "text": [
      "A\n"
     ]
    }
   ],
   "source": [
    "# grade according to marks\n",
    "# take marks for phy, chem and maths\n",
    "# if avg marks > 80 => dist, 70 to 80 => A, 60 to 70 => B, 50 to 60 => c,\n",
    "# < 50 => F\n",
    "\n",
    "phy = int(input(\"Enter the phy marks: \"))\n",
    "chem = int(input(\"Enter the chem marks: \"))\n",
    "maths = int(input(\"Enter the maths marks: \"))\n",
    "\n",
    "avg = (phy + chem + maths)/3\n",
    "\n",
    "if avg > 80:\n",
    "    print(\"dist\")\n",
    "elif 70 < avg < 80:\n",
    "    print(\"A\")\n",
    "elif 60 < avg < 70:\n",
    "    print(\"B\")\n",
    "elif 50 < avg < 60:\n",
    "    print(\"C\")\n",
    "else:\n",
    "    print(\"F\")"
   ]
  },
  {
   "cell_type": "code",
   "execution_count": 92,
   "id": "93aae577-1840-4f0a-bdc9-b317c2181a30",
   "metadata": {},
   "outputs": [
    {
     "name": "stdout",
     "output_type": "stream",
     "text": [
      "Welcome !!!!!!!\n",
      "\n"
     ]
    },
    {
     "name": "stdin",
     "output_type": "stream",
     "text": [
      "Enter the number:  50\n"
     ]
    },
    {
     "name": "stdout",
     "output_type": "stream",
     "text": [
      "MENU=>\n",
      "1. Square\n",
      "2. Cube\n",
      "3. positive or negative\n"
     ]
    },
    {
     "name": "stdin",
     "output_type": "stream",
     "text": [
      "Please enter your choice 7648476\n"
     ]
    },
    {
     "name": "stdout",
     "output_type": "stream",
     "text": [
      "Oh great homo sapien please visit nearest hospital\n"
     ]
    }
   ],
   "source": [
    "print(\"Welcome !!!!!!!\\n\")\n",
    "\n",
    "num = int(input(\"Enter the number: \"))\n",
    "\n",
    "print(\"MENU=>\\n1. Square\\n2. Cube\\n3. positive or negative\")\n",
    "\n",
    "ch = int(input(\"Please enter your choice\"))\n",
    "\n",
    "if ch == 1:\n",
    "    print(\"square is: \", num ** 2)\n",
    "elif ch == 2:\n",
    "    print(\"cube is: \", num ** 3)\n",
    "elif ch == 3:\n",
    "    if num > 0:\n",
    "        print(\"number is positive\")\n",
    "    else:\n",
    "        print(\"number is negative\")\n",
    "else:\n",
    "    print(\"Oh great homo sapien please visit nearest hospital!!!\")"
   ]
  },
  {
   "cell_type": "code",
   "execution_count": null,
   "id": "2ef143a6-ac9a-47c8-a928-ede79eed50c8",
   "metadata": {},
   "outputs": [],
   "source": []
  }
 ],
 "metadata": {
  "kernelspec": {
   "display_name": "Python 3 (ipykernel)",
   "language": "python",
   "name": "python3"
  },
  "language_info": {
   "codemirror_mode": {
    "name": "ipython",
    "version": 3
   },
   "file_extension": ".py",
   "mimetype": "text/x-python",
   "name": "python",
   "nbconvert_exporter": "python",
   "pygments_lexer": "ipython3",
   "version": "3.11.9"
  }
 },
 "nbformat": 4,
 "nbformat_minor": 5
}
