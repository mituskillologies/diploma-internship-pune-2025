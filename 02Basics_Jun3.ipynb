{
 "cells": [
  {
   "cell_type": "markdown",
   "id": "9ad0b5f4-a1bd-4576-965a-93200896dd40",
   "metadata": {},
   "source": [
    "# Operators"
   ]
  },
  {
   "cell_type": "code",
   "execution_count": 3,
   "id": "86268f95-b5b8-4266-8948-2700de744734",
   "metadata": {},
   "outputs": [],
   "source": [
    "# arithmetic operators"
   ]
  },
  {
   "cell_type": "code",
   "execution_count": 5,
   "id": "5433035e-a7d6-4f01-a655-052222b8847b",
   "metadata": {},
   "outputs": [],
   "source": [
    "a = 5\n",
    "b = 3"
   ]
  },
  {
   "cell_type": "code",
   "execution_count": 7,
   "id": "a741f439-de04-44b7-96b3-aeda54eb4bbe",
   "metadata": {},
   "outputs": [
    {
     "data": {
      "text/plain": [
       "8"
      ]
     },
     "execution_count": 7,
     "metadata": {},
     "output_type": "execute_result"
    }
   ],
   "source": [
    "a + b"
   ]
  },
  {
   "cell_type": "code",
   "execution_count": 9,
   "id": "cdc4f4c3-0107-476b-9607-ecb6c45ec8c7",
   "metadata": {},
   "outputs": [
    {
     "data": {
      "text/plain": [
       "2"
      ]
     },
     "execution_count": 9,
     "metadata": {},
     "output_type": "execute_result"
    }
   ],
   "source": [
    "a - b"
   ]
  },
  {
   "cell_type": "code",
   "execution_count": 11,
   "id": "cd41580c-b8ce-46fc-b14d-60737930261c",
   "metadata": {},
   "outputs": [
    {
     "data": {
      "text/plain": [
       "1.6666666666666667"
      ]
     },
     "execution_count": 11,
     "metadata": {},
     "output_type": "execute_result"
    }
   ],
   "source": [
    "a / b"
   ]
  },
  {
   "cell_type": "code",
   "execution_count": 13,
   "id": "74dfab23-f6fb-4169-af3f-30db19860ca8",
   "metadata": {},
   "outputs": [
    {
     "data": {
      "text/plain": [
       "15"
      ]
     },
     "execution_count": 13,
     "metadata": {},
     "output_type": "execute_result"
    }
   ],
   "source": [
    "a * b"
   ]
  },
  {
   "cell_type": "code",
   "execution_count": 17,
   "id": "6a83d032-52db-4819-a3b7-052df45528e6",
   "metadata": {},
   "outputs": [
    {
     "data": {
      "text/plain": [
       "125"
      ]
     },
     "execution_count": 17,
     "metadata": {},
     "output_type": "execute_result"
    }
   ],
   "source": [
    "a ** b  # raise to/ exponent"
   ]
  },
  {
   "cell_type": "code",
   "execution_count": 19,
   "id": "faa627c7-5b31-41b1-8e5b-dcd113a38346",
   "metadata": {},
   "outputs": [
    {
     "data": {
      "text/plain": [
       "1"
      ]
     },
     "execution_count": 19,
     "metadata": {},
     "output_type": "execute_result"
    }
   ],
   "source": [
    "a // b"
   ]
  },
  {
   "cell_type": "code",
   "execution_count": 21,
   "id": "e41660de-f219-4813-8183-09b53edb815b",
   "metadata": {},
   "outputs": [
    {
     "data": {
      "text/plain": [
       "2"
      ]
     },
     "execution_count": 21,
     "metadata": {},
     "output_type": "execute_result"
    }
   ],
   "source": [
    "a % b"
   ]
  },
  {
   "cell_type": "code",
   "execution_count": 23,
   "id": "5ace32ec-76e1-4e17-8d4d-46c2755f6323",
   "metadata": {},
   "outputs": [],
   "source": [
    "# bitwise"
   ]
  },
  {
   "cell_type": "code",
   "execution_count": 25,
   "id": "3048a8e0-a629-4082-bdf0-b0a2e82d28eb",
   "metadata": {},
   "outputs": [],
   "source": [
    "# &, ^, |, <<, >>"
   ]
  },
  {
   "cell_type": "code",
   "execution_count": 27,
   "id": "336fe8d3-0ca5-4ea5-9d58-96dd8e337736",
   "metadata": {},
   "outputs": [
    {
     "data": {
      "text/plain": [
       "'0b1101'"
      ]
     },
     "execution_count": 27,
     "metadata": {},
     "output_type": "execute_result"
    }
   ],
   "source": [
    "bin(13)"
   ]
  },
  {
   "cell_type": "code",
   "execution_count": 77,
   "id": "4dbd59ad-d90e-4f57-9b9b-8f4e5c4b4772",
   "metadata": {},
   "outputs": [],
   "source": [
    "a = 13; b = 15"
   ]
  },
  {
   "cell_type": "code",
   "execution_count": 79,
   "id": "4847de50-6f08-4d37-a7b7-0523de6f3a39",
   "metadata": {},
   "outputs": [
    {
     "data": {
      "text/plain": [
       "('0b1101', '0b1111')"
      ]
     },
     "execution_count": 79,
     "metadata": {},
     "output_type": "execute_result"
    }
   ],
   "source": [
    "bin(a), bin(b)"
   ]
  },
  {
   "cell_type": "code",
   "execution_count": 81,
   "id": "1c393ea1-b581-439c-a02d-3db212f36afe",
   "metadata": {},
   "outputs": [
    {
     "data": {
      "text/plain": [
       "13"
      ]
     },
     "execution_count": 81,
     "metadata": {},
     "output_type": "execute_result"
    }
   ],
   "source": [
    "# & => sets 1 only when both bits are 1\n",
    "a & b"
   ]
  },
  {
   "cell_type": "code",
   "execution_count": 83,
   "id": "219fc1b8-75f4-49d4-bf83-8873761d95fd",
   "metadata": {},
   "outputs": [
    {
     "data": {
      "text/plain": [
       "'0b1'"
      ]
     },
     "execution_count": 83,
     "metadata": {},
     "output_type": "execute_result"
    }
   ],
   "source": [
    "bin(1)"
   ]
  },
  {
   "cell_type": "code",
   "execution_count": 85,
   "id": "bbf4eb0b-c8ee-4f7b-afa9-e10ea74ba808",
   "metadata": {},
   "outputs": [
    {
     "data": {
      "text/plain": [
       "17"
      ]
     },
     "execution_count": 85,
     "metadata": {},
     "output_type": "execute_result"
    }
   ],
   "source": [
    "int('0b10001', 2)"
   ]
  },
  {
   "cell_type": "code",
   "execution_count": 91,
   "id": "a7513d59-3a64-414a-8fdd-ec0e69c3c9fd",
   "metadata": {},
   "outputs": [
    {
     "data": {
      "text/plain": [
       "15"
      ]
     },
     "execution_count": 91,
     "metadata": {},
     "output_type": "execute_result"
    }
   ],
   "source": [
    "# | => will set 1 if one of the bit is 1\n",
    "a | b"
   ]
  },
  {
   "cell_type": "code",
   "execution_count": 99,
   "id": "55fc78f7-48d2-48b3-9cb0-061639635beb",
   "metadata": {},
   "outputs": [
    {
     "data": {
      "text/plain": [
       "'0b1101'"
      ]
     },
     "execution_count": 99,
     "metadata": {},
     "output_type": "execute_result"
    }
   ],
   "source": [
    "bin(a)"
   ]
  },
  {
   "cell_type": "code",
   "execution_count": 95,
   "id": "b15f0fb4-b546-417b-a786-2921442be2e1",
   "metadata": {},
   "outputs": [
    {
     "data": {
      "text/plain": [
       "'0b110100'"
      ]
     },
     "execution_count": 95,
     "metadata": {},
     "output_type": "execute_result"
    }
   ],
   "source": [
    "bin(a << 2)"
   ]
  },
  {
   "cell_type": "code",
   "execution_count": 97,
   "id": "e76865d9-210a-4c6c-b263-ad7e1dc0cd95",
   "metadata": {},
   "outputs": [
    {
     "data": {
      "text/plain": [
       "'0b11'"
      ]
     },
     "execution_count": 97,
     "metadata": {},
     "output_type": "execute_result"
    }
   ],
   "source": [
    "bin(a >> 2)"
   ]
  },
  {
   "cell_type": "code",
   "execution_count": 101,
   "id": "b208b459-21c0-4adb-bdaf-dc1a9d7cd276",
   "metadata": {},
   "outputs": [],
   "source": [
    "# assignment operators"
   ]
  },
  {
   "cell_type": "code",
   "execution_count": 103,
   "id": "a1d6e4a0-787c-4843-9466-047623c003a7",
   "metadata": {},
   "outputs": [],
   "source": [
    "a = 5"
   ]
  },
  {
   "cell_type": "code",
   "execution_count": 105,
   "id": "a62b9b6b-d59a-4a7d-a2c9-ac37491322d7",
   "metadata": {},
   "outputs": [],
   "source": [
    "a += 3"
   ]
  },
  {
   "cell_type": "code",
   "execution_count": 107,
   "id": "5e5350ad-a71c-494f-b85e-ea6b58e5e69b",
   "metadata": {},
   "outputs": [
    {
     "data": {
      "text/plain": [
       "8"
      ]
     },
     "execution_count": 107,
     "metadata": {},
     "output_type": "execute_result"
    }
   ],
   "source": [
    "a"
   ]
  },
  {
   "cell_type": "code",
   "execution_count": 109,
   "id": "af631780-1543-4598-886a-990ec99552f1",
   "metadata": {},
   "outputs": [
    {
     "data": {
      "text/plain": [
       "64"
      ]
     },
     "execution_count": 109,
     "metadata": {},
     "output_type": "execute_result"
    }
   ],
   "source": [
    "a **= 2\n",
    "a"
   ]
  },
  {
   "cell_type": "code",
   "execution_count": 111,
   "id": "fe9e6f97-707e-4f72-b574-fcd6345d46cb",
   "metadata": {},
   "outputs": [],
   "source": [
    "a //= 8"
   ]
  },
  {
   "cell_type": "code",
   "execution_count": 113,
   "id": "5e91d712-e2e7-4149-9f1d-5bcb3139bf21",
   "metadata": {},
   "outputs": [
    {
     "data": {
      "text/plain": [
       "8"
      ]
     },
     "execution_count": 113,
     "metadata": {},
     "output_type": "execute_result"
    }
   ],
   "source": [
    "a"
   ]
  },
  {
   "cell_type": "code",
   "execution_count": 115,
   "id": "4fb38d67-68e6-4f0e-976e-42ca87614706",
   "metadata": {},
   "outputs": [
    {
     "data": {
      "text/plain": [
       "0"
      ]
     },
     "execution_count": 115,
     "metadata": {},
     "output_type": "execute_result"
    }
   ],
   "source": [
    "a %= 8\n",
    "a"
   ]
  },
  {
   "cell_type": "code",
   "execution_count": 117,
   "id": "e8013a99-be16-49f4-a6f4-ea66bf1835e2",
   "metadata": {},
   "outputs": [],
   "source": [
    "# comparison"
   ]
  },
  {
   "cell_type": "code",
   "execution_count": 121,
   "id": "b6022721-14f8-4c1d-be3f-a529c9ea0043",
   "metadata": {},
   "outputs": [
    {
     "data": {
      "text/plain": [
       "(10, 15)"
      ]
     },
     "execution_count": 121,
     "metadata": {},
     "output_type": "execute_result"
    }
   ],
   "source": [
    "a = 10; a, b"
   ]
  },
  {
   "cell_type": "code",
   "execution_count": 123,
   "id": "4395c420-d540-4063-a3c0-78d7b20d97be",
   "metadata": {},
   "outputs": [
    {
     "data": {
      "text/plain": [
       "False"
      ]
     },
     "execution_count": 123,
     "metadata": {},
     "output_type": "execute_result"
    }
   ],
   "source": [
    "a == b"
   ]
  },
  {
   "cell_type": "code",
   "execution_count": 125,
   "id": "1bb1a2cf-f7d8-4c99-8c77-a8be6fc5589d",
   "metadata": {},
   "outputs": [
    {
     "data": {
      "text/plain": [
       "True"
      ]
     },
     "execution_count": 125,
     "metadata": {},
     "output_type": "execute_result"
    }
   ],
   "source": [
    "a != b"
   ]
  },
  {
   "cell_type": "code",
   "execution_count": 127,
   "id": "466dd085-b698-41f6-96f3-64af04a8257f",
   "metadata": {},
   "outputs": [
    {
     "data": {
      "text/plain": [
       "False"
      ]
     },
     "execution_count": 127,
     "metadata": {},
     "output_type": "execute_result"
    }
   ],
   "source": [
    "a > b"
   ]
  },
  {
   "cell_type": "code",
   "execution_count": 129,
   "id": "332d3f26-933d-43a5-9980-8cc2b1553434",
   "metadata": {},
   "outputs": [
    {
     "data": {
      "text/plain": [
       "False"
      ]
     },
     "execution_count": 129,
     "metadata": {},
     "output_type": "execute_result"
    }
   ],
   "source": [
    "a >= b"
   ]
  },
  {
   "cell_type": "code",
   "execution_count": 131,
   "id": "41cfe71e-f56a-4861-9251-eacb4253500d",
   "metadata": {},
   "outputs": [],
   "source": [
    "# logical operators"
   ]
  },
  {
   "cell_type": "code",
   "execution_count": 133,
   "id": "bf35779c-eb08-44f9-a105-5654d3d1402c",
   "metadata": {},
   "outputs": [],
   "source": [
    "a = True\n",
    "b = False"
   ]
  },
  {
   "cell_type": "code",
   "execution_count": 135,
   "id": "af78a50d-5580-41d9-b14d-3acc8f54315f",
   "metadata": {},
   "outputs": [
    {
     "data": {
      "text/plain": [
       "False"
      ]
     },
     "execution_count": 135,
     "metadata": {},
     "output_type": "execute_result"
    }
   ],
   "source": [
    "a and b"
   ]
  },
  {
   "cell_type": "code",
   "execution_count": 137,
   "id": "7d8085bb-5a6e-45e0-baf0-5b6f6d76aff6",
   "metadata": {},
   "outputs": [
    {
     "data": {
      "text/plain": [
       "True"
      ]
     },
     "execution_count": 137,
     "metadata": {},
     "output_type": "execute_result"
    }
   ],
   "source": [
    "a or b"
   ]
  },
  {
   "cell_type": "code",
   "execution_count": 139,
   "id": "a8792329-6264-4065-be32-9fa986f8f577",
   "metadata": {},
   "outputs": [
    {
     "data": {
      "text/plain": [
       "False"
      ]
     },
     "execution_count": 139,
     "metadata": {},
     "output_type": "execute_result"
    }
   ],
   "source": [
    "not a"
   ]
  },
  {
   "cell_type": "code",
   "execution_count": 141,
   "id": "15cd37b2-80b3-4849-bd51-fb71a95a7860",
   "metadata": {},
   "outputs": [
    {
     "data": {
      "text/plain": [
       "True"
      ]
     },
     "execution_count": 141,
     "metadata": {},
     "output_type": "execute_result"
    }
   ],
   "source": [
    "not b"
   ]
  },
  {
   "cell_type": "code",
   "execution_count": 143,
   "id": "48e4af98-ccbe-4d8b-9648-e18b2f8b568d",
   "metadata": {},
   "outputs": [],
   "source": [
    "# identity"
   ]
  },
  {
   "cell_type": "code",
   "execution_count": 145,
   "id": "03a68d16-3116-4196-908e-08f78fc8b454",
   "metadata": {},
   "outputs": [],
   "source": [
    "# is, is not"
   ]
  },
  {
   "cell_type": "code",
   "execution_count": 147,
   "id": "9f1e2378-f323-4f8c-979b-a1ae6e019da3",
   "metadata": {},
   "outputs": [],
   "source": [
    "a = 5\n",
    "b = 5"
   ]
  },
  {
   "cell_type": "code",
   "execution_count": 159,
   "id": "59210daf-96b2-4a66-b11c-533d276d1132",
   "metadata": {},
   "outputs": [
    {
     "data": {
      "text/plain": [
       "(8909928, 8909928)"
      ]
     },
     "execution_count": 159,
     "metadata": {},
     "output_type": "execute_result"
    }
   ],
   "source": [
    "id(a), id(b)"
   ]
  },
  {
   "cell_type": "code",
   "execution_count": 149,
   "id": "1af0b62d-f004-4828-ac5d-77e8caa06671",
   "metadata": {},
   "outputs": [
    {
     "data": {
      "text/plain": [
       "True"
      ]
     },
     "execution_count": 149,
     "metadata": {},
     "output_type": "execute_result"
    }
   ],
   "source": [
    "a is b"
   ]
  },
  {
   "cell_type": "code",
   "execution_count": 151,
   "id": "dfc93230-9fb7-4699-a672-1ac46613e1ab",
   "metadata": {},
   "outputs": [
    {
     "data": {
      "text/plain": [
       "False"
      ]
     },
     "execution_count": 151,
     "metadata": {},
     "output_type": "execute_result"
    }
   ],
   "source": [
    "a is not b"
   ]
  },
  {
   "cell_type": "code",
   "execution_count": 153,
   "id": "e331406c-55fd-443b-87d3-92f88d6a04e8",
   "metadata": {},
   "outputs": [],
   "source": [
    "x = [1, 2]\n",
    "y = [1, 2]"
   ]
  },
  {
   "cell_type": "code",
   "execution_count": 161,
   "id": "d53c7a9e-3b63-4e13-be61-791bc4700a1e",
   "metadata": {},
   "outputs": [
    {
     "data": {
      "text/plain": [
       "(128257611228800, 128257611221248)"
      ]
     },
     "execution_count": 161,
     "metadata": {},
     "output_type": "execute_result"
    }
   ],
   "source": [
    "id(x), id(y)"
   ]
  },
  {
   "cell_type": "code",
   "execution_count": 155,
   "id": "62551d61-a1f4-41b8-8cab-f5495156081c",
   "metadata": {},
   "outputs": [
    {
     "data": {
      "text/plain": [
       "False"
      ]
     },
     "execution_count": 155,
     "metadata": {},
     "output_type": "execute_result"
    }
   ],
   "source": [
    "x is y"
   ]
  },
  {
   "cell_type": "code",
   "execution_count": 163,
   "id": "76958054-706b-445a-be86-39689c19da3c",
   "metadata": {},
   "outputs": [],
   "source": [
    "z = x"
   ]
  },
  {
   "cell_type": "code",
   "execution_count": 165,
   "id": "b3b591c4-3e73-4a56-820b-dff401399f49",
   "metadata": {},
   "outputs": [
    {
     "data": {
      "text/plain": [
       "True"
      ]
     },
     "execution_count": 165,
     "metadata": {},
     "output_type": "execute_result"
    }
   ],
   "source": [
    "z is x"
   ]
  },
  {
   "cell_type": "code",
   "execution_count": 167,
   "id": "aef6f789-5a1c-433d-b8f7-1b6c025c2ffd",
   "metadata": {},
   "outputs": [],
   "source": [
    "x.append(10)"
   ]
  },
  {
   "cell_type": "code",
   "execution_count": 169,
   "id": "582781a9-d687-4be6-97f2-94c74aa63f5e",
   "metadata": {},
   "outputs": [
    {
     "data": {
      "text/plain": [
       "[1, 2, 10]"
      ]
     },
     "execution_count": 169,
     "metadata": {},
     "output_type": "execute_result"
    }
   ],
   "source": [
    "x"
   ]
  },
  {
   "cell_type": "code",
   "execution_count": 171,
   "id": "7a1e3551-3691-4d47-8387-8ec294b05f4d",
   "metadata": {},
   "outputs": [
    {
     "data": {
      "text/plain": [
       "[1, 2, 10]"
      ]
     },
     "execution_count": 171,
     "metadata": {},
     "output_type": "execute_result"
    }
   ],
   "source": [
    "z"
   ]
  },
  {
   "cell_type": "code",
   "execution_count": 173,
   "id": "9fb90b3e-43a9-439f-b3a6-1f8f8b67ec9f",
   "metadata": {},
   "outputs": [
    {
     "data": {
      "text/plain": [
       "(128257611228800, 128257611228800)"
      ]
     },
     "execution_count": 173,
     "metadata": {},
     "output_type": "execute_result"
    }
   ],
   "source": [
    "id(x), id(z)"
   ]
  },
  {
   "cell_type": "code",
   "execution_count": 175,
   "id": "a62d5685-0e75-4f6a-a96a-ad9e910f74d6",
   "metadata": {},
   "outputs": [],
   "source": [
    "# membership"
   ]
  },
  {
   "cell_type": "code",
   "execution_count": 177,
   "id": "9983ac58-b076-4d01-b012-f115ceeb88a4",
   "metadata": {},
   "outputs": [],
   "source": [
    "# in, not in"
   ]
  },
  {
   "cell_type": "code",
   "execution_count": 179,
   "id": "2b5b290a-55d4-46ff-a766-746b57853e05",
   "metadata": {},
   "outputs": [],
   "source": [
    "l = [12, 34, 11, 10]"
   ]
  },
  {
   "cell_type": "code",
   "execution_count": 181,
   "id": "aaf45f5a-8b43-4a65-a526-3e57a69cd7f0",
   "metadata": {},
   "outputs": [
    {
     "data": {
      "text/plain": [
       "True"
      ]
     },
     "execution_count": 181,
     "metadata": {},
     "output_type": "execute_result"
    }
   ],
   "source": [
    "10 in l"
   ]
  },
  {
   "cell_type": "code",
   "execution_count": 183,
   "id": "02d60b76-96cd-487b-9993-d4805027e042",
   "metadata": {},
   "outputs": [
    {
     "data": {
      "text/plain": [
       "False"
      ]
     },
     "execution_count": 183,
     "metadata": {},
     "output_type": "execute_result"
    }
   ],
   "source": [
    "100 in l"
   ]
  },
  {
   "cell_type": "code",
   "execution_count": 185,
   "id": "67a12b3b-e483-4222-9e1a-fcf69d237990",
   "metadata": {},
   "outputs": [
    {
     "data": {
      "text/plain": [
       "False"
      ]
     },
     "execution_count": 185,
     "metadata": {},
     "output_type": "execute_result"
    }
   ],
   "source": [
    "10 not in l"
   ]
  },
  {
   "cell_type": "markdown",
   "id": "7a25c4a3-6c8a-47dd-b571-520501dcb8c0",
   "metadata": {},
   "source": [
    "# precedence and association"
   ]
  },
  {
   "cell_type": "code",
   "execution_count": 188,
   "id": "15a74c91-b3ec-4976-9c1c-22432de91cc8",
   "metadata": {},
   "outputs": [],
   "source": [
    "# BODMAS"
   ]
  },
  {
   "cell_type": "code",
   "execution_count": 190,
   "id": "9b997246-a941-4560-aecd-18cf45e0d677",
   "metadata": {},
   "outputs": [
    {
     "data": {
      "text/plain": [
       "6"
      ]
     },
     "execution_count": 190,
     "metadata": {},
     "output_type": "execute_result"
    }
   ],
   "source": [
    "5 + 3 - 2"
   ]
  },
  {
   "cell_type": "code",
   "execution_count": 192,
   "id": "b768086e-4b56-4ca2-a055-e3843ff641ff",
   "metadata": {},
   "outputs": [
    {
     "data": {
      "text/plain": [
       "1"
      ]
     },
     "execution_count": 192,
     "metadata": {},
     "output_type": "execute_result"
    }
   ],
   "source": [
    "5 - 2 * 2"
   ]
  },
  {
   "cell_type": "code",
   "execution_count": 194,
   "id": "c4013204-d1b3-44a8-a13b-2c64256cea18",
   "metadata": {},
   "outputs": [
    {
     "data": {
      "text/plain": [
       "1"
      ]
     },
     "execution_count": 194,
     "metadata": {},
     "output_type": "execute_result"
    }
   ],
   "source": [
    "(2- 1) ** 100"
   ]
  },
  {
   "cell_type": "code",
   "execution_count": 196,
   "id": "aaea9536-9d95-4cf4-9fd2-d9d01a5a382d",
   "metadata": {},
   "outputs": [
    {
     "data": {
      "text/plain": [
       "256"
      ]
     },
     "execution_count": 196,
     "metadata": {},
     "output_type": "execute_result"
    }
   ],
   "source": [
    "2 ** 2 ** 3  # right association"
   ]
  },
  {
   "cell_type": "code",
   "execution_count": 198,
   "id": "38fc07c1-24b3-4c56-8f91-14f253ba8468",
   "metadata": {},
   "outputs": [
    {
     "data": {
      "text/plain": [
       "4"
      ]
     },
     "execution_count": 198,
     "metadata": {},
     "output_type": "execute_result"
    }
   ],
   "source": [
    "2 ** 3 // 2"
   ]
  },
  {
   "cell_type": "markdown",
   "id": "49817dba-59bc-473e-90ec-d7bad2a24470",
   "metadata": {},
   "source": [
    "#### print function"
   ]
  },
  {
   "cell_type": "code",
   "execution_count": 202,
   "id": "7b1098b4-4f98-4c23-a927-6fda5904d8a8",
   "metadata": {},
   "outputs": [],
   "source": [
    "name = \"Sia\"\n",
    "marks = 75"
   ]
  },
  {
   "cell_type": "code",
   "execution_count": 204,
   "id": "9d0792bc-52c5-43a9-8ea4-78a07e4dd3fd",
   "metadata": {},
   "outputs": [],
   "source": [
    "# my name is Sia and marks are 75"
   ]
  },
  {
   "cell_type": "code",
   "execution_count": 206,
   "id": "98766519-df6d-41e1-8071-4d4272de6f89",
   "metadata": {},
   "outputs": [
    {
     "name": "stdout",
     "output_type": "stream",
     "text": [
      "my name is Sia and marks are 75\n"
     ]
    }
   ],
   "source": [
    "print(\"my name is\", name, \"and marks are\", marks)"
   ]
  },
  {
   "cell_type": "code",
   "execution_count": 212,
   "id": "f31872d8-526a-4eb3-a456-fd079b4671ff",
   "metadata": {},
   "outputs": [
    {
     "name": "stdout",
     "output_type": "stream",
     "text": [
      "my name is Sia and marks are 75\n"
     ]
    }
   ],
   "source": [
    "print(\"my name is %s and marks are %i\" %(name, marks))"
   ]
  },
  {
   "cell_type": "code",
   "execution_count": 214,
   "id": "abe37c3e-df67-4dd0-9da1-7dfa8b235ad1",
   "metadata": {},
   "outputs": [
    {
     "name": "stdout",
     "output_type": "stream",
     "text": [
      "my name is Sia and marks are 75\n"
     ]
    }
   ],
   "source": [
    "print(f\"my name is {name} and marks are {marks}\")"
   ]
  },
  {
   "cell_type": "code",
   "execution_count": 216,
   "id": "450a404e-a62b-4c27-8659-2449976b06e2",
   "metadata": {},
   "outputs": [],
   "source": [
    "# dir and help"
   ]
  },
  {
   "cell_type": "code",
   "execution_count": 224,
   "id": "4b4f78cb-8477-4435-871c-8b8cca568c55",
   "metadata": {},
   "outputs": [],
   "source": [
    "dir(name);"
   ]
  },
  {
   "cell_type": "code",
   "execution_count": 222,
   "id": "03a8d0ba-1c5d-41d8-9aaa-7836ce7167be",
   "metadata": {},
   "outputs": [
    {
     "name": "stdout",
     "output_type": "stream",
     "text": [
      "Help on built-in function lstrip:\n",
      "\n",
      "lstrip(chars=None, /) method of builtins.str instance\n",
      "    Return a copy of the string with leading whitespace removed.\n",
      "    \n",
      "    If chars is given and not None, remove characters in chars instead.\n",
      "\n"
     ]
    }
   ],
   "source": [
    "help(name.lstrip)"
   ]
  },
  {
   "cell_type": "code",
   "execution_count": 226,
   "id": "53efafde-39a6-49b0-b0a5-3125cea45484",
   "metadata": {},
   "outputs": [],
   "source": [
    "# ascii"
   ]
  },
  {
   "cell_type": "code",
   "execution_count": 228,
   "id": "3f9d71cc-2644-4579-96b1-660a5bec6a6a",
   "metadata": {},
   "outputs": [
    {
     "data": {
      "text/plain": [
       "97"
      ]
     },
     "execution_count": 228,
     "metadata": {},
     "output_type": "execute_result"
    }
   ],
   "source": [
    "ord(\"a\")"
   ]
  },
  {
   "cell_type": "code",
   "execution_count": 230,
   "id": "ecde0af1-1764-4cf4-9082-30c7d5302158",
   "metadata": {},
   "outputs": [
    {
     "data": {
      "text/plain": [
       "114"
      ]
     },
     "execution_count": 230,
     "metadata": {},
     "output_type": "execute_result"
    }
   ],
   "source": [
    "ord(\"r\")"
   ]
  },
  {
   "cell_type": "code",
   "execution_count": 234,
   "id": "3faa53eb-2ff1-48e9-8b7b-74073e57d3d9",
   "metadata": {},
   "outputs": [
    {
     "data": {
      "text/plain": [
       "64"
      ]
     },
     "execution_count": 234,
     "metadata": {},
     "output_type": "execute_result"
    }
   ],
   "source": [
    "ord(\"@\")"
   ]
  },
  {
   "cell_type": "code",
   "execution_count": 236,
   "id": "e1d602a2-5f63-41cd-8c0f-6dcf6fa86426",
   "metadata": {},
   "outputs": [
    {
     "data": {
      "text/plain": [
       "'r'"
      ]
     },
     "execution_count": 236,
     "metadata": {},
     "output_type": "execute_result"
    }
   ],
   "source": [
    "chr(114)"
   ]
  },
  {
   "cell_type": "code",
   "execution_count": 242,
   "id": "95315823-23da-4ce5-98f6-8ee816f1d06b",
   "metadata": {},
   "outputs": [],
   "source": [
    "# type casting"
   ]
  },
  {
   "cell_type": "code",
   "execution_count": 244,
   "id": "77fa6ea5-0309-4a03-a63c-8f777cbfb3a2",
   "metadata": {},
   "outputs": [],
   "source": [
    "a = 12\n",
    "b = 23.45\n",
    "c = \"pune\""
   ]
  },
  {
   "cell_type": "code",
   "execution_count": 246,
   "id": "5070e12b-1765-4700-b1a1-0c65f3bbd8b8",
   "metadata": {},
   "outputs": [
    {
     "data": {
      "text/plain": [
       "12.0"
      ]
     },
     "execution_count": 246,
     "metadata": {},
     "output_type": "execute_result"
    }
   ],
   "source": [
    "float(a)"
   ]
  },
  {
   "cell_type": "code",
   "execution_count": 248,
   "id": "9210862a-0d4e-4e1b-bf53-f42ad0d0e64b",
   "metadata": {},
   "outputs": [
    {
     "data": {
      "text/plain": [
       "23"
      ]
     },
     "execution_count": 248,
     "metadata": {},
     "output_type": "execute_result"
    }
   ],
   "source": [
    "int(b)"
   ]
  },
  {
   "cell_type": "code",
   "execution_count": 250,
   "id": "a94849e3-4720-4e58-9661-5af171415629",
   "metadata": {},
   "outputs": [
    {
     "data": {
      "text/plain": [
       "'23.45'"
      ]
     },
     "execution_count": 250,
     "metadata": {},
     "output_type": "execute_result"
    }
   ],
   "source": [
    "str(b)"
   ]
  },
  {
   "cell_type": "code",
   "execution_count": 252,
   "id": "1104b352-90ca-4674-8b77-fcc791de81f4",
   "metadata": {},
   "outputs": [
    {
     "ename": "ValueError",
     "evalue": "invalid literal for int() with base 10: 'pune'",
     "output_type": "error",
     "traceback": [
      "\u001b[0;31m---------------------------------------------------------------------------\u001b[0m",
      "\u001b[0;31mValueError\u001b[0m                                Traceback (most recent call last)",
      "Cell \u001b[0;32mIn[252], line 1\u001b[0m\n\u001b[0;32m----> 1\u001b[0m \u001b[38;5;28mint\u001b[39m(c)\n",
      "\u001b[0;31mValueError\u001b[0m: invalid literal for int() with base 10: 'pune'"
     ]
    }
   ],
   "source": [
    "int(c)"
   ]
  },
  {
   "cell_type": "code",
   "execution_count": 254,
   "id": "a1f42dba-9715-4c0f-8be9-e68bcf157f00",
   "metadata": {},
   "outputs": [],
   "source": [
    "d = \"100\""
   ]
  },
  {
   "cell_type": "code",
   "execution_count": 256,
   "id": "0d3ae6c4-7e68-4267-9e98-725f1ad5bb40",
   "metadata": {},
   "outputs": [
    {
     "data": {
      "text/plain": [
       "100"
      ]
     },
     "execution_count": 256,
     "metadata": {},
     "output_type": "execute_result"
    }
   ],
   "source": [
    "int(d)"
   ]
  },
  {
   "cell_type": "code",
   "execution_count": 258,
   "id": "b02ee192-aa0d-431e-a79c-aeb87c92e7a8",
   "metadata": {},
   "outputs": [],
   "source": [
    "# user input"
   ]
  },
  {
   "cell_type": "code",
   "execution_count": 260,
   "id": "18c8fb4f-c783-40e8-b6bb-1e39a0e46d71",
   "metadata": {},
   "outputs": [
    {
     "name": "stdout",
     "output_type": "stream",
     "text": [
      "30\n"
     ]
    }
   ],
   "source": [
    "a = 10\n",
    "b = 20\n",
    "\n",
    "res = a + b\n",
    "print(res)"
   ]
  },
  {
   "cell_type": "code",
   "execution_count": 264,
   "id": "bd3624fa-55f4-40fc-b639-756b4ba11ecd",
   "metadata": {},
   "outputs": [
    {
     "name": "stdin",
     "output_type": "stream",
     "text": [
      "Enter the 1st number:  1\n",
      "Enter the 2nd number:  1\n"
     ]
    },
    {
     "name": "stdout",
     "output_type": "stream",
     "text": [
      "2\n"
     ]
    }
   ],
   "source": [
    "a = int(input(\"Enter the 1st number: \"))\n",
    "b = int(input(\"Enter the 2nd number: \"))\n",
    "\n",
    "res = a + b\n",
    "print(res)"
   ]
  },
  {
   "cell_type": "code",
   "execution_count": 268,
   "id": "0875ec67-d7dd-4fd9-a391-88e20161fff3",
   "metadata": {},
   "outputs": [],
   "source": [
    "\"\"\"\n",
    "take sec as user input and convert it in the format =>\n",
    "hours: min: sec\n",
    "\n",
    "ex... 72 sec\n",
    "=> 00:01:12\n",
    "\"\"\";"
   ]
  },
  {
   "cell_type": "code",
   "execution_count": 270,
   "id": "41ae96e8-b27a-4caa-9fe8-3c471ab1c5df",
   "metadata": {},
   "outputs": [
    {
     "name": "stdin",
     "output_type": "stream",
     "text": [
      "Enter the seconds you want to convert=>  50\n"
     ]
    },
    {
     "name": "stdout",
     "output_type": "stream",
     "text": [
      "00 00: 50\n"
     ]
    }
   ],
   "source": [
    "sec = int(input(\"Enter the seconds you want to convert=> \"))\n",
    "\n",
    "hours = sec // 3600\n",
    "\n",
    "min = (sec % 3600) // 60\n",
    "\n",
    "seconds = sec % 60\n",
    "\n",
    "print(f\"{hours:02} {min:02}: {seconds:02}\")"
   ]
  },
  {
   "cell_type": "code",
   "execution_count": null,
   "id": "c6a7af7c-43a7-4532-8e54-518ab8431be7",
   "metadata": {},
   "outputs": [],
   "source": []
  }
 ],
 "metadata": {
  "kernelspec": {
   "display_name": "Python 3 (ipykernel)",
   "language": "python",
   "name": "python3"
  },
  "language_info": {
   "codemirror_mode": {
    "name": "ipython",
    "version": 3
   },
   "file_extension": ".py",
   "mimetype": "text/x-python",
   "name": "python",
   "nbconvert_exporter": "python",
   "pygments_lexer": "ipython3",
   "version": "3.11.9"
  }
 },
 "nbformat": 4,
 "nbformat_minor": 5
}
