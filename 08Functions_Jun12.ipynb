{
 "cells": [
  {
   "cell_type": "code",
   "execution_count": 1,
   "id": "ab75b4fb-fd67-49d9-83b1-a645073a0019",
   "metadata": {},
   "outputs": [
    {
     "name": "stdout",
     "output_type": "stream",
     "text": [
      "Hello\n",
      "Ok\n",
      "Bye!!!\n"
     ]
    }
   ],
   "source": [
    "print(\"Hello\")\n",
    "print(\"Ok\")\n",
    "print(\"Bye!!!\")"
   ]
  },
  {
   "cell_type": "code",
   "execution_count": 3,
   "id": "9b0c2143-1981-4180-a699-873aadda6c97",
   "metadata": {},
   "outputs": [],
   "source": [
    "def show():      # function definition\n",
    "    print(\"Hello\")\n",
    "    print(\"Ok\")\n",
    "    print(\"Bye!!!\")"
   ]
  },
  {
   "cell_type": "code",
   "execution_count": 9,
   "id": "514fd025-0ec8-46e6-aad1-7869178791b9",
   "metadata": {},
   "outputs": [
    {
     "name": "stdout",
     "output_type": "stream",
     "text": [
      "Hello\n",
      "Ok\n",
      "Bye!!!\n"
     ]
    }
   ],
   "source": [
    "show()   # functin call"
   ]
  },
  {
   "cell_type": "code",
   "execution_count": 11,
   "id": "9060111f-c97f-4a17-b249-c0c1ae78c424",
   "metadata": {},
   "outputs": [
    {
     "name": "stdout",
     "output_type": "stream",
     "text": [
      "Hello\n",
      "Ok\n",
      "Bye!!!\n",
      "Hello\n",
      "Ok\n",
      "Bye!!!\n",
      "Hello\n",
      "Ok\n",
      "Bye!!!\n"
     ]
    }
   ],
   "source": [
    "show()\n",
    "show()\n",
    "show()"
   ]
  },
  {
   "cell_type": "code",
   "execution_count": 155,
   "id": "58b260c8-2c48-4779-b8c7-fbe7b7b5cbce",
   "metadata": {},
   "outputs": [],
   "source": [
    "# parameterized function\n",
    "\n",
    "def sq(num: int) -> int:\n",
    "    \"\"\"\n",
    "    gives the square of a number\n",
    "    \"\"\"\n",
    "    res = num * num\n",
    "    print(res)"
   ]
  },
  {
   "cell_type": "code",
   "execution_count": 157,
   "id": "4464c1e2-6dce-4b4d-9ebf-f44cb0bac17e",
   "metadata": {},
   "outputs": [
    {
     "name": "stdout",
     "output_type": "stream",
     "text": [
      "Help on function sq in module __main__:\n",
      "\n",
      "sq(num: int) -> int\n",
      "    gives the square of a number\n",
      "\n"
     ]
    }
   ],
   "source": [
    "help(sq)"
   ]
  },
  {
   "cell_type": "code",
   "execution_count": 151,
   "id": "43615f96-97a8-445a-a9a0-4e44e0264b12",
   "metadata": {},
   "outputs": [
    {
     "name": "stdout",
     "output_type": "stream",
     "text": [
      "49\n"
     ]
    }
   ],
   "source": [
    "sq(7)"
   ]
  },
  {
   "cell_type": "code",
   "execution_count": 17,
   "id": "3e3778e3-51a6-4bc2-a59e-948e01563b8c",
   "metadata": {},
   "outputs": [
    {
     "name": "stdout",
     "output_type": "stream",
     "text": [
      "100\n"
     ]
    }
   ],
   "source": [
    "sq(10)"
   ]
  },
  {
   "cell_type": "code",
   "execution_count": 19,
   "id": "c8fde840-b81e-4eb6-9f71-b9faa539c84a",
   "metadata": {},
   "outputs": [],
   "source": [
    "# find out largest between 2 numbers\n",
    "\n",
    "def largest(a, b):\n",
    "    if a > b:\n",
    "        print(\"Largest is\", a)\n",
    "    elif a == b:\n",
    "        print(\"Both are equal\")\n",
    "    else:\n",
    "        print(\"Largest is\", b)"
   ]
  },
  {
   "cell_type": "code",
   "execution_count": 21,
   "id": "900cc215-2b26-4249-91d8-cf1ec25d8e11",
   "metadata": {},
   "outputs": [
    {
     "name": "stdout",
     "output_type": "stream",
     "text": [
      "Largest is 10\n"
     ]
    }
   ],
   "source": [
    "largest(10, 3)"
   ]
  },
  {
   "cell_type": "code",
   "execution_count": 27,
   "id": "c86e1570-f83a-423a-95c5-1a3d5c884b47",
   "metadata": {},
   "outputs": [],
   "source": [
    "# function to print the 'name'... 'n' times  (2 para)\n",
    "\n",
    "\n",
    "def times(num, name):\n",
    "    for num in range(num):\n",
    "        print(name)"
   ]
  },
  {
   "cell_type": "code",
   "execution_count": 29,
   "id": "9bfd934c-24f5-4e52-a24c-cee4b6b717a6",
   "metadata": {},
   "outputs": [
    {
     "name": "stdout",
     "output_type": "stream",
     "text": [
      "pune\n",
      "pune\n",
      "pune\n"
     ]
    }
   ],
   "source": [
    "times(3, \"pune\")"
   ]
  },
  {
   "cell_type": "code",
   "execution_count": 31,
   "id": "a8031d61-8935-4665-82e9-0357b3ff6195",
   "metadata": {},
   "outputs": [],
   "source": [
    "def rep(num, name):\n",
    "    for i in range(num):\n",
    "        print(name)"
   ]
  },
  {
   "cell_type": "code",
   "execution_count": 33,
   "id": "c832d5f6-386a-49dc-b253-f11b059eb0d9",
   "metadata": {},
   "outputs": [
    {
     "name": "stdout",
     "output_type": "stream",
     "text": [
      "pune\n",
      "pune\n",
      "pune\n",
      "pune\n",
      "pune\n"
     ]
    }
   ],
   "source": [
    "rep(5, \"pune\")"
   ]
  },
  {
   "cell_type": "code",
   "execution_count": 35,
   "id": "a3b87c39-975d-4d17-a6ea-cfa5766fea6c",
   "metadata": {},
   "outputs": [],
   "source": [
    "# function to find factorial\n",
    "\n",
    "def fact(n):\n",
    "    res = 1\n",
    "    for i in range(1, n+1):\n",
    "        res *= i\n",
    "    print(res)"
   ]
  },
  {
   "cell_type": "code",
   "execution_count": 37,
   "id": "74484caf-22fe-40fc-bdb4-29adab4904b0",
   "metadata": {},
   "outputs": [
    {
     "name": "stdout",
     "output_type": "stream",
     "text": [
      "5040\n"
     ]
    }
   ],
   "source": [
    "fact(7)"
   ]
  },
  {
   "cell_type": "code",
   "execution_count": 39,
   "id": "00947502-2cc6-42b4-abf9-af131ff9ddd3",
   "metadata": {},
   "outputs": [
    {
     "name": "stdout",
     "output_type": "stream",
     "text": [
      "120\n"
     ]
    }
   ],
   "source": [
    "fact(5)"
   ]
  },
  {
   "cell_type": "code",
   "execution_count": 41,
   "id": "29fe3dea-1501-40e2-b261-679d54c6561f",
   "metadata": {},
   "outputs": [],
   "source": [
    "# functions returning values"
   ]
  },
  {
   "cell_type": "code",
   "execution_count": 43,
   "id": "ec9b90e0-a18d-4286-972d-06a75944fa35",
   "metadata": {},
   "outputs": [],
   "source": [
    "def sq(num):\n",
    "    res = num * num\n",
    "    return res"
   ]
  },
  {
   "cell_type": "code",
   "execution_count": 45,
   "id": "9e9d251c-4d37-4a90-9c95-4bff9ad022cf",
   "metadata": {},
   "outputs": [
    {
     "data": {
      "text/plain": [
       "64"
      ]
     },
     "execution_count": 45,
     "metadata": {},
     "output_type": "execute_result"
    }
   ],
   "source": [
    "sq(8)"
   ]
  },
  {
   "cell_type": "code",
   "execution_count": 47,
   "id": "44977650-e296-48a1-a676-0f64a843edd1",
   "metadata": {},
   "outputs": [],
   "source": [
    "# difference bet return and print"
   ]
  },
  {
   "cell_type": "code",
   "execution_count": 49,
   "id": "364a813e-3e6b-4107-8d27-6b9b6289f8fd",
   "metadata": {},
   "outputs": [],
   "source": [
    "def add1(a, b):\n",
    "    print(a + b)"
   ]
  },
  {
   "cell_type": "code",
   "execution_count": 51,
   "id": "0e1931d2-70f7-4e40-a02a-0e9e82465417",
   "metadata": {},
   "outputs": [
    {
     "name": "stdout",
     "output_type": "stream",
     "text": [
      "69\n"
     ]
    }
   ],
   "source": [
    "add1(2, 67)"
   ]
  },
  {
   "cell_type": "code",
   "execution_count": 53,
   "id": "3ce9da5b-dcae-4815-a575-d651b5160188",
   "metadata": {},
   "outputs": [
    {
     "name": "stdout",
     "output_type": "stream",
     "text": [
      "53\n"
     ]
    }
   ],
   "source": [
    "i = add1(50, 3)"
   ]
  },
  {
   "cell_type": "code",
   "execution_count": 57,
   "id": "290d88f3-6e0b-4650-bf66-a936bbdb92d7",
   "metadata": {},
   "outputs": [
    {
     "name": "stdout",
     "output_type": "stream",
     "text": [
      "None\n"
     ]
    }
   ],
   "source": [
    "print(i)"
   ]
  },
  {
   "cell_type": "code",
   "execution_count": 59,
   "id": "2aed8b4a-a4ec-4b12-bb71-83b96f607c87",
   "metadata": {},
   "outputs": [
    {
     "name": "stdout",
     "output_type": "stream",
     "text": [
      "7\n"
     ]
    },
    {
     "ename": "TypeError",
     "evalue": "unsupported operand type(s) for +: 'NoneType' and 'int'",
     "output_type": "error",
     "traceback": [
      "\u001b[0;31m---------------------------------------------------------------------------\u001b[0m",
      "\u001b[0;31mTypeError\u001b[0m                                 Traceback (most recent call last)",
      "Cell \u001b[0;32mIn[59], line 1\u001b[0m\n\u001b[0;32m----> 1\u001b[0m add1(\u001b[38;5;241m3\u001b[39m, \u001b[38;5;241m4\u001b[39m) \u001b[38;5;241m+\u001b[39m \u001b[38;5;241m4\u001b[39m\n",
      "\u001b[0;31mTypeError\u001b[0m: unsupported operand type(s) for +: 'NoneType' and 'int'"
     ]
    }
   ],
   "source": [
    "add1(3, 4) + 4"
   ]
  },
  {
   "cell_type": "code",
   "execution_count": 61,
   "id": "7a98f3c3-bdde-4335-b3ea-895b167c3826",
   "metadata": {},
   "outputs": [],
   "source": [
    "def add2(a, b):\n",
    "    return a + b"
   ]
  },
  {
   "cell_type": "code",
   "execution_count": 63,
   "id": "8238f710-60f8-45b3-a384-2d71afcde533",
   "metadata": {},
   "outputs": [],
   "source": [
    "i = add2(3, 4)"
   ]
  },
  {
   "cell_type": "code",
   "execution_count": 65,
   "id": "ff34d038-7e38-450c-a0db-55db7c80671e",
   "metadata": {},
   "outputs": [
    {
     "data": {
      "text/plain": [
       "7"
      ]
     },
     "execution_count": 65,
     "metadata": {},
     "output_type": "execute_result"
    }
   ],
   "source": [
    "i"
   ]
  },
  {
   "cell_type": "code",
   "execution_count": 67,
   "id": "0a0013e6-82a9-4f35-b8e8-102fa3a2b0d3",
   "metadata": {},
   "outputs": [
    {
     "data": {
      "text/plain": [
       "11"
      ]
     },
     "execution_count": 67,
     "metadata": {},
     "output_type": "execute_result"
    }
   ],
   "source": [
    "add2(3, 4) + 4"
   ]
  },
  {
   "cell_type": "code",
   "execution_count": 71,
   "id": "eefe9713-1c7a-4e0c-9ae6-f85044e5e6c2",
   "metadata": {},
   "outputs": [],
   "source": [
    "def cal(a):\n",
    "    sq =  a * a\n",
    "    cu = a ** 3\n",
    "    return sq, cu"
   ]
  },
  {
   "cell_type": "code",
   "execution_count": 73,
   "id": "bd878320-476b-41b1-8dfd-f3e3743e1819",
   "metadata": {},
   "outputs": [
    {
     "data": {
      "text/plain": [
       "(25, 125)"
      ]
     },
     "execution_count": 73,
     "metadata": {},
     "output_type": "execute_result"
    }
   ],
   "source": [
    "cal(5)"
   ]
  },
  {
   "cell_type": "code",
   "execution_count": 69,
   "id": "6dab50f7-d425-414b-96db-703c67802605",
   "metadata": {},
   "outputs": [],
   "source": [
    "# function for addition of 3 numbers"
   ]
  },
  {
   "cell_type": "code",
   "execution_count": 75,
   "id": "faf3cfd5-eb35-4bc7-9410-e1bbf09a3b28",
   "metadata": {},
   "outputs": [],
   "source": [
    "def add3(a, b, c):\n",
    "    return a + b + c"
   ]
  },
  {
   "cell_type": "code",
   "execution_count": 83,
   "id": "f709d391-ab56-464c-9347-7a15d562c83a",
   "metadata": {},
   "outputs": [
    {
     "ename": "TypeError",
     "evalue": "add3() missing 3 required positional arguments: 'a', 'b', and 'c'",
     "output_type": "error",
     "traceback": [
      "\u001b[0;31m---------------------------------------------------------------------------\u001b[0m",
      "\u001b[0;31mTypeError\u001b[0m                                 Traceback (most recent call last)",
      "Cell \u001b[0;32mIn[83], line 1\u001b[0m\n\u001b[0;32m----> 1\u001b[0m add3()\n",
      "\u001b[0;31mTypeError\u001b[0m: add3() missing 3 required positional arguments: 'a', 'b', and 'c'"
     ]
    }
   ],
   "source": [
    "add3()"
   ]
  },
  {
   "cell_type": "code",
   "execution_count": 85,
   "id": "12417162-662b-498c-8e03-8ebe9b3d257d",
   "metadata": {},
   "outputs": [],
   "source": [
    "# default para\n",
    "def add3(a = 10, b = 30, c = 20):\n",
    "    return a + b + c"
   ]
  },
  {
   "cell_type": "code",
   "execution_count": 89,
   "id": "b792f8bc-3287-4b15-b3be-ca7a168ba8da",
   "metadata": {},
   "outputs": [
    {
     "data": {
      "text/plain": [
       "53"
      ]
     },
     "execution_count": 89,
     "metadata": {},
     "output_type": "execute_result"
    }
   ],
   "source": [
    "add3(3)"
   ]
  },
  {
   "cell_type": "code",
   "execution_count": 91,
   "id": "b481c3aa-0b67-479a-b826-02c7af212937",
   "metadata": {},
   "outputs": [
    {
     "data": {
      "text/plain": [
       "24"
      ]
     },
     "execution_count": 91,
     "metadata": {},
     "output_type": "execute_result"
    }
   ],
   "source": [
    "add3(3, 1)"
   ]
  },
  {
   "cell_type": "code",
   "execution_count": 95,
   "id": "f5b4680f-ea8f-4a0e-b730-4ec037d4e311",
   "metadata": {},
   "outputs": [
    {
     "data": {
      "text/plain": [
       "31"
      ]
     },
     "execution_count": 95,
     "metadata": {},
     "output_type": "execute_result"
    }
   ],
   "source": [
    "add3(b = 1)"
   ]
  },
  {
   "cell_type": "code",
   "execution_count": 97,
   "id": "784a8da3-ce7f-4915-be2c-094aa141d59c",
   "metadata": {},
   "outputs": [],
   "source": [
    "def add(a = 9, b = 1, c):\n",
    "    return a + b + c"
   ]
  },
  {
   "cell_type": "code",
   "execution_count": 109,
   "id": "b817381c-317c-4128-9c50-e7caaa776079",
   "metadata": {},
   "outputs": [
    {
     "data": {
      "text/plain": [
       "30"
      ]
     },
     "execution_count": 109,
     "metadata": {},
     "output_type": "execute_result"
    }
   ],
   "source": [
    "add(20, 9)"
   ]
  },
  {
   "cell_type": "code",
   "execution_count": 111,
   "id": "b7fa2c68-45a5-4a7b-87d5-dc08a83dbd39",
   "metadata": {},
   "outputs": [],
   "source": [
    "# variable length arguments"
   ]
  },
  {
   "cell_type": "code",
   "execution_count": 113,
   "id": "7aaaea4e-1327-4223-aff0-973ee32b5f68",
   "metadata": {},
   "outputs": [],
   "source": [
    "def ini(*args):\n",
    "    return args"
   ]
  },
  {
   "cell_type": "code",
   "execution_count": 115,
   "id": "1e16686f-82ed-432b-8a1b-5c65ea9e96a0",
   "metadata": {},
   "outputs": [
    {
     "data": {
      "text/plain": [
       "(3, 5, 6, 7, 88)"
      ]
     },
     "execution_count": 115,
     "metadata": {},
     "output_type": "execute_result"
    }
   ],
   "source": [
    "ini(3, 5, 6, 7, 88)"
   ]
  },
  {
   "cell_type": "code",
   "execution_count": 117,
   "id": "e548d81a-99de-4fd2-a989-c49a34a96401",
   "metadata": {},
   "outputs": [],
   "source": [
    "# pass any number of arguments and return the addition\n",
    "\n",
    "def add(*args):\n",
    "    add = 0\n",
    "    for i in args:\n",
    "        add = add + i\n",
    "    return add"
   ]
  },
  {
   "cell_type": "code",
   "execution_count": 119,
   "id": "18c89751-61e6-44aa-8761-95e0c0fab872",
   "metadata": {},
   "outputs": [
    {
     "data": {
      "text/plain": [
       "21"
      ]
     },
     "execution_count": 119,
     "metadata": {},
     "output_type": "execute_result"
    }
   ],
   "source": [
    "add(3, 5, 6, 7)"
   ]
  },
  {
   "cell_type": "code",
   "execution_count": 121,
   "id": "62a6e76d-f9ca-4437-b86d-34d4ff921544",
   "metadata": {},
   "outputs": [],
   "source": [
    "# lambda function"
   ]
  },
  {
   "cell_type": "code",
   "execution_count": 123,
   "id": "4a84fde6-4d3a-4fb2-bc35-9aedcbd4e906",
   "metadata": {},
   "outputs": [],
   "source": [
    "squ = lambda a: a*a"
   ]
  },
  {
   "cell_type": "code",
   "execution_count": 125,
   "id": "f93ff742-21b8-4ef7-b783-2990755293d1",
   "metadata": {},
   "outputs": [
    {
     "data": {
      "text/plain": [
       "9"
      ]
     },
     "execution_count": 125,
     "metadata": {},
     "output_type": "execute_result"
    }
   ],
   "source": [
    "squ(3)"
   ]
  },
  {
   "cell_type": "code",
   "execution_count": 127,
   "id": "95cfd57a-a8c2-4eae-a4a5-a3415e7c649a",
   "metadata": {},
   "outputs": [],
   "source": [
    "ad = lambda a, b: a + b"
   ]
  },
  {
   "cell_type": "code",
   "execution_count": 129,
   "id": "13b286cf-b587-476e-b59e-a8fc499ea765",
   "metadata": {},
   "outputs": [
    {
     "data": {
      "text/plain": [
       "8"
      ]
     },
     "execution_count": 129,
     "metadata": {},
     "output_type": "execute_result"
    }
   ],
   "source": [
    "ad(3, 5)"
   ]
  },
  {
   "cell_type": "code",
   "execution_count": 131,
   "id": "ac98951f-368e-49b6-a597-d569f7674e43",
   "metadata": {},
   "outputs": [],
   "source": [
    "# filter"
   ]
  },
  {
   "cell_type": "code",
   "execution_count": null,
   "id": "35513dec-bfd7-44d8-8383-e8cbb5a31721",
   "metadata": {},
   "outputs": [],
   "source": [
    "x > 40"
   ]
  },
  {
   "cell_type": "code",
   "execution_count": 133,
   "id": "ab04cdc6-5c18-487d-b5f6-c85d2ed5454b",
   "metadata": {},
   "outputs": [],
   "source": [
    "l = [34, 56, 77, 11, 23, 40]"
   ]
  },
  {
   "cell_type": "code",
   "execution_count": 135,
   "id": "48efb6f7-6b74-44db-aa83-a3b2db7758d1",
   "metadata": {},
   "outputs": [],
   "source": [
    "nl = filter(lambda x: x > 40, l)"
   ]
  },
  {
   "cell_type": "code",
   "execution_count": 139,
   "id": "024b962d-c9ad-4ed9-ba34-12ccc27ded3b",
   "metadata": {},
   "outputs": [
    {
     "data": {
      "text/plain": [
       "[56, 77]"
      ]
     },
     "execution_count": 139,
     "metadata": {},
     "output_type": "execute_result"
    }
   ],
   "source": [
    "list(nl)"
   ]
  },
  {
   "cell_type": "code",
   "execution_count": 141,
   "id": "1118f911-91ce-417a-965b-ae6a7f70bef6",
   "metadata": {},
   "outputs": [],
   "source": [
    "# map"
   ]
  },
  {
   "cell_type": "code",
   "execution_count": 145,
   "id": "0897019e-8b41-4f9a-840c-e88ffe84721d",
   "metadata": {},
   "outputs": [
    {
     "data": {
      "text/plain": [
       "[1156, 3136, 5929, 121, 529, 1600]"
      ]
     },
     "execution_count": 145,
     "metadata": {},
     "output_type": "execute_result"
    }
   ],
   "source": [
    "nl1 = map(lambda x: x * x, l)\n",
    "list(nl1)"
   ]
  },
  {
   "cell_type": "code",
   "execution_count": 147,
   "id": "6932361a-aa0f-497a-9a02-47a16019e24d",
   "metadata": {},
   "outputs": [
    {
     "data": {
      "text/plain": [
       "[False, True, True, False, False, False]"
      ]
     },
     "execution_count": 147,
     "metadata": {},
     "output_type": "execute_result"
    }
   ],
   "source": [
    "nl = map(lambda x: x > 40, l)\n",
    "list(nl)"
   ]
  },
  {
   "cell_type": "code",
   "execution_count": null,
   "id": "7a730cbd-db35-4916-bd8f-d49f65477474",
   "metadata": {},
   "outputs": [],
   "source": []
  }
 ],
 "metadata": {
  "kernelspec": {
   "display_name": "Python 3 (ipykernel)",
   "language": "python",
   "name": "python3"
  },
  "language_info": {
   "codemirror_mode": {
    "name": "ipython",
    "version": 3
   },
   "file_extension": ".py",
   "mimetype": "text/x-python",
   "name": "python",
   "nbconvert_exporter": "python",
   "pygments_lexer": "ipython3",
   "version": "3.11.9"
  }
 },
 "nbformat": 4,
 "nbformat_minor": 5
}
