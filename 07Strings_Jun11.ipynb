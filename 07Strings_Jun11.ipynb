{
 "cells": [
  {
   "cell_type": "code",
   "execution_count": 1,
   "id": "1bd24f4d-3244-4f1f-a965-0e5841d2d371",
   "metadata": {},
   "outputs": [],
   "source": [
    "sent = \"Hello World\""
   ]
  },
  {
   "cell_type": "code",
   "execution_count": 3,
   "id": "789c851a-f708-47d1-a507-e3767c766204",
   "metadata": {},
   "outputs": [],
   "source": [
    "sent = 'Hello'"
   ]
  },
  {
   "cell_type": "code",
   "execution_count": 5,
   "id": "b951bb90-ee59-4843-bd66-c117428c21f0",
   "metadata": {},
   "outputs": [],
   "source": [
    "multi_sent = \"\"\"this is first line\n",
    "this is second line\n",
    "this is third line\n",
    "\"\"\""
   ]
  },
  {
   "cell_type": "code",
   "execution_count": 9,
   "id": "1772f337-e7dd-46f6-a275-642377c1c819",
   "metadata": {},
   "outputs": [
    {
     "name": "stdout",
     "output_type": "stream",
     "text": [
      "this is first line\n",
      "this is second line\n",
      "this is third line\n",
      "\n"
     ]
    }
   ],
   "source": [
    "print(multi_sent)"
   ]
  },
  {
   "cell_type": "code",
   "execution_count": 11,
   "id": "df46a0ca-97d9-4ab6-82ea-1845ffcc2a85",
   "metadata": {},
   "outputs": [],
   "source": [
    "sent = \"hello python\""
   ]
  },
  {
   "cell_type": "code",
   "execution_count": 13,
   "id": "0d47e728-3402-4b71-a88b-a0d0d32cd384",
   "metadata": {},
   "outputs": [
    {
     "data": {
      "text/plain": [
       "'h'"
      ]
     },
     "execution_count": 13,
     "metadata": {},
     "output_type": "execute_result"
    }
   ],
   "source": [
    "sent[0]"
   ]
  },
  {
   "cell_type": "code",
   "execution_count": 15,
   "id": "2c4f971e-6a96-42da-b8d4-15b1ca5d3347",
   "metadata": {},
   "outputs": [],
   "source": [
    "# take user input => string\n",
    "# iterate over it and print => index -> character"
   ]
  },
  {
   "cell_type": "code",
   "execution_count": 17,
   "id": "dd36b2a1-4073-4fbb-864f-a8b0b8a7cdc5",
   "metadata": {},
   "outputs": [
    {
     "name": "stdin",
     "output_type": "stream",
     "text": [
      "Enter the string welcome everyone!!!\n"
     ]
    },
    {
     "name": "stdout",
     "output_type": "stream",
     "text": [
      "0 -> w\n",
      "1 -> e\n",
      "2 -> l\n",
      "3 -> c\n",
      "4 -> o\n",
      "5 -> m\n",
      "6 -> e\n",
      "7 ->  \n",
      "8 -> e\n",
      "9 -> v\n",
      "10 -> e\n",
      "11 -> r\n",
      "12 -> y\n",
      "13 -> o\n",
      "14 -> n\n",
      "15 -> e\n",
      "16 -> !\n",
      "17 -> !\n",
      "18 -> !\n"
     ]
    }
   ],
   "source": [
    "sent = input(\"Enter the string\")\n",
    "n = 0\n",
    "\n",
    "for i in sent:\n",
    "    print(f\"{n} -> {i}\")\n",
    "    n +=1"
   ]
  },
  {
   "cell_type": "code",
   "execution_count": 19,
   "id": "df340740-e0e1-42d6-86b0-309609e3a974",
   "metadata": {},
   "outputs": [
    {
     "data": {
      "text/plain": [
       "'welcome everyone!!!'"
      ]
     },
     "execution_count": 19,
     "metadata": {},
     "output_type": "execute_result"
    }
   ],
   "source": [
    "sent"
   ]
  },
  {
   "cell_type": "code",
   "execution_count": 23,
   "id": "4926a2b8-656d-4994-9eca-d99af0df24f2",
   "metadata": {},
   "outputs": [
    {
     "data": {
      "text/plain": [
       "'wel'"
      ]
     },
     "execution_count": 23,
     "metadata": {},
     "output_type": "execute_result"
    }
   ],
   "source": [
    "sent[0:3]"
   ]
  },
  {
   "cell_type": "code",
   "execution_count": 29,
   "id": "b4397c8c-17ca-4f60-aace-22a66638a1de",
   "metadata": {},
   "outputs": [
    {
     "data": {
      "text/plain": [
       "'wloeeeyn!!'"
      ]
     },
     "execution_count": 29,
     "metadata": {},
     "output_type": "execute_result"
    }
   ],
   "source": [
    "sent[0::2]"
   ]
  },
  {
   "cell_type": "code",
   "execution_count": 39,
   "id": "cd5f9c82-5640-4f7a-94f4-3d854c95ffe4",
   "metadata": {},
   "outputs": [
    {
     "name": "stdin",
     "output_type": "stream",
     "text": [
      "enter the string kjsaf\n"
     ]
    },
    {
     "name": "stdout",
     "output_type": "stream",
     "text": [
      "['k', 'j', 's', 'a', 'f']\n"
     ]
    }
   ],
   "source": [
    "# user input => string\n",
    "# using loop split it into individual characters\n",
    "# and put it into an empty list e\n",
    "\n",
    "\n",
    "sent = input(\"enter the string\")\n",
    "\n",
    "l = []    # empty list intialized\n",
    "\n",
    "for i in sent:\n",
    "    l.append(i)    # adding the element at the end of the list\n",
    "\n",
    "print(l)"
   ]
  },
  {
   "cell_type": "code",
   "execution_count": 33,
   "id": "76fbbca4-aa58-4ff0-86d6-39732a824c36",
   "metadata": {},
   "outputs": [],
   "source": [
    "sent = \"pune\""
   ]
  },
  {
   "cell_type": "code",
   "execution_count": 35,
   "id": "afbeb370-388a-4dc9-a924-289043d4bbaa",
   "metadata": {},
   "outputs": [
    {
     "data": {
      "text/plain": [
       "['p', 'u', 'n', 'e']"
      ]
     },
     "execution_count": 35,
     "metadata": {},
     "output_type": "execute_result"
    }
   ],
   "source": [
    "list(sent)"
   ]
  },
  {
   "cell_type": "code",
   "execution_count": 45,
   "id": "fcef9314-d231-410e-ad7f-4f9b3b974e37",
   "metadata": {},
   "outputs": [
    {
     "name": "stdin",
     "output_type": "stream",
     "text": [
      "enter the one word string welcome\n",
      "enter the char to check w\n",
      "enter the char to check z\n"
     ]
    },
    {
     "name": "stdout",
     "output_type": "stream",
     "text": [
      "w is present\n",
      "z is not found\n"
     ]
    }
   ],
   "source": [
    "# use a loop and if else to check id specific characters are present in a string\n",
    "# get output for both if they are present or not\n",
    "# take 2 characters to check (user input)\n",
    "\n",
    "sent = input(\"enter the one word string\")\n",
    "\n",
    "char1 = input(\"enter the char to check\")\n",
    "char2 = input(\"enter the char to check\")\n",
    "\n",
    "found_char1 = False\n",
    "found_char2 = False\n",
    "\n",
    "for i in sent:\n",
    "    if i == char1:\n",
    "        print(f\"{char1} is present\")\n",
    "        found_char1 = True\n",
    "    elif i == char2:\n",
    "        print(f\"{char2} is present\")\n",
    "        found_char2 = True\n",
    "\n",
    "if found_char1 == False:\n",
    "    print(f\"{char1} is not found\")\n",
    "    \n",
    "if found_char2 == False:\n",
    "    print(f\"{char2} is not found\")"
   ]
  },
  {
   "cell_type": "code",
   "execution_count": 47,
   "id": "e71ade22-d8f5-494e-a97c-7c2d9070819b",
   "metadata": {},
   "outputs": [],
   "source": [
    "# string concat"
   ]
  },
  {
   "cell_type": "code",
   "execution_count": 51,
   "id": "0f923beb-aca6-4fc4-ac27-d34cd6da6011",
   "metadata": {},
   "outputs": [
    {
     "data": {
      "text/plain": [
       "'ok zzz'"
      ]
     },
     "execution_count": 51,
     "metadata": {},
     "output_type": "execute_result"
    }
   ],
   "source": [
    "\"ok\" + \" \" +\"zzz\""
   ]
  },
  {
   "cell_type": "code",
   "execution_count": 59,
   "id": "55181dee-1b9a-4848-a82e-bb3047e9c963",
   "metadata": {},
   "outputs": [],
   "source": [
    "sent = \"everything\""
   ]
  },
  {
   "cell_type": "code",
   "execution_count": 61,
   "id": "c6253f6a-2b8a-48c5-a11d-c1a964dd7c06",
   "metadata": {},
   "outputs": [
    {
     "data": {
      "text/plain": [
       "3"
      ]
     },
     "execution_count": 61,
     "metadata": {},
     "output_type": "execute_result"
    }
   ],
   "source": [
    "sent.find(\"r\")"
   ]
  },
  {
   "cell_type": "code",
   "execution_count": 63,
   "id": "a03fb2f9-a674-4c98-aa6b-fe0eada05e17",
   "metadata": {},
   "outputs": [
    {
     "data": {
      "text/plain": [
       "'ewerything'"
      ]
     },
     "execution_count": 63,
     "metadata": {},
     "output_type": "execute_result"
    }
   ],
   "source": [
    "sent.replace('v', 'w')"
   ]
  },
  {
   "cell_type": "code",
   "execution_count": 65,
   "id": "f2d5cd91-3f52-4bd9-8d29-22ee2612c784",
   "metadata": {},
   "outputs": [],
   "source": [
    "sent = \"python, dart, c#, kotlin\""
   ]
  },
  {
   "cell_type": "code",
   "execution_count": 67,
   "id": "ac786cd0-7e0c-4c0d-93c8-e3124e257d95",
   "metadata": {},
   "outputs": [
    {
     "data": {
      "text/plain": [
       "['python', ' dart', ' c#', ' kotlin']"
      ]
     },
     "execution_count": 67,
     "metadata": {},
     "output_type": "execute_result"
    }
   ],
   "source": [
    "sent.split(',')"
   ]
  },
  {
   "cell_type": "code",
   "execution_count": 69,
   "id": "ed4304b5-da2d-4167-ad5d-5a0b70d1c03d",
   "metadata": {},
   "outputs": [],
   "source": [
    "l = ['1', '3', '4']"
   ]
  },
  {
   "cell_type": "code",
   "execution_count": 73,
   "id": "5f14df72-9152-4242-ab6f-6697104637bb",
   "metadata": {},
   "outputs": [
    {
     "data": {
      "text/plain": [
       "'1-3-4'"
      ]
     },
     "execution_count": 73,
     "metadata": {},
     "output_type": "execute_result"
    }
   ],
   "source": [
    "'-'.join(l)"
   ]
  },
  {
   "cell_type": "code",
   "execution_count": 75,
   "id": "b8a20650-74fc-4c11-b6dc-39ddfc17d49e",
   "metadata": {},
   "outputs": [],
   "source": [
    "# escape sequences"
   ]
  },
  {
   "cell_type": "code",
   "execution_count": 77,
   "id": "05415f98-9446-473e-8d18-ee4c2c23c693",
   "metadata": {},
   "outputs": [
    {
     "name": "stdout",
     "output_type": "stream",
     "text": [
      "this is first line\n",
      "this is second\n"
     ]
    }
   ],
   "source": [
    "print(\"this is first line\\nthis is second\")"
   ]
  },
  {
   "cell_type": "code",
   "execution_count": 79,
   "id": "41dbd6ce-bb27-4edc-8933-7576472b076d",
   "metadata": {},
   "outputs": [
    {
     "name": "stdout",
     "output_type": "stream",
     "text": [
      "this is first line\tthis is second\n"
     ]
    }
   ],
   "source": [
    "print(\"this is first line\\tthis is second\")"
   ]
  },
  {
   "cell_type": "code",
   "execution_count": 83,
   "id": "eb09fcb6-c9fb-4e9a-bb8b-0546d1f96ae7",
   "metadata": {},
   "outputs": [
    {
     "name": "stdout",
     "output_type": "stream",
     "text": [
      "this is first line\"this is second\n"
     ]
    }
   ],
   "source": [
    "print(\"this is first line\\\"this is second\")"
   ]
  },
  {
   "cell_type": "code",
   "execution_count": 87,
   "id": "cc7608fd-336a-460f-b370-3d8b7ec4e993",
   "metadata": {},
   "outputs": [
    {
     "name": "stdout",
     "output_type": "stream",
     "text": [
      "this is first line\\his is second\n"
     ]
    }
   ],
   "source": [
    "print(\"this is first line\\\\his is second\")"
   ]
  },
  {
   "cell_type": "code",
   "execution_count": 89,
   "id": "2fbef57e-d74f-4f1f-a53d-62502361c429",
   "metadata": {},
   "outputs": [],
   "source": [
    "# format"
   ]
  },
  {
   "cell_type": "code",
   "execution_count": 91,
   "id": "bc7648c9-be9f-4b68-a3db-6ee85d434894",
   "metadata": {},
   "outputs": [],
   "source": [
    "name = \"Raj\"\n",
    "marks = 56"
   ]
  },
  {
   "cell_type": "code",
   "execution_count": 93,
   "id": "dae03052-89f1-4681-a553-79b4e8ee248d",
   "metadata": {},
   "outputs": [
    {
     "data": {
      "text/plain": [
       "'my name is Raj and marks are 56'"
      ]
     },
     "execution_count": 93,
     "metadata": {},
     "output_type": "execute_result"
    }
   ],
   "source": [
    "\"my name is {} and marks are {}\".format(name, marks)"
   ]
  },
  {
   "cell_type": "code",
   "execution_count": null,
   "id": "814640f2-e7ed-4993-8680-407e22f58e15",
   "metadata": {},
   "outputs": [],
   "source": []
  }
 ],
 "metadata": {
  "kernelspec": {
   "display_name": "Python 3 (ipykernel)",
   "language": "python",
   "name": "python3"
  },
  "language_info": {
   "codemirror_mode": {
    "name": "ipython",
    "version": 3
   },
   "file_extension": ".py",
   "mimetype": "text/x-python",
   "name": "python",
   "nbconvert_exporter": "python",
   "pygments_lexer": "ipython3",
   "version": "3.11.9"
  }
 },
 "nbformat": 4,
 "nbformat_minor": 5
}
