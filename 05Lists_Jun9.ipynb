{
 "cells": [
  {
   "cell_type": "markdown",
   "id": "3310c213-a267-4f2a-aa9a-45290288a84c",
   "metadata": {},
   "source": [
    "#### Lists"
   ]
  },
  {
   "cell_type": "code",
   "execution_count": 3,
   "id": "589c798d-ab5f-42d0-8e5a-aee5ef0ac03b",
   "metadata": {},
   "outputs": [],
   "source": [
    "l = [34, 56, 78, 91, 23]"
   ]
  },
  {
   "cell_type": "code",
   "execution_count": 5,
   "id": "b9a8d98e-0976-4bbc-840b-be3cb2f4bb77",
   "metadata": {},
   "outputs": [
    {
     "name": "stdout",
     "output_type": "stream",
     "text": [
      "[34, 56, 78, 91, 23]\n"
     ]
    }
   ],
   "source": [
    "print(l)"
   ]
  },
  {
   "cell_type": "code",
   "execution_count": 7,
   "id": "0a6cd18e-de4e-4adb-bc13-735fa436f164",
   "metadata": {},
   "outputs": [
    {
     "data": {
      "text/plain": [
       "list"
      ]
     },
     "execution_count": 7,
     "metadata": {},
     "output_type": "execute_result"
    }
   ],
   "source": [
    "type(l)"
   ]
  },
  {
   "cell_type": "code",
   "execution_count": 19,
   "id": "f2482c54-32d7-42d3-8c0c-74e2aade03b4",
   "metadata": {},
   "outputs": [],
   "source": [
    "# lists are hetero and duplicate values are allowed"
   ]
  },
  {
   "cell_type": "code",
   "execution_count": 15,
   "id": "b751fbdc-bb56-461e-9d19-4eb9dd160a81",
   "metadata": {},
   "outputs": [],
   "source": [
    "l = [23, 34, 56, True, \"Pune\", 23]"
   ]
  },
  {
   "cell_type": "code",
   "execution_count": 17,
   "id": "a72d736e-feac-4a74-90ce-150f9751356f",
   "metadata": {},
   "outputs": [
    {
     "data": {
      "text/plain": [
       "[23, 34, 56, True, 'Pune', 23]"
      ]
     },
     "execution_count": 17,
     "metadata": {},
     "output_type": "execute_result"
    }
   ],
   "source": [
    "l"
   ]
  },
  {
   "cell_type": "code",
   "execution_count": 21,
   "id": "6ed70d80-bed4-4fe1-b96e-9763ebf05808",
   "metadata": {},
   "outputs": [],
   "source": [
    "# access the data\n",
    "# lists are ordered (indexing is present)"
   ]
  },
  {
   "cell_type": "code",
   "execution_count": 23,
   "id": "14f44910-2960-4bad-8952-d4dc950087b5",
   "metadata": {},
   "outputs": [
    {
     "data": {
      "text/plain": [
       "23"
      ]
     },
     "execution_count": 23,
     "metadata": {},
     "output_type": "execute_result"
    }
   ],
   "source": [
    "l[0]"
   ]
  },
  {
   "cell_type": "code",
   "execution_count": 25,
   "id": "6325e373-52c2-4fa4-a828-b04bb1a661f1",
   "metadata": {},
   "outputs": [
    {
     "data": {
      "text/plain": [
       "'Pune'"
      ]
     },
     "execution_count": 25,
     "metadata": {},
     "output_type": "execute_result"
    }
   ],
   "source": [
    "l[-2]"
   ]
  },
  {
   "cell_type": "code",
   "execution_count": 27,
   "id": "1c0418b8-83e6-4bb5-a7c7-c75ef271bf8f",
   "metadata": {},
   "outputs": [],
   "source": [
    "# list are mutable"
   ]
  },
  {
   "cell_type": "code",
   "execution_count": 29,
   "id": "d2253ddc-2db6-41d7-8f19-9ad6e80f851b",
   "metadata": {},
   "outputs": [
    {
     "data": {
      "text/plain": [
       "[23, 34, 56, True, 'Pune', 23]"
      ]
     },
     "execution_count": 29,
     "metadata": {},
     "output_type": "execute_result"
    }
   ],
   "source": [
    "l"
   ]
  },
  {
   "cell_type": "code",
   "execution_count": 33,
   "id": "19fb0c13-a733-4e0b-a074-06960b237069",
   "metadata": {},
   "outputs": [],
   "source": [
    "l[1] = 90"
   ]
  },
  {
   "cell_type": "code",
   "execution_count": 35,
   "id": "41e8a9e8-e2e0-4c50-a09b-088db8e9cfeb",
   "metadata": {},
   "outputs": [
    {
     "data": {
      "text/plain": [
       "[23, 90, 56, True, 'Pune', 23]"
      ]
     },
     "execution_count": 35,
     "metadata": {},
     "output_type": "execute_result"
    }
   ],
   "source": [
    "l"
   ]
  },
  {
   "cell_type": "code",
   "execution_count": 37,
   "id": "e1971ac7-3b95-4b97-bedd-29753bd9f2b4",
   "metadata": {},
   "outputs": [],
   "source": [
    "l[-3] = False"
   ]
  },
  {
   "cell_type": "code",
   "execution_count": 39,
   "id": "806109c0-fbf2-4a6a-9bcd-7a54ddf81327",
   "metadata": {},
   "outputs": [
    {
     "data": {
      "text/plain": [
       "[23, 90, 56, False, 'Pune', 23]"
      ]
     },
     "execution_count": 39,
     "metadata": {},
     "output_type": "execute_result"
    }
   ],
   "source": [
    "l"
   ]
  },
  {
   "cell_type": "code",
   "execution_count": 41,
   "id": "b97b92ff-cf77-4a2a-a74b-6e22886d750d",
   "metadata": {},
   "outputs": [],
   "source": [
    "l1 = [12, 23, 34, 42, 40, 12, 67]"
   ]
  },
  {
   "cell_type": "code",
   "execution_count": 45,
   "id": "44e08f3a-9724-4dc3-b5f7-52713728766b",
   "metadata": {},
   "outputs": [],
   "source": [
    "# list slicing"
   ]
  },
  {
   "cell_type": "code",
   "execution_count": 43,
   "id": "452f2f08-05fc-436a-8129-ee5e06217abb",
   "metadata": {},
   "outputs": [
    {
     "data": {
      "text/plain": [
       "[23, 34, 42]"
      ]
     },
     "execution_count": 43,
     "metadata": {},
     "output_type": "execute_result"
    }
   ],
   "source": [
    "l1[1: 4]"
   ]
  },
  {
   "cell_type": "code",
   "execution_count": 47,
   "id": "c83ea5de-0159-494b-bb86-17e1b4e109ba",
   "metadata": {},
   "outputs": [
    {
     "data": {
      "text/plain": [
       "[42, 40, 12, 67]"
      ]
     },
     "execution_count": 47,
     "metadata": {},
     "output_type": "execute_result"
    }
   ],
   "source": [
    "l1[3: 7]"
   ]
  },
  {
   "cell_type": "code",
   "execution_count": 49,
   "id": "8249f2ff-9a01-43d5-ae78-66c796a562f5",
   "metadata": {},
   "outputs": [
    {
     "data": {
      "text/plain": [
       "[42, 40, 12, 67]"
      ]
     },
     "execution_count": 49,
     "metadata": {},
     "output_type": "execute_result"
    }
   ],
   "source": [
    "l1[3:10]"
   ]
  },
  {
   "cell_type": "code",
   "execution_count": 51,
   "id": "d2e9b9d3-4594-4c12-9012-f59db096760e",
   "metadata": {},
   "outputs": [
    {
     "data": {
      "text/plain": [
       "[42, 40, 12]"
      ]
     },
     "execution_count": 51,
     "metadata": {},
     "output_type": "execute_result"
    }
   ],
   "source": [
    "l1[3: -1]"
   ]
  },
  {
   "cell_type": "code",
   "execution_count": 53,
   "id": "ba7f6b11-3385-4895-aeaa-2eb2c0452d29",
   "metadata": {},
   "outputs": [
    {
     "data": {
      "text/plain": [
       "[42, 40, 12, 67]"
      ]
     },
     "execution_count": 53,
     "metadata": {},
     "output_type": "execute_result"
    }
   ],
   "source": [
    "l1[3:]"
   ]
  },
  {
   "cell_type": "code",
   "execution_count": 57,
   "id": "b5da09b6-2bff-4702-9c87-52c19acf869d",
   "metadata": {},
   "outputs": [
    {
     "data": {
      "text/plain": [
       "[12, 23, 34, 42, 40, 12, 67]"
      ]
     },
     "execution_count": 57,
     "metadata": {},
     "output_type": "execute_result"
    }
   ],
   "source": [
    "l1"
   ]
  },
  {
   "cell_type": "code",
   "execution_count": 61,
   "id": "d112886b-ed4c-4fac-aae0-f0e4d7517632",
   "metadata": {},
   "outputs": [
    {
     "data": {
      "text/plain": [
       "[12, 23, 34]"
      ]
     },
     "execution_count": 61,
     "metadata": {},
     "output_type": "execute_result"
    }
   ],
   "source": [
    "l1[:3]"
   ]
  },
  {
   "cell_type": "code",
   "execution_count": 63,
   "id": "21fb909b-9033-4abb-9fcb-653245dde540",
   "metadata": {},
   "outputs": [
    {
     "data": {
      "text/plain": [
       "[12, 34, 40, 67]"
      ]
     },
     "execution_count": 63,
     "metadata": {},
     "output_type": "execute_result"
    }
   ],
   "source": [
    "l1[::2]"
   ]
  },
  {
   "cell_type": "code",
   "execution_count": 65,
   "id": "13fa4c2e-987e-44a5-82b7-0f2d22314c59",
   "metadata": {},
   "outputs": [
    {
     "data": {
      "text/plain": [
       "[67, 12, 40, 42, 34, 23, 12]"
      ]
     },
     "execution_count": 65,
     "metadata": {},
     "output_type": "execute_result"
    }
   ],
   "source": [
    "l1[::-1]"
   ]
  },
  {
   "cell_type": "code",
   "execution_count": 69,
   "id": "1441f33a-e461-4f61-a570-8d761a35cfb5",
   "metadata": {},
   "outputs": [
    {
     "data": {
      "text/plain": [
       "[12, 23, 34, 42, 40, 12, 67]"
      ]
     },
     "execution_count": 69,
     "metadata": {},
     "output_type": "execute_result"
    }
   ],
   "source": [
    "l1"
   ]
  },
  {
   "cell_type": "code",
   "execution_count": 73,
   "id": "9001aac4-402e-45be-8a24-79bb78c17a17",
   "metadata": {},
   "outputs": [],
   "source": [
    "l1[1: 4] = [20, 56, 89]"
   ]
  },
  {
   "cell_type": "code",
   "execution_count": 75,
   "id": "5c196eca-e3f9-4782-ba43-ad0dce85c256",
   "metadata": {},
   "outputs": [
    {
     "data": {
      "text/plain": [
       "[12, 20, 56, 89, 40, 12, 67]"
      ]
     },
     "execution_count": 75,
     "metadata": {},
     "output_type": "execute_result"
    }
   ],
   "source": [
    "l1"
   ]
  },
  {
   "cell_type": "code",
   "execution_count": 77,
   "id": "071eeb13-dadb-4ebf-9f55-7a99893c4a3a",
   "metadata": {},
   "outputs": [],
   "source": [
    "del l1[2]"
   ]
  },
  {
   "cell_type": "code",
   "execution_count": 81,
   "id": "f6cf407e-f468-480f-9764-4110319de12d",
   "metadata": {},
   "outputs": [
    {
     "data": {
      "text/plain": [
       "[12, 20, 89, 40, 12, 67]"
      ]
     },
     "execution_count": 81,
     "metadata": {},
     "output_type": "execute_result"
    }
   ],
   "source": [
    "l1"
   ]
  },
  {
   "cell_type": "code",
   "execution_count": 83,
   "id": "b4213b61-6b29-492f-9cbb-778154d46274",
   "metadata": {},
   "outputs": [],
   "source": [
    "n = [12, 45, 67]"
   ]
  },
  {
   "cell_type": "code",
   "execution_count": 85,
   "id": "9891ea2e-c356-4a12-9627-b05bde47d43d",
   "metadata": {},
   "outputs": [],
   "source": [
    "del n"
   ]
  },
  {
   "cell_type": "code",
   "execution_count": 87,
   "id": "bec97bf6-1b65-4271-beb5-6829049a0f85",
   "metadata": {},
   "outputs": [
    {
     "ename": "NameError",
     "evalue": "name 'n' is not defined",
     "output_type": "error",
     "traceback": [
      "\u001b[0;31m---------------------------------------------------------------------------\u001b[0m",
      "\u001b[0;31mNameError\u001b[0m                                 Traceback (most recent call last)",
      "Cell \u001b[0;32mIn[87], line 1\u001b[0m\n\u001b[0;32m----> 1\u001b[0m n\n",
      "\u001b[0;31mNameError\u001b[0m: name 'n' is not defined"
     ]
    }
   ],
   "source": [
    "n"
   ]
  },
  {
   "cell_type": "code",
   "execution_count": 89,
   "id": "7c2d1388-b45f-4a80-b36c-b08fa7a8fb82",
   "metadata": {},
   "outputs": [
    {
     "data": {
      "text/plain": [
       "[12, 20, 89, 40, 12, 67]"
      ]
     },
     "execution_count": 89,
     "metadata": {},
     "output_type": "execute_result"
    }
   ],
   "source": [
    "l1"
   ]
  },
  {
   "cell_type": "code",
   "execution_count": 91,
   "id": "43def816-3a6d-43a4-9f47-706a181b9ff7",
   "metadata": {},
   "outputs": [
    {
     "data": {
      "text/plain": [
       "False"
      ]
     },
     "execution_count": 91,
     "metadata": {},
     "output_type": "execute_result"
    }
   ],
   "source": [
    "100 in l1"
   ]
  },
  {
   "cell_type": "code",
   "execution_count": 93,
   "id": "bcc12d6b-5b90-4e00-8234-7bb8afa584f0",
   "metadata": {},
   "outputs": [
    {
     "data": {
      "text/plain": [
       "True"
      ]
     },
     "execution_count": 93,
     "metadata": {},
     "output_type": "execute_result"
    }
   ],
   "source": [
    "20 in l1"
   ]
  },
  {
   "cell_type": "code",
   "execution_count": 95,
   "id": "41594bfa-81bb-4b03-a011-7580a9afb2b9",
   "metadata": {},
   "outputs": [],
   "source": [
    "# arithmetic operators"
   ]
  },
  {
   "cell_type": "code",
   "execution_count": 99,
   "id": "f3f9ff5c-1d98-490d-a929-8b18c3cd6826",
   "metadata": {},
   "outputs": [
    {
     "data": {
      "text/plain": [
       "[12, 20, 89, 40, 12, 67]"
      ]
     },
     "execution_count": 99,
     "metadata": {},
     "output_type": "execute_result"
    }
   ],
   "source": [
    "l1"
   ]
  },
  {
   "cell_type": "code",
   "execution_count": 103,
   "id": "d2420394-0a17-495e-a8ab-4cc3a20a7acb",
   "metadata": {},
   "outputs": [
    {
     "data": {
      "text/plain": [
       "[12, 20, 89, 40, 12, 67, 12, 20, 89, 40, 12, 67, 12, 20, 89, 40, 12, 67]"
      ]
     },
     "execution_count": 103,
     "metadata": {},
     "output_type": "execute_result"
    }
   ],
   "source": [
    "l1 * 3"
   ]
  },
  {
   "cell_type": "code",
   "execution_count": 105,
   "id": "d5b77010-644a-4995-b96b-713c90a7d8f1",
   "metadata": {},
   "outputs": [
    {
     "data": {
      "text/plain": [
       "[12, 20, 89, 40, 12, 67, 10, 100]"
      ]
     },
     "execution_count": 105,
     "metadata": {},
     "output_type": "execute_result"
    }
   ],
   "source": [
    "l1 + [10, 100]"
   ]
  },
  {
   "cell_type": "code",
   "execution_count": 107,
   "id": "16bb77f7-9b43-4367-9d0b-3e0fb1904ab2",
   "metadata": {},
   "outputs": [
    {
     "data": {
      "text/plain": [
       "[12, 20, 89, 40, 12, 67, 23, 90, 56, False, 'Pune', 23]"
      ]
     },
     "execution_count": 107,
     "metadata": {},
     "output_type": "execute_result"
    }
   ],
   "source": [
    "l1 + l"
   ]
  },
  {
   "cell_type": "code",
   "execution_count": 115,
   "id": "afa6949c-5711-4e6a-a56a-133d4186abf1",
   "metadata": {},
   "outputs": [],
   "source": [
    "# iterate over the list"
   ]
  },
  {
   "cell_type": "code",
   "execution_count": 119,
   "id": "d13455c4-836d-4756-a873-1522003a1a37",
   "metadata": {},
   "outputs": [
    {
     "name": "stdout",
     "output_type": "stream",
     "text": [
      "144 400 7921 1600 144 4489 "
     ]
    }
   ],
   "source": [
    "for i in l1:\n",
    "    print(i*i, end = ' ')"
   ]
  },
  {
   "cell_type": "code",
   "execution_count": 121,
   "id": "e60e35a0-b8ac-43c8-95d6-008e7e95d4df",
   "metadata": {},
   "outputs": [
    {
     "name": "stdout",
     "output_type": "stream",
     "text": [
      "89\n",
      "67\n"
     ]
    }
   ],
   "source": [
    "# print odd numbers only\n",
    "\n",
    "for i in l1:\n",
    "    if i % 2 != 0:\n",
    "        print(i)"
   ]
  },
  {
   "cell_type": "code",
   "execution_count": 123,
   "id": "d328921e-3026-4e25-806a-504bde72a966",
   "metadata": {},
   "outputs": [],
   "source": [
    "# list comprehension"
   ]
  },
  {
   "cell_type": "code",
   "execution_count": 127,
   "id": "7e2db2d5-3b58-42fe-bff6-2dd83fbe092a",
   "metadata": {},
   "outputs": [
    {
     "data": {
      "text/plain": [
       "[12, 20, 89, 40, 12, 67]"
      ]
     },
     "execution_count": 127,
     "metadata": {},
     "output_type": "execute_result"
    }
   ],
   "source": [
    "l1"
   ]
  },
  {
   "cell_type": "code",
   "execution_count": 129,
   "id": "fee4e32c-df85-4bb1-8237-c25ec339cb8f",
   "metadata": {},
   "outputs": [
    {
     "data": {
      "text/plain": [
       "[144, 400, 7921, 1600, 144, 4489]"
      ]
     },
     "execution_count": 129,
     "metadata": {},
     "output_type": "execute_result"
    }
   ],
   "source": [
    "# map\n",
    "new1 = [i * i for i in l1]\n",
    "new1"
   ]
  },
  {
   "cell_type": "code",
   "execution_count": 131,
   "id": "be40959d-202c-4c45-b190-eced2ffab180",
   "metadata": {},
   "outputs": [
    {
     "data": {
      "text/plain": [
       "list"
      ]
     },
     "execution_count": 131,
     "metadata": {},
     "output_type": "execute_result"
    }
   ],
   "source": [
    "type(new1)"
   ]
  },
  {
   "cell_type": "code",
   "execution_count": 133,
   "id": "389df6cb-359b-4033-899b-3e45d43ba4fa",
   "metadata": {},
   "outputs": [
    {
     "data": {
      "text/plain": [
       "[6.0, 10.0, 44.5, 20.0, 6.0, 33.5]"
      ]
     },
     "execution_count": 133,
     "metadata": {},
     "output_type": "execute_result"
    }
   ],
   "source": [
    "# create list having half of values\n",
    "\n",
    "n = [i/2 for i in l1]\n",
    "n"
   ]
  },
  {
   "cell_type": "code",
   "execution_count": 135,
   "id": "a2fc52ba-cc13-491d-9936-43cfe42b1c51",
   "metadata": {},
   "outputs": [],
   "source": [
    "# filter"
   ]
  },
  {
   "cell_type": "code",
   "execution_count": 137,
   "id": "d24eaf05-8392-4221-9739-1c588c5c13ff",
   "metadata": {},
   "outputs": [
    {
     "data": {
      "text/plain": [
       "[89, 67]"
      ]
     },
     "execution_count": 137,
     "metadata": {},
     "output_type": "execute_result"
    }
   ],
   "source": [
    "# odd numbers\n",
    "\n",
    "nl = [i for i in l1 if i % 2 != 0]\n",
    "nl"
   ]
  },
  {
   "cell_type": "code",
   "execution_count": 139,
   "id": "f6de49cc-640e-464a-b382-ef150aa34fff",
   "metadata": {},
   "outputs": [],
   "source": [
    "names = ['Tanushree', 'Palak', 'Aaditi', 'Kalyani', 'Shravani', 'Dhanashree', 'pooja',\n",
    "        'Vaishnavi', 'Siddhi', 'mohini', 'Shruti']"
   ]
  },
  {
   "cell_type": "code",
   "execution_count": 145,
   "id": "40437eb3-dc08-444b-a523-24985a4a18f1",
   "metadata": {},
   "outputs": [
    {
     "data": {
      "text/plain": [
       "['Palak', 'pooja']"
      ]
     },
     "execution_count": 145,
     "metadata": {},
     "output_type": "execute_result"
    }
   ],
   "source": [
    "# create a list having only those names => starting with P\n",
    "\n",
    "newl = [i for i in names if i[0] == 'P' or i[0] == 'p']\n",
    "newl"
   ]
  },
  {
   "cell_type": "code",
   "execution_count": 147,
   "id": "f234183b-9472-4ed7-bc40-ce15133429b9",
   "metadata": {},
   "outputs": [
    {
     "data": {
      "text/plain": [
       "['Palak', 'pooja']"
      ]
     },
     "execution_count": 147,
     "metadata": {},
     "output_type": "execute_result"
    }
   ],
   "source": [
    "newl = [i for i in names if i.lower().startswith('p')]\n",
    "newl"
   ]
  },
  {
   "cell_type": "code",
   "execution_count": 149,
   "id": "37f68eb9-5567-4354-a049-7ba8d83ff5bd",
   "metadata": {},
   "outputs": [],
   "source": [
    "# empty list"
   ]
  },
  {
   "cell_type": "code",
   "execution_count": 151,
   "id": "28af5e6f-2f70-49ae-89e9-caf4a7fbd87a",
   "metadata": {},
   "outputs": [],
   "source": [
    "e = []"
   ]
  },
  {
   "cell_type": "code",
   "execution_count": 153,
   "id": "7847dbd6-65df-4c8a-b9ab-5f8d5e781362",
   "metadata": {},
   "outputs": [
    {
     "data": {
      "text/plain": [
       "[]"
      ]
     },
     "execution_count": 153,
     "metadata": {},
     "output_type": "execute_result"
    }
   ],
   "source": [
    "e"
   ]
  },
  {
   "cell_type": "code",
   "execution_count": 155,
   "id": "63ea41cd-b92a-4ead-b3aa-4c9b37fb2ae0",
   "metadata": {},
   "outputs": [
    {
     "ename": "IndexError",
     "evalue": "list index out of range",
     "output_type": "error",
     "traceback": [
      "\u001b[0;31m---------------------------------------------------------------------------\u001b[0m",
      "\u001b[0;31mIndexError\u001b[0m                                Traceback (most recent call last)",
      "Cell \u001b[0;32mIn[155], line 1\u001b[0m\n\u001b[0;32m----> 1\u001b[0m e[\u001b[38;5;241m0\u001b[39m]\n",
      "\u001b[0;31mIndexError\u001b[0m: list index out of range"
     ]
    }
   ],
   "source": [
    "e[0]"
   ]
  },
  {
   "cell_type": "code",
   "execution_count": 157,
   "id": "9d41853c-3ddf-44d8-b0e8-94c72ce807ae",
   "metadata": {},
   "outputs": [],
   "source": [
    "# list decomposition"
   ]
  },
  {
   "cell_type": "code",
   "execution_count": 159,
   "id": "b245e7f6-b286-4c84-aa0c-206b667a392e",
   "metadata": {},
   "outputs": [],
   "source": [
    "l = [12, 23, 45]"
   ]
  },
  {
   "cell_type": "code",
   "execution_count": 163,
   "id": "e567cc65-7764-4f02-90f8-9879bd86014f",
   "metadata": {},
   "outputs": [],
   "source": [
    "x, y, z = l"
   ]
  },
  {
   "cell_type": "code",
   "execution_count": 165,
   "id": "fd536339-5333-4765-acfe-88fb9ff9fdfb",
   "metadata": {},
   "outputs": [
    {
     "data": {
      "text/plain": [
       "12"
      ]
     },
     "execution_count": 165,
     "metadata": {},
     "output_type": "execute_result"
    }
   ],
   "source": [
    "x"
   ]
  },
  {
   "cell_type": "code",
   "execution_count": 167,
   "id": "249a94e5-efd4-461c-95a9-772205923665",
   "metadata": {},
   "outputs": [
    {
     "data": {
      "text/plain": [
       "23"
      ]
     },
     "execution_count": 167,
     "metadata": {},
     "output_type": "execute_result"
    }
   ],
   "source": [
    "y"
   ]
  },
  {
   "cell_type": "code",
   "execution_count": 169,
   "id": "d4dd1338-6cdb-4760-897e-e3669304821a",
   "metadata": {},
   "outputs": [
    {
     "data": {
      "text/plain": [
       "45"
      ]
     },
     "execution_count": 169,
     "metadata": {},
     "output_type": "execute_result"
    }
   ],
   "source": [
    "z"
   ]
  },
  {
   "cell_type": "code",
   "execution_count": 171,
   "id": "fd5f2301-2297-408e-bed3-81d56a17bf89",
   "metadata": {},
   "outputs": [],
   "source": [
    "# functions"
   ]
  },
  {
   "cell_type": "code",
   "execution_count": 173,
   "id": "56da11a7-88f3-4c49-84b2-1eb1b72f6f23",
   "metadata": {},
   "outputs": [
    {
     "data": {
      "text/plain": [
       "[12, 20, 89, 40, 12, 67]"
      ]
     },
     "execution_count": 173,
     "metadata": {},
     "output_type": "execute_result"
    }
   ],
   "source": [
    "l1"
   ]
  },
  {
   "cell_type": "code",
   "execution_count": 175,
   "id": "ec86f14a-a41a-43be-967c-12aa86893f7f",
   "metadata": {},
   "outputs": [
    {
     "data": {
      "text/plain": [
       "6"
      ]
     },
     "execution_count": 175,
     "metadata": {},
     "output_type": "execute_result"
    }
   ],
   "source": [
    "len(l1)"
   ]
  },
  {
   "cell_type": "code",
   "execution_count": 177,
   "id": "206d3efe-b406-4ab6-94fb-be877fbac27c",
   "metadata": {},
   "outputs": [
    {
     "data": {
      "text/plain": [
       "240"
      ]
     },
     "execution_count": 177,
     "metadata": {},
     "output_type": "execute_result"
    }
   ],
   "source": [
    "sum(l1)"
   ]
  },
  {
   "cell_type": "code",
   "execution_count": 179,
   "id": "d6a093bf-c9fd-4a6c-9583-9259d123e9c8",
   "metadata": {},
   "outputs": [
    {
     "data": {
      "text/plain": [
       "[12, 12, 20, 40, 67, 89]"
      ]
     },
     "execution_count": 179,
     "metadata": {},
     "output_type": "execute_result"
    }
   ],
   "source": [
    "sorted(l1)"
   ]
  },
  {
   "cell_type": "code",
   "execution_count": 181,
   "id": "71d52567-4504-4bb2-9539-d1d68961a076",
   "metadata": {},
   "outputs": [
    {
     "data": {
      "text/plain": [
       "[89, 67, 40, 20, 12, 12]"
      ]
     },
     "execution_count": 181,
     "metadata": {},
     "output_type": "execute_result"
    }
   ],
   "source": [
    "sorted(l1, reverse=True)"
   ]
  },
  {
   "cell_type": "code",
   "execution_count": 183,
   "id": "38fccb7c-23dd-44e7-a570-73a93cc1091c",
   "metadata": {},
   "outputs": [],
   "source": [
    "name = \"Pune\""
   ]
  },
  {
   "cell_type": "code",
   "execution_count": 185,
   "id": "184cbd72-7d3f-49ff-9b81-3f24d9b49ef8",
   "metadata": {},
   "outputs": [
    {
     "data": {
      "text/plain": [
       "['P', 'u', 'n', 'e']"
      ]
     },
     "execution_count": 185,
     "metadata": {},
     "output_type": "execute_result"
    }
   ],
   "source": [
    "list(name)"
   ]
  },
  {
   "cell_type": "code",
   "execution_count": 187,
   "id": "e46e1562-3ea2-490b-a600-8040ca8daafd",
   "metadata": {},
   "outputs": [],
   "source": [
    "# methods"
   ]
  },
  {
   "cell_type": "code",
   "execution_count": 189,
   "id": "631ec827-da12-4359-9177-2ae2b11bc057",
   "metadata": {},
   "outputs": [],
   "source": [
    "# adding an element at the end"
   ]
  },
  {
   "cell_type": "code",
   "execution_count": 191,
   "id": "a4bd4d62-f3a1-44f4-a847-ede20420da25",
   "metadata": {},
   "outputs": [
    {
     "data": {
      "text/plain": [
       "[12, 20, 89, 40, 12, 67]"
      ]
     },
     "execution_count": 191,
     "metadata": {},
     "output_type": "execute_result"
    }
   ],
   "source": [
    "l1"
   ]
  },
  {
   "cell_type": "code",
   "execution_count": 193,
   "id": "365c5c96-f391-4852-8f91-d9e71c8d76c5",
   "metadata": {},
   "outputs": [],
   "source": [
    "l1.append(100)"
   ]
  },
  {
   "cell_type": "code",
   "execution_count": 195,
   "id": "fe437aed-ed77-4cb6-b85a-b7373f4068be",
   "metadata": {},
   "outputs": [
    {
     "data": {
      "text/plain": [
       "[12, 20, 89, 40, 12, 67, 100]"
      ]
     },
     "execution_count": 195,
     "metadata": {},
     "output_type": "execute_result"
    }
   ],
   "source": [
    "l1"
   ]
  },
  {
   "cell_type": "code",
   "execution_count": 197,
   "id": "a0266b74-f638-416d-9106-e78eed1e85cb",
   "metadata": {},
   "outputs": [],
   "source": [
    "# append and extend"
   ]
  },
  {
   "cell_type": "code",
   "execution_count": 199,
   "id": "cbe9da83-27ca-4230-8faa-cdb401a55fce",
   "metadata": {},
   "outputs": [],
   "source": [
    "n1 = [12, 13, 14]\n",
    "n2 = [12, 13, 14]"
   ]
  },
  {
   "cell_type": "code",
   "execution_count": 201,
   "id": "8d863d28-8e24-456f-b6a7-96f0aec4884a",
   "metadata": {},
   "outputs": [],
   "source": [
    "n1.append([100, 200])\n",
    "n2.extend([100, 200])"
   ]
  },
  {
   "cell_type": "code",
   "execution_count": 203,
   "id": "504efe7f-9538-4212-84fe-1cb5c27be27b",
   "metadata": {},
   "outputs": [
    {
     "data": {
      "text/plain": [
       "[12, 13, 14, [100, 200]]"
      ]
     },
     "execution_count": 203,
     "metadata": {},
     "output_type": "execute_result"
    }
   ],
   "source": [
    "n1"
   ]
  },
  {
   "cell_type": "code",
   "execution_count": 205,
   "id": "2552ad5e-5575-42f0-867c-05f5ddf891be",
   "metadata": {},
   "outputs": [
    {
     "data": {
      "text/plain": [
       "[100, 200]"
      ]
     },
     "execution_count": 205,
     "metadata": {},
     "output_type": "execute_result"
    }
   ],
   "source": [
    "n1[3]"
   ]
  },
  {
   "cell_type": "code",
   "execution_count": 207,
   "id": "fd4aa4ab-6e20-43ce-9923-8bbb2aea9f7a",
   "metadata": {},
   "outputs": [
    {
     "data": {
      "text/plain": [
       "[12, 13, 14, 100, 200]"
      ]
     },
     "execution_count": 207,
     "metadata": {},
     "output_type": "execute_result"
    }
   ],
   "source": [
    "n2"
   ]
  },
  {
   "cell_type": "code",
   "execution_count": 211,
   "id": "5008e3f8-f5e1-4e9e-9291-2ae2d874d88c",
   "metadata": {},
   "outputs": [
    {
     "data": {
      "text/plain": [
       "100"
      ]
     },
     "execution_count": 211,
     "metadata": {},
     "output_type": "execute_result"
    }
   ],
   "source": [
    "n1[3][0]"
   ]
  },
  {
   "cell_type": "code",
   "execution_count": 213,
   "id": "7a2a7c38-7d1e-4506-a525-0e0f27a14d76",
   "metadata": {},
   "outputs": [
    {
     "data": {
      "text/plain": [
       "[12, 20, 89, 40, 12, 67, 100]"
      ]
     },
     "execution_count": 213,
     "metadata": {},
     "output_type": "execute_result"
    }
   ],
   "source": [
    "l1"
   ]
  },
  {
   "cell_type": "code",
   "execution_count": 215,
   "id": "0b6c76f2-c9d6-4b5f-b186-949fbcb14929",
   "metadata": {},
   "outputs": [],
   "source": [
    "l1.insert(1, 1000)"
   ]
  },
  {
   "cell_type": "code",
   "execution_count": 217,
   "id": "58ca3007-bcee-4d13-81b4-56a563e1b491",
   "metadata": {},
   "outputs": [
    {
     "data": {
      "text/plain": [
       "[12, 1000, 20, 89, 40, 12, 67, 100]"
      ]
     },
     "execution_count": 217,
     "metadata": {},
     "output_type": "execute_result"
    }
   ],
   "source": [
    "l1"
   ]
  },
  {
   "cell_type": "code",
   "execution_count": 219,
   "id": "9fb317c2-c753-477d-a5c2-4d2ea733d3f1",
   "metadata": {},
   "outputs": [],
   "source": [
    "l1.remove(1000)"
   ]
  },
  {
   "cell_type": "code",
   "execution_count": 221,
   "id": "a1f00c1a-1733-4131-9ead-635ce6cfc73d",
   "metadata": {},
   "outputs": [
    {
     "data": {
      "text/plain": [
       "[12, 20, 89, 40, 12, 67, 100]"
      ]
     },
     "execution_count": 221,
     "metadata": {},
     "output_type": "execute_result"
    }
   ],
   "source": [
    "l1"
   ]
  },
  {
   "cell_type": "code",
   "execution_count": 223,
   "id": "61dcfb2c-2795-4b56-9798-e0ce8acba516",
   "metadata": {},
   "outputs": [
    {
     "data": {
      "text/plain": [
       "100"
      ]
     },
     "execution_count": 223,
     "metadata": {},
     "output_type": "execute_result"
    }
   ],
   "source": [
    "l1.pop()"
   ]
  },
  {
   "cell_type": "code",
   "execution_count": 225,
   "id": "36ba8764-4397-4490-8199-fe05e6d54bb9",
   "metadata": {},
   "outputs": [
    {
     "data": {
      "text/plain": [
       "20"
      ]
     },
     "execution_count": 225,
     "metadata": {},
     "output_type": "execute_result"
    }
   ],
   "source": [
    "l1.pop(1)"
   ]
  },
  {
   "cell_type": "code",
   "execution_count": 227,
   "id": "07cf287b-f4ce-4ca1-9b70-5ed90c1e13d3",
   "metadata": {},
   "outputs": [
    {
     "data": {
      "text/plain": [
       "[12, 89, 40, 12, 67]"
      ]
     },
     "execution_count": 227,
     "metadata": {},
     "output_type": "execute_result"
    }
   ],
   "source": [
    "l1"
   ]
  },
  {
   "cell_type": "code",
   "execution_count": 229,
   "id": "8cc0adfb-ce21-4441-87d9-d0419d05ea6c",
   "metadata": {},
   "outputs": [
    {
     "data": {
      "text/plain": [
       "2"
      ]
     },
     "execution_count": 229,
     "metadata": {},
     "output_type": "execute_result"
    }
   ],
   "source": [
    "l1.index(40)"
   ]
  },
  {
   "cell_type": "code",
   "execution_count": 231,
   "id": "744a7b07-a540-4c94-beda-3d0daf8e8967",
   "metadata": {},
   "outputs": [
    {
     "data": {
      "text/plain": [
       "2"
      ]
     },
     "execution_count": 231,
     "metadata": {},
     "output_type": "execute_result"
    }
   ],
   "source": [
    "l1.count(12)"
   ]
  },
  {
   "cell_type": "code",
   "execution_count": 233,
   "id": "10a786a0-4409-4e5b-bed6-b6ee05bed868",
   "metadata": {},
   "outputs": [],
   "source": [
    "# copying/cloning a list"
   ]
  },
  {
   "cell_type": "code",
   "execution_count": 235,
   "id": "ef59a50b-caf1-4561-82de-b9819458f202",
   "metadata": {},
   "outputs": [
    {
     "data": {
      "text/plain": [
       "[12, 13, 14, [100, 200]]"
      ]
     },
     "execution_count": 235,
     "metadata": {},
     "output_type": "execute_result"
    }
   ],
   "source": [
    "n1"
   ]
  },
  {
   "cell_type": "code",
   "execution_count": 237,
   "id": "6c6e04c8-2765-4997-ac0e-904fd581fee3",
   "metadata": {},
   "outputs": [],
   "source": [
    "c1 = n1"
   ]
  },
  {
   "cell_type": "code",
   "execution_count": 239,
   "id": "6a4cc8e6-dcad-40ad-90ed-fe294ec95de6",
   "metadata": {},
   "outputs": [
    {
     "data": {
      "text/plain": [
       "[12, 13, 14, [100, 200]]"
      ]
     },
     "execution_count": 239,
     "metadata": {},
     "output_type": "execute_result"
    }
   ],
   "source": [
    "c1"
   ]
  },
  {
   "cell_type": "code",
   "execution_count": 242,
   "id": "5f43291b-86e8-4561-8775-f52d3fb84c65",
   "metadata": {},
   "outputs": [
    {
     "data": {
      "text/plain": [
       "[12, 13, 14, [100, 200], 1000]"
      ]
     },
     "execution_count": 242,
     "metadata": {},
     "output_type": "execute_result"
    }
   ],
   "source": [
    "n1.append(1000)\n",
    "n1"
   ]
  },
  {
   "cell_type": "code",
   "execution_count": 244,
   "id": "8544f57c-0e63-42e8-8e9e-7f2346b57876",
   "metadata": {},
   "outputs": [
    {
     "data": {
      "text/plain": [
       "[12, 13, 14, [100, 200], 1000]"
      ]
     },
     "execution_count": 244,
     "metadata": {},
     "output_type": "execute_result"
    }
   ],
   "source": [
    "c1"
   ]
  },
  {
   "cell_type": "code",
   "execution_count": 246,
   "id": "45cceeed-26fd-4c3b-a1e5-f8f89e639c86",
   "metadata": {},
   "outputs": [],
   "source": [
    "c1 = n1.copy()"
   ]
  },
  {
   "cell_type": "code",
   "execution_count": 248,
   "id": "19edf784-5281-44f8-b529-f080f99518a0",
   "metadata": {},
   "outputs": [
    {
     "data": {
      "text/plain": [
       "[12, 13, 14, [100, 200], 1000]"
      ]
     },
     "execution_count": 248,
     "metadata": {},
     "output_type": "execute_result"
    }
   ],
   "source": [
    "n1"
   ]
  },
  {
   "cell_type": "code",
   "execution_count": 252,
   "id": "9dfcedb8-ad23-49f9-8b3d-a03369bee24f",
   "metadata": {},
   "outputs": [
    {
     "data": {
      "text/plain": [
       "[12, 13, 14, [100, 200], 1000, 1000, 1000]"
      ]
     },
     "execution_count": 252,
     "metadata": {},
     "output_type": "execute_result"
    }
   ],
   "source": [
    "n1.append(1000)\n",
    "n1"
   ]
  },
  {
   "cell_type": "code",
   "execution_count": 254,
   "id": "314dba07-830b-4eb4-a7dc-1b5b4593e11d",
   "metadata": {},
   "outputs": [
    {
     "data": {
      "text/plain": [
       "[12, 13, 14, [100, 200], 1000]"
      ]
     },
     "execution_count": 254,
     "metadata": {},
     "output_type": "execute_result"
    }
   ],
   "source": [
    "c1"
   ]
  },
  {
   "cell_type": "code",
   "execution_count": 256,
   "id": "382dc02a-b6a3-4b55-8653-e7d27f874411",
   "metadata": {},
   "outputs": [
    {
     "data": {
      "text/plain": [
       "[12, 13, 14, [100, 200], 1000, 1000, 1000]"
      ]
     },
     "execution_count": 256,
     "metadata": {},
     "output_type": "execute_result"
    }
   ],
   "source": [
    "n1"
   ]
  },
  {
   "cell_type": "code",
   "execution_count": 258,
   "id": "a33acf60-12ee-4e67-89b0-47fbd250b0c8",
   "metadata": {},
   "outputs": [],
   "source": [
    "n1[3][0] = 214124"
   ]
  },
  {
   "cell_type": "code",
   "execution_count": 260,
   "id": "d50b2b59-c16a-4f75-b979-ba6e36952e98",
   "metadata": {},
   "outputs": [
    {
     "data": {
      "text/plain": [
       "[12, 13, 14, [214124, 200], 1000]"
      ]
     },
     "execution_count": 260,
     "metadata": {},
     "output_type": "execute_result"
    }
   ],
   "source": [
    "c1"
   ]
  },
  {
   "cell_type": "code",
   "execution_count": 278,
   "id": "76dddbd0-bb4a-42cf-aed6-6ad9370e1e51",
   "metadata": {},
   "outputs": [],
   "source": [
    "l = [12, 34, 67, 45, 90, 11, 45]"
   ]
  },
  {
   "cell_type": "code",
   "execution_count": 280,
   "id": "8b48fd86-2dd4-4434-83fa-e16df5ab8438",
   "metadata": {},
   "outputs": [],
   "source": [
    "# iterate over the list and print -> index -> value\n",
    "# eg=>   0 -> 12\n",
    "#        1 -> 34 and so on"
   ]
  },
  {
   "cell_type": "code",
   "execution_count": 282,
   "id": "5c31b36f-2bb6-4526-9c4f-38d51226e800",
   "metadata": {},
   "outputs": [
    {
     "name": "stdout",
     "output_type": "stream",
     "text": [
      "0  -> 12\n",
      "1  -> 34\n",
      "2  -> 67\n",
      "3  -> 45\n",
      "4  -> 90\n",
      "5  -> 11\n",
      "3  -> 45\n"
     ]
    }
   ],
   "source": [
    "for i in l:\n",
    "    print(f\"{l.index(i)}  -> {i}\")"
   ]
  },
  {
   "cell_type": "code",
   "execution_count": 288,
   "id": "f4822dd9-ec10-4358-8738-d55c1b43c300",
   "metadata": {},
   "outputs": [
    {
     "data": {
      "text/plain": [
       "[12, 34, 67, 45, 90, 11, 45]"
      ]
     },
     "execution_count": 288,
     "metadata": {},
     "output_type": "execute_result"
    }
   ],
   "source": [
    "l"
   ]
  },
  {
   "cell_type": "code",
   "execution_count": 294,
   "id": "5e4cab8f-f220-4227-8cee-9ff296258ce9",
   "metadata": {},
   "outputs": [
    {
     "data": {
      "text/plain": [
       "[(0, 12), (1, 34), (2, 67), (3, 45), (4, 90), (5, 11), (6, 45)]"
      ]
     },
     "execution_count": 294,
     "metadata": {},
     "output_type": "execute_result"
    }
   ],
   "source": [
    "list(enumerate(l, start = 0))"
   ]
  },
  {
   "cell_type": "code",
   "execution_count": 296,
   "id": "e9edad94-6f4d-4363-be64-6eb9280e7b33",
   "metadata": {},
   "outputs": [
    {
     "name": "stdout",
     "output_type": "stream",
     "text": [
      "0 -> 12\n",
      "1 -> 34\n",
      "2 -> 67\n",
      "3 -> 45\n",
      "4 -> 90\n",
      "5 -> 11\n",
      "6 -> 45\n"
     ]
    }
   ],
   "source": [
    "for ind, val in enumerate(l):\n",
    "    print(f\"{ind} -> {val}\")"
   ]
  },
  {
   "cell_type": "code",
   "execution_count": 298,
   "id": "b8bccecd-8645-42d4-92ec-1b943aae2fbb",
   "metadata": {},
   "outputs": [
    {
     "data": {
      "text/plain": [
       "[12, 34, 67, 45, 90, 11, 45]"
      ]
     },
     "execution_count": 298,
     "metadata": {},
     "output_type": "execute_result"
    }
   ],
   "source": [
    "l"
   ]
  },
  {
   "cell_type": "code",
   "execution_count": 300,
   "id": "2f339b5f-7947-42d4-adc1-3d3659c5b608",
   "metadata": {},
   "outputs": [],
   "source": [
    "l.clear()"
   ]
  },
  {
   "cell_type": "code",
   "execution_count": 302,
   "id": "e0722a18-8e8e-4b77-9d06-96f942c2d7d1",
   "metadata": {},
   "outputs": [
    {
     "data": {
      "text/plain": [
       "[]"
      ]
     },
     "execution_count": 302,
     "metadata": {},
     "output_type": "execute_result"
    }
   ],
   "source": [
    "l"
   ]
  },
  {
   "cell_type": "code",
   "execution_count": 304,
   "id": "5b526f08-76a9-4009-a482-b541908fb1c6",
   "metadata": {},
   "outputs": [
    {
     "name": "stdout",
     "output_type": "stream",
     "text": [
      "Help on class list in module builtins:\n",
      "\n",
      "class list(object)\n",
      " |  list(iterable=(), /)\n",
      " |  \n",
      " |  Built-in mutable sequence.\n",
      " |  \n",
      " |  If no argument is given, the constructor creates a new empty list.\n",
      " |  The argument must be an iterable if specified.\n",
      " |  \n",
      " |  Methods defined here:\n",
      " |  \n",
      " |  __add__(self, value, /)\n",
      " |      Return self+value.\n",
      " |  \n",
      " |  __contains__(self, key, /)\n",
      " |      Return key in self.\n",
      " |  \n",
      " |  __delitem__(self, key, /)\n",
      " |      Delete self[key].\n",
      " |  \n",
      " |  __eq__(self, value, /)\n",
      " |      Return self==value.\n",
      " |  \n",
      " |  __ge__(self, value, /)\n",
      " |      Return self>=value.\n",
      " |  \n",
      " |  __getattribute__(self, name, /)\n",
      " |      Return getattr(self, name).\n",
      " |  \n",
      " |  __getitem__(...)\n",
      " |      x.__getitem__(y) <==> x[y]\n",
      " |  \n",
      " |  __gt__(self, value, /)\n",
      " |      Return self>value.\n",
      " |  \n",
      " |  __iadd__(self, value, /)\n",
      " |      Implement self+=value.\n",
      " |  \n",
      " |  __imul__(self, value, /)\n",
      " |      Implement self*=value.\n",
      " |  \n",
      " |  __init__(self, /, *args, **kwargs)\n",
      " |      Initialize self.  See help(type(self)) for accurate signature.\n",
      " |  \n",
      " |  __iter__(self, /)\n",
      " |      Implement iter(self).\n",
      " |  \n",
      " |  __le__(self, value, /)\n",
      " |      Return self<=value.\n",
      " |  \n",
      " |  __len__(self, /)\n",
      " |      Return len(self).\n",
      " |  \n",
      " |  __lt__(self, value, /)\n",
      " |      Return self<value.\n",
      " |  \n",
      " |  __mul__(self, value, /)\n",
      " |      Return self*value.\n",
      " |  \n",
      " |  __ne__(self, value, /)\n",
      " |      Return self!=value.\n",
      " |  \n",
      " |  __repr__(self, /)\n",
      " |      Return repr(self).\n",
      " |  \n",
      " |  __reversed__(self, /)\n",
      " |      Return a reverse iterator over the list.\n",
      " |  \n",
      " |  __rmul__(self, value, /)\n",
      " |      Return value*self.\n",
      " |  \n",
      " |  __setitem__(self, key, value, /)\n",
      " |      Set self[key] to value.\n",
      " |  \n",
      " |  __sizeof__(self, /)\n",
      " |      Return the size of the list in memory, in bytes.\n",
      " |  \n",
      " |  append(self, object, /)\n",
      " |      Append object to the end of the list.\n",
      " |  \n",
      " |  clear(self, /)\n",
      " |      Remove all items from list.\n",
      " |  \n",
      " |  copy(self, /)\n",
      " |      Return a shallow copy of the list.\n",
      " |  \n",
      " |  count(self, value, /)\n",
      " |      Return number of occurrences of value.\n",
      " |  \n",
      " |  extend(self, iterable, /)\n",
      " |      Extend list by appending elements from the iterable.\n",
      " |  \n",
      " |  index(self, value, start=0, stop=9223372036854775807, /)\n",
      " |      Return first index of value.\n",
      " |      \n",
      " |      Raises ValueError if the value is not present.\n",
      " |  \n",
      " |  insert(self, index, object, /)\n",
      " |      Insert object before index.\n",
      " |  \n",
      " |  pop(self, index=-1, /)\n",
      " |      Remove and return item at index (default last).\n",
      " |      \n",
      " |      Raises IndexError if list is empty or index is out of range.\n",
      " |  \n",
      " |  remove(self, value, /)\n",
      " |      Remove first occurrence of value.\n",
      " |      \n",
      " |      Raises ValueError if the value is not present.\n",
      " |  \n",
      " |  reverse(self, /)\n",
      " |      Reverse *IN PLACE*.\n",
      " |  \n",
      " |  sort(self, /, *, key=None, reverse=False)\n",
      " |      Sort the list in ascending order and return None.\n",
      " |      \n",
      " |      The sort is in-place (i.e. the list itself is modified) and stable (i.e. the\n",
      " |      order of two equal elements is maintained).\n",
      " |      \n",
      " |      If a key function is given, apply it once to each list item and sort them,\n",
      " |      ascending or descending, according to their function values.\n",
      " |      \n",
      " |      The reverse flag can be set to sort in descending order.\n",
      " |  \n",
      " |  ----------------------------------------------------------------------\n",
      " |  Class methods defined here:\n",
      " |  \n",
      " |  __class_getitem__(...)\n",
      " |      See PEP 585\n",
      " |  \n",
      " |  ----------------------------------------------------------------------\n",
      " |  Static methods defined here:\n",
      " |  \n",
      " |  __new__(*args, **kwargs)\n",
      " |      Create and return a new object.  See help(type) for accurate signature.\n",
      " |  \n",
      " |  ----------------------------------------------------------------------\n",
      " |  Data and other attributes defined here:\n",
      " |  \n",
      " |  __hash__ = None\n",
      "\n"
     ]
    }
   ],
   "source": [
    "help(list)"
   ]
  },
  {
   "cell_type": "code",
   "execution_count": null,
   "id": "877012a9-c6ec-419e-8b99-a0b7e53ecdae",
   "metadata": {},
   "outputs": [],
   "source": []
  }
 ],
 "metadata": {
  "kernelspec": {
   "display_name": "Python 3 (ipykernel)",
   "language": "python",
   "name": "python3"
  },
  "language_info": {
   "codemirror_mode": {
    "name": "ipython",
    "version": 3
   },
   "file_extension": ".py",
   "mimetype": "text/x-python",
   "name": "python",
   "nbconvert_exporter": "python",
   "pygments_lexer": "ipython3",
   "version": "3.11.9"
  }
 },
 "nbformat": 4,
 "nbformat_minor": 5
}
